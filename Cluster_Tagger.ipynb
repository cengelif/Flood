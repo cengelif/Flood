{
 "cells": [
  {
   "cell_type": "code",
   "execution_count": 1,
   "metadata": {
    "collapsed": true
   },
   "outputs": [],
   "source": [
    "import pymongo as pm\n",
    "from pymongo import MongoClient\n",
    "import configparser"
   ]
  },
  {
   "cell_type": "markdown",
   "metadata": {},
   "source": [
    "# Connect to MongoDB;"
   ]
  },
  {
   "cell_type": "code",
   "execution_count": 2,
   "metadata": {
    "collapsed": true
   },
   "outputs": [],
   "source": [
    "def connect_mongodb(configfile=\"myconfig.ini\", coll_name=None):\n",
    "\n",
    "# Config Parser;\n",
    "    config = configparser.ConfigParser()\n",
    "    config.read(configfile)\n",
    "# MongoLab OAuth;\n",
    "    client_host = config.get('mongodb', 'client_host')\n",
    "    client_port = int(config.get('mongodb', 'client_port'))\n",
    "    db_name = config.get('mongodb', 'db_name')\n",
    "    if coll_name is None:\n",
    "        coll_name = config.get('mongodb', 'coll_name')\n",
    "    if config.has_option('mongodb', 'user_name'):\n",
    "        user_name = config.get('mongodb', 'user_name')\n",
    "    if config.has_option('mongodb', 'passwd'):\n",
    "        passwd = config.get('mongodb', 'passwd')\n",
    "# Connect to database;\n",
    "    try:\n",
    "        connection = pm.MongoClient(client_host, client_port)\n",
    "        rlvdb = connection[db_name]  # Database\n",
    "        if ('user_name' in locals()) and ('passwd' in locals()):\n",
    "            rlvdb.authenticate(user_name, passwd)\n",
    "        rlvcl = rlvdb[coll_name]  # Collection\n",
    "    except Exception:\n",
    "        sys.exit(\"Database connection failed!\")\n",
    "\n",
    "    return rlvdb, rlvcl"
   ]
  },
  {
   "cell_type": "code",
   "execution_count": 3,
   "metadata": {
    "collapsed": true
   },
   "outputs": [],
   "source": [
    "myalldata, all_data_clusters = connect_mongodb(configfile='myalldata.ini', coll_name='all_data_clusters')"
   ]
  },
  {
   "cell_type": "code",
   "execution_count": 4,
   "metadata": {
    "collapsed": true
   },
   "outputs": [],
   "source": [
    "myalldata2, tagged_clusters = connect_mongodb(configfile='myalldata.ini', coll_name='eva_data')"
   ]
  },
  {
   "cell_type": "markdown",
   "metadata": {},
   "source": [
    "# Tag the clusters and write to DB;"
   ]
  },
  {
   "cell_type": "code",
   "execution_count": 5,
   "metadata": {
    "collapsed": false
   },
   "outputs": [],
   "source": [
    "def tag_clusters(input_collection, tagged_collection):\n",
    "\n",
    "    i = 0\n",
    "\n",
    "    for cluster in input_collection.find():\n",
    "    \n",
    "        i += 1\n",
    "    \n",
    "        print(\"\\n\\nSome tweets in the cluster \" + str(i) + \" ; \\n\")\n",
    "    \n",
    "        for tweet in cluster[\"ctweettuplelist\"][:5]:\n",
    "            print(tweet[2])\n",
    "\n",
    "        a = len(cluster[\"ctweettuplelist\"])\n",
    "      \n",
    "        for tweet in cluster[\"ctweettuplelist\"][a-5:a]:\n",
    "            print(tweet[2])\n",
    "\n",
    "        objID = cluster[\"_id\"]\n",
    "    \n",
    "        if (tagged_collection.find({\"_id\" : objID}).count() > 0):\n",
    "\n",
    "            print(\"\\nWarning: These tweets are already tagged as \\\"\" \n",
    "                    + tagged_collection.find_one({\"_id\" : objID})[\"class\"] + \"\\\".\")\n",
    "\n",
    "            while True:\n",
    "                check_it = (input(\"Are they tagged correctly? [Y/n]: \") or \"y\").lower()\n",
    "                if check_it not in [\"y\",\"yes\", \"n\", \"no\"]:\n",
    "                    print(\"\\nError: Argument is invalid. Please enter again [Y/n]:\")\n",
    "                else:\n",
    "                    break\n",
    "\n",
    "            if (check_it in [\"y\",\"yes\"]):\n",
    "\n",
    "                continue;\n",
    "\n",
    "            elif (check_it in [\"n\", \"no\"]):\n",
    "\n",
    "                tagged_collection.remove({\"_id\" : objID})\n",
    "            \n",
    "                modified = input(\"The corret tag of these tweets is... (test, futbol, politics) : \")\n",
    "\n",
    "                cluster[\"class\"] = modified\n",
    "\n",
    "                tagged_collection.insert(cluster)\n",
    "    \n",
    "           \n",
    "        else:\n",
    "            \n",
    "            tag = input(\"These tweets are about... (test, futbol, politics) : \")\n",
    "            \n",
    "            cluster[\"class\"] = tag\n",
    "            \n",
    "            tagged_collection.insert(cluster)\n",
    "    \n",
    "\n",
    "    print(\"All clusters are tagged.\")"
   ]
  },
  {
   "cell_type": "code",
   "execution_count": 6,
   "metadata": {
    "collapsed": true
   },
   "outputs": [
    {
     "name": "stdout",
     "output_type": "stream",
     "text": [
      "\n",
      "\n",
      "Some tweets in the cluster 1 ; \n",
      "\n",
      "Test\n",
      "Test\n",
      "Test\n",
      "Test\n",
      "Test\n",
      "*Test\n",
      "Test\n",
      "Test\n",
      "Test\n",
      "Test\n",
      "\n",
      "Warning: These tweets are already tagged as \"test\".\n",
      "Are they tagged correctly? [Y/n]: ge\n",
      "\n",
      "Error: Argument is invalid. Please enter again [Y/n]:\n",
      "Are they tagged correctly? [Y/n]: Yes\n",
      "\n",
      "\n",
      "Some tweets in the cluster 2 ; \n",
      "\n",
      "test\n",
      "test\n",
      "test\n",
      "test\n",
      "test\n",
      "test\n",
      "test\n",
      "test\n",
      "test\n",
      "test\n",
      "\n",
      "Warning: These tweets are already tagged as \"test\".\n",
      "Are they tagged correctly? [Y/n]: no\n",
      "The corret tag of these tweets is... (test, futbol, politics) : test\n",
      "\n",
      "\n",
      "Some tweets in the cluster 3 ; \n",
      "\n",
      "Newsletter for test created automatically http://t.co/hl5PdYeeOI http://t.co/gok1cUCWIV\n",
      "Newsletter for test created automatically http://t.co/hl5PdYeeOI http://t.co/RKBklRkqfx\n",
      "Newsletter for test created automatically http://t.co/hl5PdYeeOI http://t.co/jdQB5sZC1H\n",
      "Newsletter for test created automatically http://t.co/hl5PdYeeOI http://t.co/t21OuznJ6o\n",
      "Newsletter for test created automatically http://t.co/hl5PdYeeOI http://t.co/RTmqFAxG46\n",
      "Newsletter for test created automatically http://t.co/hl5PdYeeOI http://t.co/XNEE1qHrl9\n",
      "Newsletter for test created automatically http://t.co/hl5PdYeeOI http://t.co/xIk3upa1oR\n",
      "Newsletter for test created automatically http://t.co/hl5PdYeeOI http://t.co/mWl000s2fq\n",
      "Newsletter for test created automatically http://t.co/hl5PdYeeOI http://t.co/z31GdZBbMj\n",
      "Newsletter for test created automatically http://t.co/hl5PdYeeOI http://t.co/ocvs9ngjlr\n"
     ]
    },
    {
     "ename": "KeyboardInterrupt",
     "evalue": "",
     "output_type": "error",
     "traceback": [
      "\u001b[1;31m---------------------------------------------------------------------------\u001b[0m",
      "\u001b[1;31mKeyboardInterrupt\u001b[0m                         Traceback (most recent call last)",
      "\u001b[1;32m/home/narkem/Anaconda3/lib/python3.4/site-packages/IPython/kernel/zmq/kernelbase.py\u001b[0m in \u001b[0;36m_input_request\u001b[1;34m(self, prompt, ident, parent, password)\u001b[0m\n\u001b[0;32m    675\u001b[0m             \u001b[1;32mtry\u001b[0m\u001b[1;33m:\u001b[0m\u001b[1;33m\u001b[0m\u001b[0m\n\u001b[1;32m--> 676\u001b[1;33m                 \u001b[0mident\u001b[0m\u001b[1;33m,\u001b[0m \u001b[0mreply\u001b[0m \u001b[1;33m=\u001b[0m \u001b[0mself\u001b[0m\u001b[1;33m.\u001b[0m\u001b[0msession\u001b[0m\u001b[1;33m.\u001b[0m\u001b[0mrecv\u001b[0m\u001b[1;33m(\u001b[0m\u001b[0mself\u001b[0m\u001b[1;33m.\u001b[0m\u001b[0mstdin_socket\u001b[0m\u001b[1;33m,\u001b[0m \u001b[1;36m0\u001b[0m\u001b[1;33m)\u001b[0m\u001b[1;33m\u001b[0m\u001b[0m\n\u001b[0m\u001b[0;32m    677\u001b[0m             \u001b[1;32mexcept\u001b[0m \u001b[0mException\u001b[0m\u001b[1;33m:\u001b[0m\u001b[1;33m\u001b[0m\u001b[0m\n",
      "\u001b[1;32m/home/narkem/Anaconda3/lib/python3.4/site-packages/IPython/kernel/zmq/session.py\u001b[0m in \u001b[0;36mrecv\u001b[1;34m(self, socket, mode, content, copy)\u001b[0m\n\u001b[0;32m    718\u001b[0m         \u001b[1;32mtry\u001b[0m\u001b[1;33m:\u001b[0m\u001b[1;33m\u001b[0m\u001b[0m\n\u001b[1;32m--> 719\u001b[1;33m             \u001b[0mmsg_list\u001b[0m \u001b[1;33m=\u001b[0m \u001b[0msocket\u001b[0m\u001b[1;33m.\u001b[0m\u001b[0mrecv_multipart\u001b[0m\u001b[1;33m(\u001b[0m\u001b[0mmode\u001b[0m\u001b[1;33m,\u001b[0m \u001b[0mcopy\u001b[0m\u001b[1;33m=\u001b[0m\u001b[0mcopy\u001b[0m\u001b[1;33m)\u001b[0m\u001b[1;33m\u001b[0m\u001b[0m\n\u001b[0m\u001b[0;32m    720\u001b[0m         \u001b[1;32mexcept\u001b[0m \u001b[0mzmq\u001b[0m\u001b[1;33m.\u001b[0m\u001b[0mZMQError\u001b[0m \u001b[1;32mas\u001b[0m \u001b[0me\u001b[0m\u001b[1;33m:\u001b[0m\u001b[1;33m\u001b[0m\u001b[0m\n",
      "\u001b[1;32m/home/narkem/Anaconda3/lib/python3.4/site-packages/zmq/sugar/socket.py\u001b[0m in \u001b[0;36mrecv_multipart\u001b[1;34m(self, flags, copy, track)\u001b[0m\n\u001b[0;32m    357\u001b[0m         \"\"\"\n\u001b[1;32m--> 358\u001b[1;33m         \u001b[0mparts\u001b[0m \u001b[1;33m=\u001b[0m \u001b[1;33m[\u001b[0m\u001b[0mself\u001b[0m\u001b[1;33m.\u001b[0m\u001b[0mrecv\u001b[0m\u001b[1;33m(\u001b[0m\u001b[0mflags\u001b[0m\u001b[1;33m,\u001b[0m \u001b[0mcopy\u001b[0m\u001b[1;33m=\u001b[0m\u001b[0mcopy\u001b[0m\u001b[1;33m,\u001b[0m \u001b[0mtrack\u001b[0m\u001b[1;33m=\u001b[0m\u001b[0mtrack\u001b[0m\u001b[1;33m)\u001b[0m\u001b[1;33m]\u001b[0m\u001b[1;33m\u001b[0m\u001b[0m\n\u001b[0m\u001b[0;32m    359\u001b[0m         \u001b[1;31m# have first part already, only loop while more to receive\u001b[0m\u001b[1;33m\u001b[0m\u001b[1;33m\u001b[0m\u001b[0m\n",
      "\u001b[1;32mzmq/backend/cython/socket.pyx\u001b[0m in \u001b[0;36mzmq.backend.cython.socket.Socket.recv (zmq/backend/cython/socket.c:6507)\u001b[1;34m()\u001b[0m\n",
      "\u001b[1;32mzmq/backend/cython/socket.pyx\u001b[0m in \u001b[0;36mzmq.backend.cython.socket.Socket.recv (zmq/backend/cython/socket.c:6307)\u001b[1;34m()\u001b[0m\n",
      "\u001b[1;32mzmq/backend/cython/socket.pyx\u001b[0m in \u001b[0;36mzmq.backend.cython.socket._recv_copy (zmq/backend/cython/socket.c:1877)\u001b[1;34m()\u001b[0m\n",
      "\u001b[1;32m/home/narkem/Anaconda3/lib/python3.4/site-packages/zmq/backend/cython/checkrc.pxd\u001b[0m in \u001b[0;36mzmq.backend.cython.checkrc._check_rc (zmq/backend/cython/socket.c:6758)\u001b[1;34m()\u001b[0m\n\u001b[0;32m     11\u001b[0m     \u001b[0mcdef\u001b[0m \u001b[0mint\u001b[0m \u001b[0merrno\u001b[0m \u001b[1;33m=\u001b[0m \u001b[0mzmq_errno\u001b[0m\u001b[1;33m(\u001b[0m\u001b[1;33m)\u001b[0m\u001b[1;33m\u001b[0m\u001b[0m\n\u001b[1;32m---> 12\u001b[1;33m     \u001b[0mPyErr_CheckSignals\u001b[0m\u001b[1;33m(\u001b[0m\u001b[1;33m)\u001b[0m\u001b[1;33m\u001b[0m\u001b[0m\n\u001b[0m\u001b[0;32m     13\u001b[0m     \u001b[1;32mif\u001b[0m \u001b[0mrc\u001b[0m \u001b[1;33m<\u001b[0m \u001b[1;36m0\u001b[0m\u001b[1;33m:\u001b[0m\u001b[1;33m\u001b[0m\u001b[0m\n",
      "\u001b[1;31mKeyboardInterrupt\u001b[0m: ",
      "\nDuring handling of the above exception, another exception occurred:\n",
      "\u001b[1;31mKeyboardInterrupt\u001b[0m                         Traceback (most recent call last)",
      "\u001b[1;32m<ipython-input-6-c21fb7e3cd7b>\u001b[0m in \u001b[0;36m<module>\u001b[1;34m()\u001b[0m\n\u001b[1;32m----> 1\u001b[1;33m \u001b[0mtag_clusters\u001b[0m\u001b[1;33m(\u001b[0m\u001b[0mall_data_clusters\u001b[0m\u001b[1;33m,\u001b[0m \u001b[0mtagged_clusters\u001b[0m\u001b[1;33m)\u001b[0m\u001b[1;33m\u001b[0m\u001b[0m\n\u001b[0m",
      "\u001b[1;32m<ipython-input-5-3a85bd63ef82>\u001b[0m in \u001b[0;36mtag_clusters\u001b[1;34m(input_collection, tagged_collection)\u001b[0m\n\u001b[0;32m     48\u001b[0m         \u001b[1;32melse\u001b[0m\u001b[1;33m:\u001b[0m\u001b[1;33m\u001b[0m\u001b[0m\n\u001b[0;32m     49\u001b[0m \u001b[1;33m\u001b[0m\u001b[0m\n\u001b[1;32m---> 50\u001b[1;33m             \u001b[0mtag\u001b[0m \u001b[1;33m=\u001b[0m \u001b[0minput\u001b[0m\u001b[1;33m(\u001b[0m\u001b[1;34m\"These tweets are about... (test, futbol, politics) : \"\u001b[0m\u001b[1;33m)\u001b[0m\u001b[1;33m\u001b[0m\u001b[0m\n\u001b[0m\u001b[0;32m     51\u001b[0m \u001b[1;33m\u001b[0m\u001b[0m\n\u001b[0;32m     52\u001b[0m             \u001b[0mcluster\u001b[0m\u001b[1;33m[\u001b[0m\u001b[1;34m\"class\"\u001b[0m\u001b[1;33m]\u001b[0m \u001b[1;33m=\u001b[0m \u001b[0mtag\u001b[0m\u001b[1;33m\u001b[0m\u001b[0m\n",
      "\u001b[1;32m/home/narkem/Anaconda3/lib/python3.4/site-packages/IPython/kernel/zmq/kernelbase.py\u001b[0m in \u001b[0;36mraw_input\u001b[1;34m(self, prompt)\u001b[0m\n\u001b[0;32m    649\u001b[0m             \u001b[0mself\u001b[0m\u001b[1;33m.\u001b[0m\u001b[0m_parent_ident\u001b[0m\u001b[1;33m,\u001b[0m\u001b[1;33m\u001b[0m\u001b[0m\n\u001b[0;32m    650\u001b[0m             \u001b[0mself\u001b[0m\u001b[1;33m.\u001b[0m\u001b[0m_parent_header\u001b[0m\u001b[1;33m,\u001b[0m\u001b[1;33m\u001b[0m\u001b[0m\n\u001b[1;32m--> 651\u001b[1;33m             \u001b[0mpassword\u001b[0m\u001b[1;33m=\u001b[0m\u001b[1;32mFalse\u001b[0m\u001b[1;33m,\u001b[0m\u001b[1;33m\u001b[0m\u001b[0m\n\u001b[0m\u001b[0;32m    652\u001b[0m         )\n\u001b[0;32m    653\u001b[0m \u001b[1;33m\u001b[0m\u001b[0m\n",
      "\u001b[1;32m/home/narkem/Anaconda3/lib/python3.4/site-packages/IPython/kernel/zmq/kernelbase.py\u001b[0m in \u001b[0;36m_input_request\u001b[1;34m(self, prompt, ident, parent, password)\u001b[0m\n\u001b[0;32m    679\u001b[0m             \u001b[1;32mexcept\u001b[0m \u001b[0mKeyboardInterrupt\u001b[0m\u001b[1;33m:\u001b[0m\u001b[1;33m\u001b[0m\u001b[0m\n\u001b[0;32m    680\u001b[0m                 \u001b[1;31m# re-raise KeyboardInterrupt, to truncate traceback\u001b[0m\u001b[1;33m\u001b[0m\u001b[1;33m\u001b[0m\u001b[0m\n\u001b[1;32m--> 681\u001b[1;33m                 \u001b[1;32mraise\u001b[0m \u001b[0mKeyboardInterrupt\u001b[0m\u001b[1;33m\u001b[0m\u001b[0m\n\u001b[0m\u001b[0;32m    682\u001b[0m             \u001b[1;32melse\u001b[0m\u001b[1;33m:\u001b[0m\u001b[1;33m\u001b[0m\u001b[0m\n\u001b[0;32m    683\u001b[0m                 \u001b[1;32mbreak\u001b[0m\u001b[1;33m\u001b[0m\u001b[0m\n",
      "\u001b[1;31mKeyboardInterrupt\u001b[0m: "
     ]
    }
   ],
   "source": [
    "tag_clusters(all_data_clusters, tagged_clusters)"
   ]
  },
  {
   "cell_type": "markdown",
   "metadata": {},
   "source": [
    "# Remove all data in collection if needed;"
   ]
  },
  {
   "cell_type": "code",
   "execution_count": 10,
   "metadata": {
    "collapsed": true
   },
   "outputs": [
    {
     "data": {
      "text/plain": [
       "{'electionId': ObjectId('55df5b58a487ebf5742f1556'),\n",
       " 'lastOp': Timestamp(1441960086, 5),\n",
       " 'n': 4,\n",
       " 'ok': 1}"
      ]
     },
     "execution_count": 10,
     "metadata": {},
     "output_type": "execute_result"
    }
   ],
   "source": [
    "tagged_clusters.remove()"
   ]
  }
 ],
 "metadata": {
  "kernelspec": {
   "display_name": "Python 3",
   "language": "python",
   "name": "python3"
  },
  "language_info": {
   "codemirror_mode": {
    "name": "ipython",
    "version": 3
   },
   "file_extension": ".py",
   "mimetype": "text/x-python",
   "name": "python",
   "nbconvert_exporter": "python",
   "pygments_lexer": "ipython3",
   "version": "3.4.3"
  }
 },
 "nbformat": 4,
 "nbformat_minor": 0
}
