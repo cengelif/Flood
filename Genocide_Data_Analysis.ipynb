{
 "cells": [
  {
   "cell_type": "code",
   "execution_count": 1,
   "metadata": {
    "collapsed": true
   },
   "outputs": [],
   "source": [
    "import timeit\n",
    "import importlib\n",
    "import relevancer as rlv\n",
    "import pandas as pd\n",
    "from sklearn.naive_bayes import MultinomialNB \n",
    "from bson.objectid import ObjectId\n",
    "from collections import Counter\n",
    "import numpy as np\n",
    "\n",
    "pd.set_option(\"display.max_colwidth\",200)\n"
   ]
  },
  {
   "cell_type": "code",
   "execution_count": 2,
   "metadata": {
    "collapsed": false
   },
   "outputs": [],
   "source": [
    "# this is just to load the latest version of the Relevancer after we edit the code.\n",
    "importlib.reload(rlv)\n",
    "active_col = \"active_text\"\n",
    "rlv.set_active_column(active_col)\n"
   ]
  },
  {
   "cell_type": "code",
   "execution_count": 3,
   "metadata": {
    "collapsed": false
   },
   "outputs": [],
   "source": [
    "#importlib.reload(rlv)\n",
    "my_token_pattern=r\"[#@]?\\w+\\b|[\\U00010000-\\U0010ffff]\"\n",
    "rlvdb, rlvcl = rlv.connect_mongodb(configfile='elifdb.ini',coll_name=\"testcl\")\n",
    "# set active columns\n",
    "active_col = \"active_text\"\n",
    "rlv.set_active_column(active_col)"
   ]
  },
  {
   "cell_type": "code",
   "execution_count": 4,
   "metadata": {
    "collapsed": false
   },
   "outputs": [
    {
     "name": "stdout",
     "output_type": "stream",
     "text": [
      "Number of tweets: 391649\n"
     ]
    }
   ],
   "source": [
    "importlib.reload(rlv)\n",
    "\n",
    "# after the first iteration, the annotated clusters should be excluded from the clustering.\n",
    "# read this file from the tagged collection.\n",
    "annotated_tw_ids = ['563657483395530753', '563662532326330370', '563654330041909248', '563654944927281152', '563657924233289728', '563661021559390208', '563651950386757632', '563657164317667328', '563660271810383872', '563662538949160960'] #You should get the actual annotated tweet ids from the annotated tweets collection.\n",
    "#annotated_tw_ids = []\n",
    "# mongo_query=({'_id': {'$gte': begin, '$lte': end},'lang':'en'})\n",
    "tweetlist = rlv.read_json_tweet_fields_database(rlvcl, mongo_query=({}), read_fields={'text': 1, 'id_str': 1, '_id': 0, 'user_id': 1}, tweet_count=-1, annotated_ids=annotated_tw_ids)#=tweetsDF)\n",
    "\n",
    "rlv.logging.info(\"Number of tweets:\" + str(len(tweetlist)))\n",
    "print(\"Number of tweets:\",len(tweetlist))"
   ]
  },
  {
   "cell_type": "code",
   "execution_count": 5,
   "metadata": {
    "collapsed": false
   },
   "outputs": [
    {
     "name": "stdout",
     "output_type": "stream",
     "text": [
      "391649\n"
     ]
    },
    {
     "data": {
      "text/html": [
       "<div>\n",
       "<table border=\"1\" class=\"dataframe\">\n",
       "  <thead>\n",
       "    <tr style=\"text-align: right;\">\n",
       "      <th></th>\n",
       "      <th>id_str</th>\n",
       "      <th>is_retweet</th>\n",
       "      <th>text</th>\n",
       "      <th>user_id</th>\n",
       "    </tr>\n",
       "  </thead>\n",
       "  <tbody>\n",
       "    <tr>\n",
       "      <th>0</th>\n",
       "      <td>615329612881612800</td>\n",
       "      <td>False</td>\n",
       "      <td>RT @kararsizatom: Do you have an idea to stop this genocide? #StopTerrorisminChina @carlbildt http://t.co/edq1P8nTtw</td>\n",
       "      <td>1381676425</td>\n",
       "    </tr>\n",
       "    <tr>\n",
       "      <th>1</th>\n",
       "      <td>605474184714543104</td>\n",
       "      <td>False</td>\n",
       "      <td>RT @RumBegum: This situation won't go viral because it's Muslims being killed not Muslims killing #Rohingya #UNMustSaveBurmaMuslims http://…</td>\n",
       "      <td>2831033527</td>\n",
       "    </tr>\n",
       "    <tr>\n",
       "      <th>2</th>\n",
       "      <td>613073957319782400</td>\n",
       "      <td>False</td>\n",
       "      <td>@eurireland The second GENOCIDE against #Biafrans as promised by #Buhari has begun, 3 days of unreported aerial Bombardment in #Biafraland</td>\n",
       "      <td>2188829916</td>\n",
       "    </tr>\n",
       "    <tr>\n",
       "      <th>3</th>\n",
       "      <td>613337519753555968</td>\n",
       "      <td>False</td>\n",
       "      <td>RT @WachukwuGodwin: @BBCScotlandNews #Buhari &amp;amp; Nigeria declare war on #Biafra killing 100s of innocent Biafrans wit Napalm bombs GENOCIDE h…</td>\n",
       "      <td>1173943710</td>\n",
       "    </tr>\n",
       "    <tr>\n",
       "      <th>4</th>\n",
       "      <td>605477505651359744</td>\n",
       "      <td>False</td>\n",
       "      <td>#ModiMinistry Obama says Myanmar needs to end discrimination of Rohingya to succeed\\n| Reuters http://t.co/zmagjFtMH8</td>\n",
       "      <td>2425268995</td>\n",
       "    </tr>\n",
       "  </tbody>\n",
       "</table>\n",
       "</div>"
      ],
      "text/plain": [
       "               id_str is_retweet  \\\n",
       "0  615329612881612800      False   \n",
       "1  605474184714543104      False   \n",
       "2  613073957319782400      False   \n",
       "3  613337519753555968      False   \n",
       "4  605477505651359744      False   \n",
       "\n",
       "                                                                                                                                               text  \\\n",
       "0                              RT @kararsizatom: Do you have an idea to stop this genocide? #StopTerrorisminChina @carlbildt http://t.co/edq1P8nTtw   \n",
       "1      RT @RumBegum: This situation won't go viral because it's Muslims being killed not Muslims killing #Rohingya #UNMustSaveBurmaMuslims http://…   \n",
       "2        @eurireland The second GENOCIDE against #Biafrans as promised by #Buhari has begun, 3 days of unreported aerial Bombardment in #Biafraland   \n",
       "3  RT @WachukwuGodwin: @BBCScotlandNews #Buhari &amp; Nigeria declare war on #Biafra killing 100s of innocent Biafrans wit Napalm bombs GENOCIDE h…   \n",
       "4                             #ModiMinistry Obama says Myanmar needs to end discrimination of Rohingya to succeed\\n| Reuters http://t.co/zmagjFtMH8   \n",
       "\n",
       "      user_id  \n",
       "0  1381676425  \n",
       "1  2831033527  \n",
       "2  2188829916  \n",
       "3  1173943710  \n",
       "4  2425268995  "
      ]
     },
     "execution_count": 5,
     "metadata": {},
     "output_type": "execute_result"
    }
   ],
   "source": [
    "tweetsDF = rlv.create_dataframe(tweetlist)\n",
    "tweetsDF.head()"
   ]
  },
  {
   "cell_type": "code",
   "execution_count": 6,
   "metadata": {
    "collapsed": false
   },
   "outputs": [
    {
     "data": {
      "text/plain": [
       "391649"
      ]
     },
     "execution_count": 6,
     "metadata": {},
     "output_type": "execute_result"
    }
   ],
   "source": [
    "len(tweetsDF)"
   ]
  },
  {
   "cell_type": "code",
   "execution_count": 187,
   "metadata": {
    "collapsed": true
   },
   "outputs": [],
   "source": [
    "#tweetsDF.to_pickle(\"20151005_tweetsDF_Genocide\")"
   ]
  },
  {
   "cell_type": "code",
   "execution_count": 8,
   "metadata": {
    "collapsed": false
   },
   "outputs": [],
   "source": [
    "# Be careful do not overwrite tweetsDFBackUP with a modified tweetsDF\n",
    "#tweetsDFBackUP = tweetsDF.copy()\n",
    "#len(tweetsDFBackUP)"
   ]
  },
  {
   "cell_type": "code",
   "execution_count": 14,
   "metadata": {
    "collapsed": false
   },
   "outputs": [
    {
     "ename": "NameError",
     "evalue": "name 'tweetsDFBackUP' is not defined",
     "output_type": "error",
     "traceback": [
      "\u001b[1;31m---------------------------------------------------------------------------\u001b[0m",
      "\u001b[1;31mNameError\u001b[0m                                 Traceback (most recent call last)",
      "\u001b[1;32m<ipython-input-14-57e04d3b9f5e>\u001b[0m in \u001b[0;36m<module>\u001b[1;34m()\u001b[0m\n\u001b[0;32m      1\u001b[0m \u001b[1;31m# Get a clean copy\u001b[0m\u001b[1;33m\u001b[0m\u001b[1;33m\u001b[0m\u001b[0m\n\u001b[0;32m      2\u001b[0m \u001b[1;31m#importlib.reload(rlv)\u001b[0m\u001b[1;33m\u001b[0m\u001b[1;33m\u001b[0m\u001b[0m\n\u001b[1;32m----> 3\u001b[1;33m \u001b[0mtweetsDF\u001b[0m \u001b[1;33m=\u001b[0m \u001b[0mtweetsDFBackUP\u001b[0m\u001b[1;33m.\u001b[0m\u001b[0mcopy\u001b[0m\u001b[1;33m(\u001b[0m\u001b[1;33m)\u001b[0m\u001b[1;33m\u001b[0m\u001b[0m\n\u001b[0m\u001b[0;32m      4\u001b[0m \u001b[0mlen\u001b[0m\u001b[1;33m(\u001b[0m\u001b[0mtweetsDF\u001b[0m\u001b[1;33m)\u001b[0m\u001b[1;33m\u001b[0m\u001b[0m\n",
      "\u001b[1;31mNameError\u001b[0m: name 'tweetsDFBackUP' is not defined"
     ]
    }
   ],
   "source": [
    "# Get a clean copy \n",
    "#importlib.reload(rlv)\n",
    "tweetsDF = tweetsDFBackUP.copy()\n",
    "len(tweetsDF)"
   ]
  },
  {
   "cell_type": "code",
   "execution_count": 7,
   "metadata": {
    "collapsed": false
   },
   "outputs": [
    {
     "name": "stdout",
     "output_type": "stream",
     "text": [
      "\n",
      "Available attributes of the tweets: Index(['id_str', 'is_retweet', 'text', 'user_id', 'active_text', 'texttok'], dtype='object')\n",
      "<class 'pandas.core.frame.DataFrame'>\n",
      "Int64Index: 391649 entries, 0 to 391648\n",
      "Data columns (total 6 columns):\n",
      "id_str         391649 non-null object\n",
      "is_retweet     391649 non-null bool\n",
      "text           391649 non-null object\n",
      "user_id        391649 non-null object\n",
      "active_text    391649 non-null object\n",
      "texttok        391649 non-null object\n",
      "dtypes: bool(1), object(5)\n",
      "memory usage: 18.3+ MB\n",
      "\n",
      "tweet set summary: None\n",
      "0                                RT @kararsizatom: Do you have an idea to stop this genocide? #StopTerrorisminChina @carlbildt http://t.co/edq1P8nTtw\n",
      "1        RT @RumBegum: This situation won't go viral because it's Muslims being killed not Muslims killing #Rohingya #UNMustSaveBurmaMuslims http://…\n",
      "2          @eurireland The second GENOCIDE against #Biafrans as promised by #Buhari has begun, 3 days of unreported aerial Bombardment in #Biafraland\n",
      "3    RT @WachukwuGodwin: @BBCScotlandNews #Buhari &amp; Nigeria declare war on #Biafra killing 100s of innocent Biafrans wit Napalm bombs GENOCIDE h…\n",
      "4                               #ModiMinistry Obama says Myanmar needs to end discrimination of Rohingya to succeed\\n| Reuters http://t.co/zmagjFtMH8\n",
      "Name: text, dtype: object\n",
      "\n",
      "tweets are NOT tokenized.\n",
      "Retweets were eliminated.\n"
     ]
    },
    {
     "name": "stderr",
     "output_type": "stream",
     "text": [
      "/home/narkem/workspaces/wsPython/Relevancer/relevancer.py:508: SettingWithCopyWarning: \n",
      "A value is trying to be set on a copy of a slice from a DataFrame.\n",
      "Try using .loc[row_indexer,col_indexer] = value instead\n",
      "\n",
      "See the the caveats in the documentation: http://pandas.pydata.org/pandas-docs/stable/indexing.html#indexing-view-versus-copy\n",
      "  tweetsDF[active_column] = tweetsDF[tok_result_lower_col].copy()\n"
     ]
    }
   ],
   "source": [
    "tweetsDF[active_col] = tweetsDF[\"text\"].copy()\n",
    "tweetsDF = rlv.tok_results(tweetsDF, elimrt = True)"
   ]
  },
  {
   "cell_type": "code",
   "execution_count": 16,
   "metadata": {
    "collapsed": false
   },
   "outputs": [
    {
     "data": {
      "text/plain": [
       "175524"
      ]
     },
     "execution_count": 16,
     "metadata": {},
     "output_type": "execute_result"
    }
   ],
   "source": [
    "len(tweetsDF)"
   ]
  },
  {
   "cell_type": "code",
   "execution_count": 8,
   "metadata": {
    "collapsed": false
   },
   "outputs": [
    {
     "data": {
      "text/plain": [
       "(175524,\n",
       " Index(['id_str', 'is_retweet', 'text', 'user_id', 'active_text', 'texttok',\n",
       "        'is_notrt'],\n",
       "       dtype='object'))"
      ]
     },
     "execution_count": 8,
     "metadata": {},
     "output_type": "execute_result"
    }
   ],
   "source": [
    "tweetsDF = rlv.normalize_text(tweetsDF)\n",
    "len(tweetsDF), tweetsDF.columns"
   ]
  },
  {
   "cell_type": "code",
   "execution_count": 190,
   "metadata": {
    "collapsed": false
   },
   "outputs": [],
   "source": [
    "#importlib.reload(rlv)\n",
    "#rlv.set_active_column(active_col)"
   ]
  },
  {
   "cell_type": "code",
   "execution_count": 11,
   "metadata": {
    "collapsed": true
   },
   "outputs": [],
   "source": [
    "def eliminate_duplicates_recursively(df, duplicate_elim_func):\n",
    "            \n",
    "        print(\"starting, length:\",len(df))\n",
    "        df = df.reindex(np.random.permutation(df.index))\n",
    "        df.reset_index(inplace=True, drop=True)\n",
    "        \n",
    "        tmp_df2 = pd.DataFrame()\n",
    "        for i in range(0, len(df), 10000):\n",
    "            tmp_unique = duplicate_elim_func(df[i:i+1000], similarity_threshold=0.20, debug=True, debug_threshold=10000)\n",
    "            tmp_df2 = pd.concat([tmp_df2, tmp_unique], ignore_index=True)\n",
    "            \n",
    "        if len(df) > len(tmp_df2):\n",
    "            print(str(len(df) - len(tmp_df2))+\" tweets were eliminated!\")\n",
    "            return eliminate_duplicates_recursively(tmp_df2, duplicate_elim_func)\n",
    "        \n",
    "        return df"
   ]
  },
  {
   "cell_type": "code",
   "execution_count": 12,
   "metadata": {
    "collapsed": false
   },
   "outputs": [
    {
     "name": "stdout",
     "output_type": "stream",
     "text": [
      "starting, length: 175524\n",
      "<class 'pandas.core.frame.DataFrame'>\n",
      "Int64Index: 779 entries, 0 to 585\n",
      "Data columns (total 7 columns):\n",
      "id_str         779 non-null object\n",
      "is_retweet     779 non-null bool\n",
      "text           779 non-null object\n",
      "user_id        779 non-null object\n",
      "active_text    779 non-null object\n",
      "texttok        779 non-null object\n",
      "is_notrt       779 non-null bool\n",
      "dtypes: bool(2), object(5)\n",
      "memory usage: 38.0+ KB\n",
      "<class 'pandas.core.frame.DataFrame'>\n",
      "Int64Index: 788 entries, 10000 to 10348\n",
      "Data columns (total 7 columns):\n",
      "id_str         788 non-null object\n",
      "is_retweet     788 non-null bool\n",
      "text           788 non-null object\n",
      "user_id        788 non-null object\n",
      "active_text    788 non-null object\n",
      "texttok        788 non-null object\n",
      "is_notrt       788 non-null bool\n",
      "dtypes: bool(2), object(5)\n",
      "memory usage: 38.5+ KB\n",
      "<class 'pandas.core.frame.DataFrame'>\n",
      "Int64Index: 805 entries, 20001 to 20367\n",
      "Data columns (total 7 columns):\n",
      "id_str         805 non-null object\n",
      "is_retweet     805 non-null bool\n",
      "text           805 non-null object\n",
      "user_id        805 non-null object\n",
      "active_text    805 non-null object\n",
      "texttok        805 non-null object\n",
      "is_notrt       805 non-null bool\n",
      "dtypes: bool(2), object(5)\n",
      "memory usage: 39.3+ KB\n",
      "<class 'pandas.core.frame.DataFrame'>\n",
      "Int64Index: 789 entries, 30000 to 30184\n",
      "Data columns (total 7 columns):\n",
      "id_str         789 non-null object\n",
      "is_retweet     789 non-null bool\n",
      "text           789 non-null object\n",
      "user_id        789 non-null object\n",
      "active_text    789 non-null object\n",
      "texttok        789 non-null object\n",
      "is_notrt       789 non-null bool\n",
      "dtypes: bool(2), object(5)\n",
      "memory usage: 38.5+ KB\n",
      "<class 'pandas.core.frame.DataFrame'>\n",
      "Int64Index: 766 entries, 40000 to 40008\n",
      "Data columns (total 7 columns):\n",
      "id_str         766 non-null object\n",
      "is_retweet     766 non-null bool\n",
      "text           766 non-null object\n",
      "user_id        766 non-null object\n",
      "active_text    766 non-null object\n",
      "texttok        766 non-null object\n",
      "is_notrt       766 non-null bool\n",
      "dtypes: bool(2), object(5)\n",
      "memory usage: 37.4+ KB\n",
      "<class 'pandas.core.frame.DataFrame'>\n",
      "Int64Index: 801 entries, 50000 to 50746\n",
      "Data columns (total 7 columns):\n",
      "id_str         801 non-null object\n",
      "is_retweet     801 non-null bool\n",
      "text           801 non-null object\n",
      "user_id        801 non-null object\n",
      "active_text    801 non-null object\n",
      "texttok        801 non-null object\n",
      "is_notrt       801 non-null bool\n",
      "dtypes: bool(2), object(5)\n",
      "memory usage: 39.1+ KB\n",
      "<class 'pandas.core.frame.DataFrame'>\n",
      "Int64Index: 796 entries, 60000 to 60001\n",
      "Data columns (total 7 columns):\n",
      "id_str         796 non-null object\n",
      "is_retweet     796 non-null bool\n",
      "text           796 non-null object\n",
      "user_id        796 non-null object\n",
      "active_text    796 non-null object\n",
      "texttok        796 non-null object\n",
      "is_notrt       796 non-null bool\n",
      "dtypes: bool(2), object(5)\n",
      "memory usage: 38.9+ KB\n",
      "<class 'pandas.core.frame.DataFrame'>\n",
      "Int64Index: 790 entries, 70001 to 70421\n",
      "Data columns (total 7 columns):\n",
      "id_str         790 non-null object\n",
      "is_retweet     790 non-null bool\n",
      "text           790 non-null object\n",
      "user_id        790 non-null object\n",
      "active_text    790 non-null object\n",
      "texttok        790 non-null object\n",
      "is_notrt       790 non-null bool\n",
      "dtypes: bool(2), object(5)\n",
      "memory usage: 38.6+ KB\n",
      "<class 'pandas.core.frame.DataFrame'>\n",
      "Int64Index: 776 entries, 80000 to 80428\n",
      "Data columns (total 7 columns):\n",
      "id_str         776 non-null object\n",
      "is_retweet     776 non-null bool\n",
      "text           776 non-null object\n",
      "user_id        776 non-null object\n",
      "active_text    776 non-null object\n",
      "texttok        776 non-null object\n",
      "is_notrt       776 non-null bool\n",
      "dtypes: bool(2), object(5)\n",
      "memory usage: 37.9+ KB\n",
      "<class 'pandas.core.frame.DataFrame'>\n",
      "Int64Index: 755 entries, 90000 to 90056\n",
      "Data columns (total 7 columns):\n",
      "id_str         755 non-null object\n",
      "is_retweet     755 non-null bool\n",
      "text           755 non-null object\n",
      "user_id        755 non-null object\n",
      "active_text    755 non-null object\n",
      "texttok        755 non-null object\n",
      "is_notrt       755 non-null bool\n",
      "dtypes: bool(2), object(5)\n",
      "memory usage: 36.9+ KB\n",
      "<class 'pandas.core.frame.DataFrame'>\n",
      "Int64Index: 779 entries, 100001 to 100883\n",
      "Data columns (total 7 columns):\n",
      "id_str         779 non-null object\n",
      "is_retweet     779 non-null bool\n",
      "text           779 non-null object\n",
      "user_id        779 non-null object\n",
      "active_text    779 non-null object\n",
      "texttok        779 non-null object\n",
      "is_notrt       779 non-null bool\n",
      "dtypes: bool(2), object(5)\n",
      "memory usage: 38.0+ KB\n",
      "<class 'pandas.core.frame.DataFrame'>\n",
      "Int64Index: 804 entries, 110001 to 110140\n",
      "Data columns (total 7 columns):\n",
      "id_str         804 non-null object\n",
      "is_retweet     804 non-null bool\n",
      "text           804 non-null object\n",
      "user_id        804 non-null object\n",
      "active_text    804 non-null object\n",
      "texttok        804 non-null object\n",
      "is_notrt       804 non-null bool\n",
      "dtypes: bool(2), object(5)\n",
      "memory usage: 39.3+ KB\n",
      "<class 'pandas.core.frame.DataFrame'>\n",
      "Int64Index: 793 entries, 120001 to 120400\n",
      "Data columns (total 7 columns):\n",
      "id_str         793 non-null object\n",
      "is_retweet     793 non-null bool\n",
      "text           793 non-null object\n",
      "user_id        793 non-null object\n",
      "active_text    793 non-null object\n",
      "texttok        793 non-null object\n",
      "is_notrt       793 non-null bool\n",
      "dtypes: bool(2), object(5)\n",
      "memory usage: 38.7+ KB\n",
      "<class 'pandas.core.frame.DataFrame'>\n",
      "Int64Index: 778 entries, 130000 to 130244\n",
      "Data columns (total 7 columns):\n",
      "id_str         778 non-null object\n",
      "is_retweet     778 non-null bool\n",
      "text           778 non-null object\n",
      "user_id        778 non-null object\n",
      "active_text    778 non-null object\n",
      "texttok        778 non-null object\n",
      "is_notrt       778 non-null bool\n",
      "dtypes: bool(2), object(5)\n",
      "memory usage: 38.0+ KB\n",
      "<class 'pandas.core.frame.DataFrame'>\n",
      "Int64Index: 773 entries, 140000 to 140488\n",
      "Data columns (total 7 columns):\n",
      "id_str         773 non-null object\n",
      "is_retweet     773 non-null bool\n",
      "text           773 non-null object\n",
      "user_id        773 non-null object\n",
      "active_text    773 non-null object\n",
      "texttok        773 non-null object\n",
      "is_notrt       773 non-null bool\n",
      "dtypes: bool(2), object(5)\n",
      "memory usage: 37.7+ KB\n",
      "<class 'pandas.core.frame.DataFrame'>\n",
      "Int64Index: 811 entries, 150000 to 150303\n",
      "Data columns (total 7 columns):\n",
      "id_str         811 non-null object\n",
      "is_retweet     811 non-null bool\n",
      "text           811 non-null object\n",
      "user_id        811 non-null object\n",
      "active_text    811 non-null object\n",
      "texttok        811 non-null object\n",
      "is_notrt       811 non-null bool\n",
      "dtypes: bool(2), object(5)\n",
      "memory usage: 39.6+ KB\n",
      "<class 'pandas.core.frame.DataFrame'>\n",
      "Int64Index: 793 entries, 160000 to 160627\n",
      "Data columns (total 7 columns):\n",
      "id_str         793 non-null object\n",
      "is_retweet     793 non-null bool\n",
      "text           793 non-null object\n",
      "user_id        793 non-null object\n",
      "active_text    793 non-null object\n",
      "texttok        793 non-null object\n",
      "is_notrt       793 non-null bool\n",
      "dtypes: bool(2), object(5)\n",
      "memory usage: 38.7+ KB\n",
      "<class 'pandas.core.frame.DataFrame'>\n",
      "Int64Index: 791 entries, 170000 to 170835\n",
      "Data columns (total 7 columns):\n",
      "id_str         791 non-null object\n",
      "is_retweet     791 non-null bool\n",
      "text           791 non-null object\n",
      "user_id        791 non-null object\n",
      "active_text    791 non-null object\n",
      "texttok        791 non-null object\n",
      "is_notrt       791 non-null bool\n",
      "dtypes: bool(2), object(5)\n",
      "memory usage: 38.6+ KB\n",
      "161357 tweets were eliminated!\n",
      "starting, length: 14167\n",
      "<class 'pandas.core.frame.DataFrame'>\n",
      "Int64Index: 939 entries, 0 to 504\n",
      "Data columns (total 7 columns):\n",
      "id_str         939 non-null object\n",
      "is_retweet     939 non-null bool\n",
      "text           939 non-null object\n",
      "user_id        939 non-null object\n",
      "active_text    939 non-null object\n",
      "texttok        939 non-null object\n",
      "is_notrt       939 non-null bool\n",
      "dtypes: bool(2), object(5)\n",
      "memory usage: 45.8+ KB\n",
      "<class 'pandas.core.frame.DataFrame'>\n",
      "Int64Index: 930 entries, 10001 to 10022\n",
      "Data columns (total 7 columns):\n",
      "id_str         930 non-null object\n",
      "is_retweet     930 non-null bool\n",
      "text           930 non-null object\n",
      "user_id        930 non-null object\n",
      "active_text    930 non-null object\n",
      "texttok        930 non-null object\n",
      "is_notrt       930 non-null bool\n",
      "dtypes: bool(2), object(5)\n",
      "memory usage: 45.4+ KB\n",
      "12298 tweets were eliminated!\n",
      "starting, length: 1869\n",
      "<class 'pandas.core.frame.DataFrame'>\n",
      "Int64Index: 975 entries, 0 to 625\n",
      "Data columns (total 7 columns):\n",
      "id_str         975 non-null object\n",
      "is_retweet     975 non-null bool\n",
      "text           975 non-null object\n",
      "user_id        975 non-null object\n",
      "active_text    975 non-null object\n",
      "texttok        975 non-null object\n",
      "is_notrt       975 non-null bool\n",
      "dtypes: bool(2), object(5)\n",
      "memory usage: 47.6+ KB\n",
      "894 tweets were eliminated!\n",
      "starting, length: 975\n",
      "There is not any group of near-duplicate tweets.\n"
     ]
    }
   ],
   "source": [
    "tweetsDF_uniq = eliminate_duplicates_recursively(tweetsDF.copy(), rlv.get_and_eliminate_near_duplicate_tweets)\n"
   ]
  },
  {
   "cell_type": "code",
   "execution_count": 13,
   "metadata": {
    "collapsed": false
   },
   "outputs": [
    {
     "data": {
      "text/plain": [
       "975"
      ]
     },
     "execution_count": 13,
     "metadata": {},
     "output_type": "execute_result"
    }
   ],
   "source": [
    "len(tweetsDF_uniq)"
   ]
  },
  {
   "cell_type": "code",
   "execution_count": 14,
   "metadata": {
    "collapsed": true
   },
   "outputs": [],
   "source": [
    "tweetsDF_uniq.to_pickle(\"20151005_unique_genocide_tweets.pickle\")"
   ]
  },
  {
   "cell_type": "code",
   "execution_count": 15,
   "metadata": {
    "collapsed": false
   },
   "outputs": [
    {
     "data": {
      "text/html": [
       "<div>\n",
       "<table border=\"1\" class=\"dataframe\">\n",
       "  <thead>\n",
       "    <tr style=\"text-align: right;\">\n",
       "      <th></th>\n",
       "      <th>active_text</th>\n",
       "    </tr>\n",
       "  </thead>\n",
       "  <tbody>\n",
       "    <tr>\n",
       "      <th>0</th>\n",
       "      <td>one year of we charge genocide | we charge genocide urlurlurl #chicopwatch - an incredible year of work.</td>\n",
       "    </tr>\n",
       "    <tr>\n",
       "      <th>1</th>\n",
       "      <td>usrusrusr the cause of terrorism carried out by the dictator and his henchmen murder and genocide examples of presidents in the middle east p</td>\n",
       "    </tr>\n",
       "    <tr>\n",
       "      <th>2</th>\n",
       "      <td>the supporter of pol pot and red khmer's genocide, mr brzeziński, is pointing to wisdom about putin. seems legit. urlurlurl</td>\n",
       "    </tr>\n",
       "    <tr>\n",
       "      <th>3</th>\n",
       "      <td>abandoning the victims of genocide in darfur urlurlurl #gameinsight, #android, #androidgames, #ipad, #ipadgames, #openfollow…</td>\n",
       "    </tr>\n",
       "    <tr>\n",
       "      <th>4</th>\n",
       "      <td>all i want for christmas is for that mosquito genocide program to come to dc.</td>\n",
       "    </tr>\n",
       "    <tr>\n",
       "      <th>5</th>\n",
       "      <td>usrusrusr urlurlurl loonwatch compares a government with the power to do so with(genocide) with usrusrusr</td>\n",
       "    </tr>\n",
       "    <tr>\n",
       "      <th>6</th>\n",
       "      <td>usrusrusr &amp;amp; usrusrusr just admit ur helplessness 2 stop #hazaras killings in quetta n they will stop blaming u 4 their genocide!</td>\n",
       "    </tr>\n",
       "    <tr>\n",
       "      <th>7</th>\n",
       "      <td>pl4et: #genocide of #chinese #communist party in #eastturkistan .( #uyghur ) \\nurlurlurl\\n#china #ccp #freeuyghur #humanrights…</td>\n",
       "    </tr>\n",
       "    <tr>\n",
       "      <th>8</th>\n",
       "      <td>it gets better!!! \"are you a spy? a terrorist? have you ordered an attack or genocide in the us? killed someone? recruited child soldiers?\"</td>\n",
       "    </tr>\n",
       "    <tr>\n",
       "      <th>9</th>\n",
       "      <td>government to provide religious education to rohingya refugees urlurlurl</td>\n",
       "    </tr>\n",
       "  </tbody>\n",
       "</table>\n",
       "</div>"
      ],
      "text/plain": [
       "                                                                                                                                     active_text\n",
       "0                                       one year of we charge genocide | we charge genocide urlurlurl #chicopwatch - an incredible year of work.\n",
       "1  usrusrusr the cause of terrorism carried out by the dictator and his henchmen murder and genocide examples of presidents in the middle east p\n",
       "2                    the supporter of pol pot and red khmer's genocide, mr brzeziński, is pointing to wisdom about putin. seems legit. urlurlurl\n",
       "3                  abandoning the victims of genocide in darfur urlurlurl #gameinsight, #android, #androidgames, #ipad, #ipadgames, #openfollow…\n",
       "4                                                                  all i want for christmas is for that mosquito genocide program to come to dc.\n",
       "5                                      usrusrusr urlurlurl loonwatch compares a government with the power to do so with(genocide) with usrusrusr\n",
       "6           usrusrusr &amp; usrusrusr just admit ur helplessness 2 stop #hazaras killings in quetta n they will stop blaming u 4 their genocide!\n",
       "7                pl4et: #genocide of #chinese #communist party in #eastturkistan .( #uyghur ) \\nurlurlurl\\n#china #ccp #freeuyghur #humanrights…\n",
       "8    it gets better!!! \"are you a spy? a terrorist? have you ordered an attack or genocide in the us? killed someone? recruited child soldiers?\"\n",
       "9                                                                       government to provide religious education to rohingya refugees urlurlurl"
      ]
     },
     "execution_count": 15,
     "metadata": {},
     "output_type": "execute_result"
    }
   ],
   "source": [
    "tweetsDF_uniq[[\"active_text\"]][:10]"
   ]
  },
  {
   "cell_type": "code",
   "execution_count": 16,
   "metadata": {
    "collapsed": false
   },
   "outputs": [],
   "source": [
    "importlib.reload(rlv)\n",
    "rlv.set_active_column(active_col)"
   ]
  },
  {
   "cell_type": "code",
   "execution_count": 17,
   "metadata": {
    "collapsed": false
   },
   "outputs": [],
   "source": [
    "cluster_list = rlv.create_clusters(tweetsDF_uniq, my_token_pattern, min_dist_thres=0.725, max_dist_thres=0.875, min_max_diff_thres=0.4, nameprefix='1-', min_clusters=100, user_identifier='user_id')"
   ]
  },
  {
   "cell_type": "code",
   "execution_count": 18,
   "metadata": {
    "collapsed": false
   },
   "outputs": [
    {
     "name": "stdout",
     "output_type": "stream",
     "text": [
      "Number of clusters: 123\n",
      "available cluster information: dict_keys(['user_entropy', 'twids', 'cno', 'cstr', 'cnoprefix', 'ctweettuplelist', 'rif'])\n"
     ]
    }
   ],
   "source": [
    "print(\"Number of clusters:\",len(cluster_list))\n",
    "print(\"available cluster information:\", cluster_list[0].keys())"
   ]
  },
  {
   "cell_type": "code",
   "execution_count": 19,
   "metadata": {
    "collapsed": true
   },
   "outputs": [],
   "source": [
    "i = 0"
   ]
  },
  {
   "cell_type": "code",
   "execution_count": 20,
   "metadata": {
    "collapsed": false
   },
   "outputs": [
    {
     "name": "stdout",
     "output_type": "stream",
     "text": [
      "No: 11\n",
      "CStr: cluster number and size are: 11    12\n",
      "\n",
      "Cluster Tuple List:\n",
      "(0.70357675493996663, 'usrusrusr they also started the armenian genocide.')\n",
      "(0.72593853185451451, 'usrusrusr 11 years before the armenian genocide began')\n",
      "(0.74056366460613288, 'denial of the armenian genocide - right now urlurlurl')\n",
      "(0.7730663724399286, 'a new book on the armenian genocide | mark movsesian | first things urlurlurl')\n",
      "(0.77737895573242521, 'exhibition at center for studies of holocaust and religious minorities: the armenian genocide  urlurlurl')\n",
      "(0.7928147381693027, 'pope: armenian ww1 deaths genocide')\n",
      "(0.81474133725487174, \"people who deny the armenian genocide when it's 2015 urlurlurl\")\n",
      "(0.83135878724273748, 'majlis mp: tendencies to recognize armenian genocide may be observed in iran soon: tendencies to recognize the... urlurlurl')\n",
      "(0.83416216284619338, 'usrusrusr it\\'s called \"politics.\" he also hasn\\'t recognized the armenian genocide for the same reason.')\n",
      "(0.83727510021287699, 'rostomzavarian: rt verdantmusings: what is the armenian genocide? (video) urlurlurl via youtube #armeniangenocide #turkey #g…')\n",
      "(0.8378277571570274, 'then you are familiar w/ the armenian genocide? and i read quran, sira, hadith &amp; reliance of the traveler post 9/11 usrusrusr')\n",
      "(0.87113307212143187, 'when you thought the armenian genocide was huge &amp; then you find out how many other genocides the ottoman turks committed\\ni need to lay down')\n"
     ]
    }
   ],
   "source": [
    "#i = i-2\n",
    "print(\"No:\",cluster_list[i]['cno'])\n",
    "print(\"CStr:\",cluster_list[i]['cstr'])\n",
    "print(\"Cluster Tuple List:\")\n",
    "print(*[(c[0],c[2]) for c in cluster_list[i]['ctweettuplelist']], sep='\\n')\n",
    "# Add any field you want to observe.\n",
    "i+=1"
   ]
  },
  {
   "cell_type": "code",
   "execution_count": 21,
   "metadata": {
    "collapsed": false
   },
   "outputs": [
    {
     "name": "stdout",
     "output_type": "stream",
     "text": [
      "Reverse Frequency of the terms:\n",
      "1\n",
      "2 : ['then you', 'tendencies to', 'of the', 'it s', '11', 'to recognize', 'recognize', 'when', 'amp', 'i', 'for', 'tendencies', 's', 'also', 'and', 'then', 'it']\n",
      "3 : ['you', 'of', 'to']\n",
      "4 : ['usrusrusr']\n",
      "6 : ['urlurlurl']\n",
      "10 : ['the armenian']\n",
      "11 : ['armenian genocide']\n",
      "12 : ['armenian', 'genocide']\n",
      "14 : ['the']\n"
     ]
    }
   ],
   "source": [
    "print(\"Reverse Frequency of the terms:\")\n",
    "print(i)\n",
    "for k, v in Counter({int(k):v for k,v in cluster_list[i-1]['rif'].items()}).items():\n",
    "    if k>1:\n",
    "        print(k,\":\",v)"
   ]
  },
  {
   "cell_type": "code",
   "execution_count": 22,
   "metadata": {
    "collapsed": false
   },
   "outputs": [
    {
     "name": "stdout",
     "output_type": "stream",
     "text": [
      "Clusters were written to the collection: genocide_clusters_20151005\n"
     ]
    }
   ],
   "source": [
    "rlvdb2, rlvcl2 = rlv.connect_mongodb(configfile='ebasar2.ini',coll_name=\"testcl\")\n",
    "\n",
    "collection_name = 'genocide_clusters_20151005'\n",
    "rlvdb2[collection_name].insert(cluster_list) #Each iteration results with a candidate cluster list. Each iteration will have its own list. Therefore they are not mixed.\n",
    "print(\"Clusters were written to the collection:\", collection_name)"
   ]
  },
  {
   "cell_type": "code",
   "execution_count": 241,
   "metadata": {
    "collapsed": false
   },
   "outputs": [
    {
     "name": "stdout",
     "output_type": "stream",
     "text": [
      "wrote km user to pickle\n"
     ]
    }
   ],
   "source": [
    "import pickle\n",
    "with open(\"genocide_clusters_20151005.pickle\", 'wb') as f:\n",
    "    pickle.dump(cluster_list, f, pickle.HIGHEST_PROTOCOL)\n",
    "    print(\"wrote km user to pickle\")\n",
    "        \n",
    "# if read_km_user:\n",
    "#     with open(fname, 'rb') as f:\n",
    "#         km_user = pickle.load(f)\n",
    "#         print(\"read km_user from pickle\")"
   ]
  },
  {
   "cell_type": "code",
   "execution_count": 248,
   "metadata": {
    "collapsed": false
   },
   "outputs": [
    {
     "data": {
      "text/plain": [
       "dict_keys(['ctweettuplelist', 'twids', 'cnoprefix', '_id', 'rif', 'cno', 'cstr', 'user_entropy'])"
      ]
     },
     "execution_count": 248,
     "metadata": {},
     "output_type": "execute_result"
    }
   ],
   "source": [
    "cluster_list[0].keys()"
   ]
  },
  {
   "cell_type": "code",
   "execution_count": 249,
   "metadata": {
    "collapsed": true
   },
   "outputs": [],
   "source": [
    "cluster_list_small = []\n",
    "for c in cluster_list:\n",
    "    cluster_list_small.append({k:v for k,v in c.items() if k in [\"cno\",\"cstr\",\"user_entropy\",\"rif\",\"_id\",\"cnoprefix\",'twids']})"
   ]
  },
  {
   "cell_type": "code",
   "execution_count": 250,
   "metadata": {
    "collapsed": true
   },
   "outputs": [
    {
     "ename": "OperationFailure",
     "evalue": "quota exceeded",
     "output_type": "error",
     "traceback": [
      "\u001b[0;31m---------------------------------------------------------------------------\u001b[0m",
      "\u001b[0;31mOperationFailure\u001b[0m                          Traceback (most recent call last)",
      "\u001b[0;32m<ipython-input-250-287de3a25cf6>\u001b[0m in \u001b[0;36m<module>\u001b[0;34m()\u001b[0m\n\u001b[1;32m      1\u001b[0m \u001b[0mcollection_name\u001b[0m \u001b[0;34m=\u001b[0m \u001b[0;34m'genocide_clusters_small_20151005'\u001b[0m\u001b[0;34m\u001b[0m\u001b[0m\n\u001b[0;32m----> 2\u001b[0;31m \u001b[0mrlvdb\u001b[0m\u001b[0;34m[\u001b[0m\u001b[0mcollection_name\u001b[0m\u001b[0;34m]\u001b[0m\u001b[0;34m.\u001b[0m\u001b[0minsert\u001b[0m\u001b[0;34m(\u001b[0m\u001b[0mcluster_list_small\u001b[0m\u001b[0;34m)\u001b[0m \u001b[0;31m#Each iteration results with a candidate cluster list. Each iteration will have its own list. Therefore they are not mixed.\u001b[0m\u001b[0;34m\u001b[0m\u001b[0m\n\u001b[0m\u001b[1;32m      3\u001b[0m \u001b[0mprint\u001b[0m\u001b[0;34m(\u001b[0m\u001b[0;34m\"Clusters were written to the collection:\"\u001b[0m\u001b[0;34m,\u001b[0m \u001b[0mcollection_name\u001b[0m\u001b[0;34m)\u001b[0m\u001b[0;34m\u001b[0m\u001b[0m\n",
      "\u001b[0;32m/Users/alihurriyetoglu/anaconda3/lib/python3.4/site-packages/pymongo/collection.py\u001b[0m in \u001b[0;36minsert\u001b[0;34m(self, doc_or_docs, manipulate, safe, check_keys, continue_on_error, **kwargs)\u001b[0m\n\u001b[1;32m    408\u001b[0m                     \u001b[0mself\u001b[0m\u001b[0;34m.\u001b[0m\u001b[0mdatabase\u001b[0m\u001b[0;34m.\u001b[0m\u001b[0mname\u001b[0m \u001b[0;34m+\u001b[0m \u001b[0;34m\".$cmd\"\u001b[0m\u001b[0;34m,\u001b[0m \u001b[0m_INSERT\u001b[0m\u001b[0;34m,\u001b[0m \u001b[0mcommand\u001b[0m\u001b[0;34m,\u001b[0m\u001b[0;34m\u001b[0m\u001b[0m\n\u001b[1;32m    409\u001b[0m                     gen(), check_keys, self.uuid_subtype, client)\n\u001b[0;32m--> 410\u001b[0;31m             \u001b[0m_check_write_command_response\u001b[0m\u001b[0;34m(\u001b[0m\u001b[0mresults\u001b[0m\u001b[0;34m)\u001b[0m\u001b[0;34m\u001b[0m\u001b[0m\n\u001b[0m\u001b[1;32m    411\u001b[0m         \u001b[0;32melse\u001b[0m\u001b[0;34m:\u001b[0m\u001b[0;34m\u001b[0m\u001b[0m\n\u001b[1;32m    412\u001b[0m             \u001b[0;31m# Legacy batched OP_INSERT\u001b[0m\u001b[0;34m\u001b[0m\u001b[0;34m\u001b[0m\u001b[0m\n",
      "\u001b[0;32m/Users/alihurriyetoglu/anaconda3/lib/python3.4/site-packages/pymongo/helpers.py\u001b[0m in \u001b[0;36m_check_write_command_response\u001b[0;34m(results)\u001b[0m\n\u001b[1;32m    207\u001b[0m                 raise WTimeoutError(error.get(\"errmsg\"),\n\u001b[1;32m    208\u001b[0m                                     error.get(\"code\"), error)\n\u001b[0;32m--> 209\u001b[0;31m         \u001b[0;32mraise\u001b[0m \u001b[0mOperationFailure\u001b[0m\u001b[0;34m(\u001b[0m\u001b[0merror\u001b[0m\u001b[0;34m.\u001b[0m\u001b[0mget\u001b[0m\u001b[0;34m(\u001b[0m\u001b[0;34m\"errmsg\"\u001b[0m\u001b[0;34m)\u001b[0m\u001b[0;34m,\u001b[0m \u001b[0merror\u001b[0m\u001b[0;34m.\u001b[0m\u001b[0mget\u001b[0m\u001b[0;34m(\u001b[0m\u001b[0;34m\"code\"\u001b[0m\u001b[0;34m)\u001b[0m\u001b[0;34m,\u001b[0m \u001b[0merror\u001b[0m\u001b[0;34m)\u001b[0m\u001b[0;34m\u001b[0m\u001b[0m\n\u001b[0m\u001b[1;32m    210\u001b[0m \u001b[0;34m\u001b[0m\u001b[0m\n\u001b[1;32m    211\u001b[0m \u001b[0;34m\u001b[0m\u001b[0m\n",
      "\u001b[0;31mOperationFailure\u001b[0m: quota exceeded"
     ]
    }
   ],
   "source": [
    "\n",
    "\n",
    "collection_name = 'genocide_clusters_small_20151005'\n",
    "rlvdb[collection_name].insert(cluster_list_small) #Each iteration results with a candidate cluster list. Each iteration will have its own list. Therefore they are not mixed.\n",
    "print(\"Clusters were written to the collection:\", collection_name)"
   ]
  },
  {
   "cell_type": "code",
   "execution_count": null,
   "metadata": {
    "collapsed": true
   },
   "outputs": [],
   "source": []
  }
 ],
 "metadata": {
  "kernelspec": {
   "display_name": "Python 3",
   "language": "python",
   "name": "python3"
  },
  "language_info": {
   "codemirror_mode": {
    "name": "ipython",
    "version": 3
   },
   "file_extension": ".py",
   "mimetype": "text/x-python",
   "name": "python",
   "nbconvert_exporter": "python",
   "pygments_lexer": "ipython3",
   "version": "3.4.3"
  }
 },
 "nbformat": 4,
 "nbformat_minor": 0
}
