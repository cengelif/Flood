{
 "cells": [
  {
   "cell_type": "code",
   "execution_count": 1,
   "metadata": {
    "collapsed": false
   },
   "outputs": [
    {
     "name": "stderr",
     "output_type": "stream",
     "text": [
      "/Users/alihurriyetoglu/anaconda3/lib/python3.5/site-packages/sklearn/utils/fixes.py:64: DeprecationWarning: inspect.getargspec() is deprecated, use inspect.signature() instead\n",
      "  if 'order' in inspect.getargspec(np.copy)[0]:\n"
     ]
    }
   ],
   "source": [
    "import timeit\n",
    "import importlib\n",
    "import relevancer as rlv\n",
    "import pandas as pd\n",
    "from sklearn.naive_bayes import MultinomialNB \n",
    "from bson.objectid import ObjectId\n",
    "from collections import Counter\n",
    "import numpy as np\n",
    "\n",
    "pd.set_option(\"display.max_colwidth\",200)\n"
   ]
  },
  {
   "cell_type": "code",
   "execution_count": 2,
   "metadata": {
    "collapsed": false
   },
   "outputs": [],
   "source": [
    "# this is just to load the latest version of the Relevancer after we edit the code.\n",
    "importlib.reload(rlv)\n",
    "active_col = \"active_text\"\n",
    "rlv.set_active_column(active_col)\n"
   ]
  },
  {
   "cell_type": "code",
   "execution_count": 3,
   "metadata": {
    "collapsed": true
   },
   "outputs": [],
   "source": [
    "#importlib.reload(rlv)\n",
    "my_token_pattern=r\"[#@]?\\w+\\b|[\\U00010000-\\U0010ffff]\"\n",
    "rlvdb, rlvcl = rlv.connect_mongodb(configfile='elifdb.ini',coll_name=\"testcl\")\n",
    "# set active columns\n",
    "active_col = \"active_text\"\n",
    "rlv.set_active_column(active_col)"
   ]
  },
  {
   "cell_type": "code",
   "execution_count": 4,
   "metadata": {
    "collapsed": false
   },
   "outputs": [
    {
     "ename": "KeyboardInterrupt",
     "evalue": "",
     "output_type": "error",
     "traceback": [
      "\u001b[0;31m---------------------------------------------------------------------------\u001b[0m",
      "\u001b[0;31mKeyboardInterrupt\u001b[0m                         Traceback (most recent call last)",
      "\u001b[0;32m<ipython-input-4-27e6df74d4e4>\u001b[0m in \u001b[0;36m<module>\u001b[0;34m()\u001b[0m\n\u001b[1;32m      6\u001b[0m \u001b[0;31m#annotated_tw_ids = []\u001b[0m\u001b[0;34m\u001b[0m\u001b[0;34m\u001b[0m\u001b[0m\n\u001b[1;32m      7\u001b[0m \u001b[0;31m# mongo_query=({'_id': {'$gte': begin, '$lte': end},'lang':'en'})\u001b[0m\u001b[0;34m\u001b[0m\u001b[0;34m\u001b[0m\u001b[0m\n\u001b[0;32m----> 8\u001b[0;31m \u001b[0mtweetlist\u001b[0m \u001b[0;34m=\u001b[0m \u001b[0mrlv\u001b[0m\u001b[0;34m.\u001b[0m\u001b[0mread_json_tweet_fields_database\u001b[0m\u001b[0;34m(\u001b[0m\u001b[0mrlvcl\u001b[0m\u001b[0;34m,\u001b[0m \u001b[0mmongo_query\u001b[0m\u001b[0;34m=\u001b[0m\u001b[0;34m(\u001b[0m\u001b[0;34m{\u001b[0m\u001b[0;34m}\u001b[0m\u001b[0;34m)\u001b[0m\u001b[0;34m,\u001b[0m \u001b[0mread_fields\u001b[0m\u001b[0;34m=\u001b[0m\u001b[0;34m{\u001b[0m\u001b[0;34m'text'\u001b[0m\u001b[0;34m:\u001b[0m \u001b[0;36m1\u001b[0m\u001b[0;34m,\u001b[0m \u001b[0;34m'id_str'\u001b[0m\u001b[0;34m:\u001b[0m \u001b[0;36m1\u001b[0m\u001b[0;34m,\u001b[0m \u001b[0;34m'_id'\u001b[0m\u001b[0;34m:\u001b[0m \u001b[0;36m0\u001b[0m\u001b[0;34m,\u001b[0m \u001b[0;34m'user_id'\u001b[0m\u001b[0;34m:\u001b[0m \u001b[0;36m1\u001b[0m\u001b[0;34m}\u001b[0m\u001b[0;34m,\u001b[0m \u001b[0mtweet_count\u001b[0m\u001b[0;34m=\u001b[0m\u001b[0;34m-\u001b[0m\u001b[0;36m1\u001b[0m\u001b[0;34m,\u001b[0m \u001b[0mannotated_ids\u001b[0m\u001b[0;34m=\u001b[0m\u001b[0mannotated_tw_ids\u001b[0m\u001b[0;34m)\u001b[0m\u001b[0;31m#=tweetsDF)\u001b[0m\u001b[0;34m\u001b[0m\u001b[0m\n\u001b[0m\u001b[1;32m      9\u001b[0m \u001b[0;34m\u001b[0m\u001b[0m\n\u001b[1;32m     10\u001b[0m \u001b[0mrlv\u001b[0m\u001b[0;34m.\u001b[0m\u001b[0mlogging\u001b[0m\u001b[0;34m.\u001b[0m\u001b[0minfo\u001b[0m\u001b[0;34m(\u001b[0m\u001b[0;34m\"Number of tweets:\"\u001b[0m \u001b[0;34m+\u001b[0m \u001b[0mstr\u001b[0m\u001b[0;34m(\u001b[0m\u001b[0mlen\u001b[0m\u001b[0;34m(\u001b[0m\u001b[0mtweetlist\u001b[0m\u001b[0;34m)\u001b[0m\u001b[0;34m)\u001b[0m\u001b[0;34m)\u001b[0m\u001b[0;34m\u001b[0m\u001b[0m\n",
      "\u001b[0;32m/Users/alihurriyetoglu/Dropbox/Projects/Relevancer/relevancer.py\u001b[0m in \u001b[0;36mread_json_tweet_fields_database\u001b[0;34m(rlvcl, mongo_query, read_fields, tweet_count, annotated_ids, annotated_users)\u001b[0m\n\u001b[1;32m    269\u001b[0m \u001b[0;34m\u001b[0m\u001b[0m\n\u001b[1;32m    270\u001b[0m         \u001b[0mftwits\u001b[0m \u001b[0;34m=\u001b[0m \u001b[0;34m[\u001b[0m\u001b[0;34m]\u001b[0m\u001b[0;34m\u001b[0m\u001b[0m\n\u001b[0;32m--> 271\u001b[0;31m         \u001b[0;32mfor\u001b[0m \u001b[0mi\u001b[0m\u001b[0;34m,\u001b[0m \u001b[0mt\u001b[0m \u001b[0;32min\u001b[0m \u001b[0menumerate\u001b[0m\u001b[0;34m(\u001b[0m\u001b[0mrlvcl\u001b[0m\u001b[0;34m.\u001b[0m\u001b[0mfind\u001b[0m\u001b[0;34m(\u001b[0m\u001b[0mmongo_query\u001b[0m\u001b[0;34m,\u001b[0m \u001b[0mread_fields\u001b[0m\u001b[0;34m)\u001b[0m\u001b[0;34m)\u001b[0m\u001b[0;34m:\u001b[0m\u001b[0;34m\u001b[0m\u001b[0m\n\u001b[0m\u001b[1;32m    272\u001b[0m                 \u001b[0;32mif\u001b[0m \u001b[0;34m(\u001b[0m\u001b[0mi\u001b[0m \u001b[0;34m!=\u001b[0m \u001b[0mtweet_count\u001b[0m\u001b[0;34m)\u001b[0m \u001b[0;32mand\u001b[0m \u001b[0;34m(\u001b[0m\u001b[0mt\u001b[0m\u001b[0;34m[\u001b[0m\u001b[0;34m'id_str'\u001b[0m\u001b[0;34m]\u001b[0m \u001b[0;32mnot\u001b[0m \u001b[0;32min\u001b[0m \u001b[0mannotated_ids\u001b[0m\u001b[0;34m)\u001b[0m \u001b[0;32mand\u001b[0m \u001b[0;34m(\u001b[0m\u001b[0;34m(\u001b[0m\u001b[0;34m(\u001b[0m\u001b[0;34m\"user\"\u001b[0m \u001b[0;32min\u001b[0m \u001b[0mt\u001b[0m\u001b[0;34m)\u001b[0m \u001b[0;32mand\u001b[0m \u001b[0;34m(\u001b[0m\u001b[0mt\u001b[0m\u001b[0;34m[\u001b[0m\u001b[0;34m\"user\"\u001b[0m\u001b[0;34m]\u001b[0m\u001b[0;34m[\u001b[0m\u001b[0;34m\"screen_name\"\u001b[0m\u001b[0;34m]\u001b[0m \u001b[0;32mnot\u001b[0m \u001b[0;32min\u001b[0m \u001b[0mannotated_users\u001b[0m\u001b[0;34m)\u001b[0m\u001b[0;34m)\u001b[0m \u001b[0;32mor\u001b[0m \u001b[0;34m(\u001b[0m\u001b[0;34m(\u001b[0m\u001b[0;34m\"user_id\"\u001b[0m \u001b[0;32min\u001b[0m \u001b[0mt\u001b[0m\u001b[0;34m)\u001b[0m \u001b[0;32mand\u001b[0m \u001b[0;34m(\u001b[0m\u001b[0mt\u001b[0m\u001b[0;34m[\u001b[0m\u001b[0;34m\"user_id\"\u001b[0m\u001b[0;34m]\u001b[0m \u001b[0;32mnot\u001b[0m \u001b[0;32min\u001b[0m \u001b[0mannotated_users\u001b[0m\u001b[0;34m)\u001b[0m\u001b[0;34m)\u001b[0m\u001b[0;34m)\u001b[0m\u001b[0;34m:\u001b[0m  \u001b[0;31m# restrict line numbers for test\u001b[0m\u001b[0;34m\u001b[0m\u001b[0m\n\u001b[1;32m    273\u001b[0m                         \u001b[0;31m# break\u001b[0m\u001b[0;34m\u001b[0m\u001b[0;34m\u001b[0m\u001b[0m\n",
      "\u001b[0;32m/Users/alihurriyetoglu/anaconda3/lib/python3.5/site-packages/pymongo/cursor.py\u001b[0m in \u001b[0;36mnext\u001b[0;34m(self)\u001b[0m\n\u001b[1;32m    975\u001b[0m             \u001b[0;32mraise\u001b[0m \u001b[0mStopIteration\u001b[0m\u001b[0;34m\u001b[0m\u001b[0m\n\u001b[1;32m    976\u001b[0m         \u001b[0m_db\u001b[0m \u001b[0;34m=\u001b[0m \u001b[0mself\u001b[0m\u001b[0;34m.\u001b[0m\u001b[0m__collection\u001b[0m\u001b[0;34m.\u001b[0m\u001b[0mdatabase\u001b[0m\u001b[0;34m\u001b[0m\u001b[0m\n\u001b[0;32m--> 977\u001b[0;31m         \u001b[0;32mif\u001b[0m \u001b[0mlen\u001b[0m\u001b[0;34m(\u001b[0m\u001b[0mself\u001b[0m\u001b[0;34m.\u001b[0m\u001b[0m__data\u001b[0m\u001b[0;34m)\u001b[0m \u001b[0;32mor\u001b[0m \u001b[0mself\u001b[0m\u001b[0;34m.\u001b[0m\u001b[0m_refresh\u001b[0m\u001b[0;34m(\u001b[0m\u001b[0;34m)\u001b[0m\u001b[0;34m:\u001b[0m\u001b[0;34m\u001b[0m\u001b[0m\n\u001b[0m\u001b[1;32m    978\u001b[0m             \u001b[0;32mif\u001b[0m \u001b[0mself\u001b[0m\u001b[0;34m.\u001b[0m\u001b[0m__manipulate\u001b[0m\u001b[0;34m:\u001b[0m\u001b[0;34m\u001b[0m\u001b[0m\n\u001b[1;32m    979\u001b[0m                 return _db._fix_outgoing(self.__data.popleft(),\n",
      "\u001b[0;32m/Users/alihurriyetoglu/anaconda3/lib/python3.5/site-packages/pymongo/cursor.py\u001b[0m in \u001b[0;36m_refresh\u001b[0;34m(self)\u001b[0m\n\u001b[1;32m    917\u001b[0m                 self.__send_message(_GetMore(self.__collection.full_name,\n\u001b[1;32m    918\u001b[0m                                              \u001b[0mlimit\u001b[0m\u001b[0;34m,\u001b[0m\u001b[0;34m\u001b[0m\u001b[0m\n\u001b[0;32m--> 919\u001b[0;31m                                              self.__id))\n\u001b[0m\u001b[1;32m    920\u001b[0m \u001b[0;34m\u001b[0m\u001b[0m\n\u001b[1;32m    921\u001b[0m         \u001b[0;32melse\u001b[0m\u001b[0;34m:\u001b[0m  \u001b[0;31m# Cursor id is zero nothing else to return\u001b[0m\u001b[0;34m\u001b[0m\u001b[0m\n",
      "\u001b[0;32m/Users/alihurriyetoglu/anaconda3/lib/python3.5/site-packages/pymongo/cursor.py\u001b[0m in \u001b[0;36m__send_message\u001b[0;34m(self, operation)\u001b[0m\n\u001b[1;32m    811\u001b[0m             \u001b[0;32mtry\u001b[0m\u001b[0;34m:\u001b[0m\u001b[0;34m\u001b[0m\u001b[0m\n\u001b[1;32m    812\u001b[0m                 response = client._send_message_with_response(operation,\n\u001b[0;32m--> 813\u001b[0;31m                                                               **kwargs)\n\u001b[0m\u001b[1;32m    814\u001b[0m                 \u001b[0mself\u001b[0m\u001b[0;34m.\u001b[0m\u001b[0m__address\u001b[0m \u001b[0;34m=\u001b[0m \u001b[0mresponse\u001b[0m\u001b[0;34m.\u001b[0m\u001b[0maddress\u001b[0m\u001b[0;34m\u001b[0m\u001b[0m\n\u001b[1;32m    815\u001b[0m                 \u001b[0;32mif\u001b[0m \u001b[0mself\u001b[0m\u001b[0;34m.\u001b[0m\u001b[0m__exhaust\u001b[0m\u001b[0;34m:\u001b[0m\u001b[0;34m\u001b[0m\u001b[0m\n",
      "\u001b[0;32m/Users/alihurriyetoglu/anaconda3/lib/python3.5/site-packages/pymongo/mongo_client.py\u001b[0m in \u001b[0;36m_send_message_with_response\u001b[0;34m(self, operation, read_preference, exhaust, address)\u001b[0m\n\u001b[1;32m    742\u001b[0m             \u001b[0mset_slave_ok\u001b[0m\u001b[0;34m,\u001b[0m\u001b[0;34m\u001b[0m\u001b[0m\n\u001b[1;32m    743\u001b[0m             \u001b[0mself\u001b[0m\u001b[0;34m.\u001b[0m\u001b[0m__all_credentials\u001b[0m\u001b[0;34m,\u001b[0m\u001b[0;34m\u001b[0m\u001b[0m\n\u001b[0;32m--> 744\u001b[0;31m             exhaust)\n\u001b[0m\u001b[1;32m    745\u001b[0m \u001b[0;34m\u001b[0m\u001b[0m\n\u001b[1;32m    746\u001b[0m     \u001b[0;32mdef\u001b[0m \u001b[0m_reset_on_error\u001b[0m\u001b[0;34m(\u001b[0m\u001b[0mself\u001b[0m\u001b[0;34m,\u001b[0m \u001b[0mserver\u001b[0m\u001b[0;34m,\u001b[0m \u001b[0mfunc\u001b[0m\u001b[0;34m,\u001b[0m \u001b[0;34m*\u001b[0m\u001b[0margs\u001b[0m\u001b[0;34m,\u001b[0m \u001b[0;34m**\u001b[0m\u001b[0mkwargs\u001b[0m\u001b[0;34m)\u001b[0m\u001b[0;34m:\u001b[0m\u001b[0;34m\u001b[0m\u001b[0m\n",
      "\u001b[0;32m/Users/alihurriyetoglu/anaconda3/lib/python3.5/site-packages/pymongo/mongo_client.py\u001b[0m in \u001b[0;36m_reset_on_error\u001b[0;34m(self, server, func, *args, **kwargs)\u001b[0m\n\u001b[1;32m    753\u001b[0m         \"\"\"\n\u001b[1;32m    754\u001b[0m         \u001b[0;32mtry\u001b[0m\u001b[0;34m:\u001b[0m\u001b[0;34m\u001b[0m\u001b[0m\n\u001b[0;32m--> 755\u001b[0;31m             \u001b[0;32mreturn\u001b[0m \u001b[0mfunc\u001b[0m\u001b[0;34m(\u001b[0m\u001b[0;34m*\u001b[0m\u001b[0margs\u001b[0m\u001b[0;34m,\u001b[0m \u001b[0;34m**\u001b[0m\u001b[0mkwargs\u001b[0m\u001b[0;34m)\u001b[0m\u001b[0;34m\u001b[0m\u001b[0m\n\u001b[0m\u001b[1;32m    756\u001b[0m         \u001b[0;32mexcept\u001b[0m \u001b[0mNetworkTimeout\u001b[0m\u001b[0;34m:\u001b[0m\u001b[0;34m\u001b[0m\u001b[0m\n\u001b[1;32m    757\u001b[0m             \u001b[0;31m# The socket has been closed. Don't reset the server.\u001b[0m\u001b[0;34m\u001b[0m\u001b[0;34m\u001b[0m\u001b[0m\n",
      "\u001b[0;32m/Users/alihurriyetoglu/anaconda3/lib/python3.5/site-packages/pymongo/server.py\u001b[0m in \u001b[0;36msend_message_with_response\u001b[0;34m(self, operation, set_slave_okay, all_credentials, exhaust)\u001b[0m\n\u001b[1;32m     86\u001b[0m             \u001b[0mrequest_id\u001b[0m\u001b[0;34m,\u001b[0m \u001b[0mdata\u001b[0m\u001b[0;34m,\u001b[0m \u001b[0mmax_doc_size\u001b[0m \u001b[0;34m=\u001b[0m \u001b[0mself\u001b[0m\u001b[0;34m.\u001b[0m\u001b[0m_split_message\u001b[0m\u001b[0;34m(\u001b[0m\u001b[0mmessage\u001b[0m\u001b[0;34m)\u001b[0m\u001b[0;34m\u001b[0m\u001b[0m\n\u001b[1;32m     87\u001b[0m             \u001b[0msock_info\u001b[0m\u001b[0;34m.\u001b[0m\u001b[0msend_message\u001b[0m\u001b[0;34m(\u001b[0m\u001b[0mdata\u001b[0m\u001b[0;34m,\u001b[0m \u001b[0mmax_doc_size\u001b[0m\u001b[0;34m)\u001b[0m\u001b[0;34m\u001b[0m\u001b[0m\n\u001b[0;32m---> 88\u001b[0;31m             \u001b[0mresponse_data\u001b[0m \u001b[0;34m=\u001b[0m \u001b[0msock_info\u001b[0m\u001b[0;34m.\u001b[0m\u001b[0mreceive_message\u001b[0m\u001b[0;34m(\u001b[0m\u001b[0;36m1\u001b[0m\u001b[0;34m,\u001b[0m \u001b[0mrequest_id\u001b[0m\u001b[0;34m)\u001b[0m\u001b[0;34m\u001b[0m\u001b[0m\n\u001b[0m\u001b[1;32m     89\u001b[0m             \u001b[0;32mif\u001b[0m \u001b[0mexhaust\u001b[0m\u001b[0;34m:\u001b[0m\u001b[0;34m\u001b[0m\u001b[0m\n\u001b[1;32m     90\u001b[0m                 return ExhaustResponse(\n",
      "\u001b[0;32m/Users/alihurriyetoglu/anaconda3/lib/python3.5/site-packages/pymongo/pool.py\u001b[0m in \u001b[0;36mreceive_message\u001b[0;34m(self, operation, request_id)\u001b[0m\n\u001b[1;32m    214\u001b[0m             \u001b[0;32mreturn\u001b[0m \u001b[0mreceive_message\u001b[0m\u001b[0;34m(\u001b[0m\u001b[0mself\u001b[0m\u001b[0;34m.\u001b[0m\u001b[0msock\u001b[0m\u001b[0;34m,\u001b[0m \u001b[0moperation\u001b[0m\u001b[0;34m,\u001b[0m \u001b[0mrequest_id\u001b[0m\u001b[0;34m)\u001b[0m\u001b[0;34m\u001b[0m\u001b[0m\n\u001b[1;32m    215\u001b[0m         \u001b[0;32mexcept\u001b[0m \u001b[0mBaseException\u001b[0m \u001b[0;32mas\u001b[0m \u001b[0merror\u001b[0m\u001b[0;34m:\u001b[0m\u001b[0;34m\u001b[0m\u001b[0m\n\u001b[0;32m--> 216\u001b[0;31m             \u001b[0mself\u001b[0m\u001b[0;34m.\u001b[0m\u001b[0m_raise_connection_failure\u001b[0m\u001b[0;34m(\u001b[0m\u001b[0merror\u001b[0m\u001b[0;34m)\u001b[0m\u001b[0;34m\u001b[0m\u001b[0m\n\u001b[0m\u001b[1;32m    217\u001b[0m \u001b[0;34m\u001b[0m\u001b[0m\n\u001b[1;32m    218\u001b[0m     \u001b[0;32mdef\u001b[0m \u001b[0mlegacy_write\u001b[0m\u001b[0;34m(\u001b[0m\u001b[0mself\u001b[0m\u001b[0;34m,\u001b[0m \u001b[0mrequest_id\u001b[0m\u001b[0;34m,\u001b[0m \u001b[0mmsg\u001b[0m\u001b[0;34m,\u001b[0m \u001b[0mmax_doc_size\u001b[0m\u001b[0;34m,\u001b[0m \u001b[0mwith_last_error\u001b[0m\u001b[0;34m)\u001b[0m\u001b[0;34m:\u001b[0m\u001b[0;34m\u001b[0m\u001b[0m\n",
      "\u001b[0;32m/Users/alihurriyetoglu/anaconda3/lib/python3.5/site-packages/pymongo/pool.py\u001b[0m in \u001b[0;36m_raise_connection_failure\u001b[0;34m(self, error)\u001b[0m\n\u001b[1;32m    314\u001b[0m             \u001b[0m_raise_connection_failure\u001b[0m\u001b[0;34m(\u001b[0m\u001b[0mself\u001b[0m\u001b[0;34m.\u001b[0m\u001b[0maddress\u001b[0m\u001b[0;34m,\u001b[0m \u001b[0merror\u001b[0m\u001b[0;34m)\u001b[0m\u001b[0;34m\u001b[0m\u001b[0m\n\u001b[1;32m    315\u001b[0m         \u001b[0;32melse\u001b[0m\u001b[0;34m:\u001b[0m\u001b[0;34m\u001b[0m\u001b[0m\n\u001b[0;32m--> 316\u001b[0;31m             \u001b[0;32mraise\u001b[0m \u001b[0merror\u001b[0m\u001b[0;34m\u001b[0m\u001b[0m\n\u001b[0m\u001b[1;32m    317\u001b[0m \u001b[0;34m\u001b[0m\u001b[0m\n\u001b[1;32m    318\u001b[0m     \u001b[0;32mdef\u001b[0m \u001b[0m__eq__\u001b[0m\u001b[0;34m(\u001b[0m\u001b[0mself\u001b[0m\u001b[0;34m,\u001b[0m \u001b[0mother\u001b[0m\u001b[0;34m)\u001b[0m\u001b[0;34m:\u001b[0m\u001b[0;34m\u001b[0m\u001b[0m\n",
      "\u001b[0;32m/Users/alihurriyetoglu/anaconda3/lib/python3.5/site-packages/pymongo/pool.py\u001b[0m in \u001b[0;36mreceive_message\u001b[0;34m(self, operation, request_id)\u001b[0m\n\u001b[1;32m    212\u001b[0m         \"\"\"\n\u001b[1;32m    213\u001b[0m         \u001b[0;32mtry\u001b[0m\u001b[0;34m:\u001b[0m\u001b[0;34m\u001b[0m\u001b[0m\n\u001b[0;32m--> 214\u001b[0;31m             \u001b[0;32mreturn\u001b[0m \u001b[0mreceive_message\u001b[0m\u001b[0;34m(\u001b[0m\u001b[0mself\u001b[0m\u001b[0;34m.\u001b[0m\u001b[0msock\u001b[0m\u001b[0;34m,\u001b[0m \u001b[0moperation\u001b[0m\u001b[0;34m,\u001b[0m \u001b[0mrequest_id\u001b[0m\u001b[0;34m)\u001b[0m\u001b[0;34m\u001b[0m\u001b[0m\n\u001b[0m\u001b[1;32m    215\u001b[0m         \u001b[0;32mexcept\u001b[0m \u001b[0mBaseException\u001b[0m \u001b[0;32mas\u001b[0m \u001b[0merror\u001b[0m\u001b[0;34m:\u001b[0m\u001b[0;34m\u001b[0m\u001b[0m\n\u001b[1;32m    216\u001b[0m             \u001b[0mself\u001b[0m\u001b[0;34m.\u001b[0m\u001b[0m_raise_connection_failure\u001b[0m\u001b[0;34m(\u001b[0m\u001b[0merror\u001b[0m\u001b[0;34m)\u001b[0m\u001b[0;34m\u001b[0m\u001b[0m\n",
      "\u001b[0;32m/Users/alihurriyetoglu/anaconda3/lib/python3.5/site-packages/pymongo/network.py\u001b[0m in \u001b[0;36mreceive_message\u001b[0;34m(sock, operation, request_id)\u001b[0m\n\u001b[1;32m     58\u001b[0m \u001b[0;32mdef\u001b[0m \u001b[0mreceive_message\u001b[0m\u001b[0;34m(\u001b[0m\u001b[0msock\u001b[0m\u001b[0;34m,\u001b[0m \u001b[0moperation\u001b[0m\u001b[0;34m,\u001b[0m \u001b[0mrequest_id\u001b[0m\u001b[0;34m)\u001b[0m\u001b[0;34m:\u001b[0m\u001b[0;34m\u001b[0m\u001b[0m\n\u001b[1;32m     59\u001b[0m     \u001b[0;34m\"\"\"Receive a raw BSON message or raise socket.error.\"\"\"\u001b[0m\u001b[0;34m\u001b[0m\u001b[0m\n\u001b[0;32m---> 60\u001b[0;31m     \u001b[0mheader\u001b[0m \u001b[0;34m=\u001b[0m \u001b[0m_receive_data_on_socket\u001b[0m\u001b[0;34m(\u001b[0m\u001b[0msock\u001b[0m\u001b[0;34m,\u001b[0m \u001b[0;36m16\u001b[0m\u001b[0;34m)\u001b[0m\u001b[0;34m\u001b[0m\u001b[0m\n\u001b[0m\u001b[1;32m     61\u001b[0m     \u001b[0mlength\u001b[0m \u001b[0;34m=\u001b[0m \u001b[0m_UNPACK_INT\u001b[0m\u001b[0;34m(\u001b[0m\u001b[0mheader\u001b[0m\u001b[0;34m[\u001b[0m\u001b[0;34m:\u001b[0m\u001b[0;36m4\u001b[0m\u001b[0;34m]\u001b[0m\u001b[0;34m)\u001b[0m\u001b[0;34m[\u001b[0m\u001b[0;36m0\u001b[0m\u001b[0;34m]\u001b[0m\u001b[0;34m\u001b[0m\u001b[0m\n\u001b[1;32m     62\u001b[0m \u001b[0;34m\u001b[0m\u001b[0m\n",
      "\u001b[0;32m/Users/alihurriyetoglu/anaconda3/lib/python3.5/site-packages/pymongo/network.py\u001b[0m in \u001b[0;36m_receive_data_on_socket\u001b[0;34m(sock, length)\u001b[0m\n\u001b[1;32m     80\u001b[0m     \u001b[0mmsg\u001b[0m \u001b[0;34m=\u001b[0m \u001b[0;34mb\"\"\u001b[0m\u001b[0;34m\u001b[0m\u001b[0m\n\u001b[1;32m     81\u001b[0m     \u001b[0;32mwhile\u001b[0m \u001b[0mlength\u001b[0m\u001b[0;34m:\u001b[0m\u001b[0;34m\u001b[0m\u001b[0m\n\u001b[0;32m---> 82\u001b[0;31m         \u001b[0mchunk\u001b[0m \u001b[0;34m=\u001b[0m \u001b[0msock\u001b[0m\u001b[0;34m.\u001b[0m\u001b[0mrecv\u001b[0m\u001b[0;34m(\u001b[0m\u001b[0mlength\u001b[0m\u001b[0;34m)\u001b[0m\u001b[0;34m\u001b[0m\u001b[0m\n\u001b[0m\u001b[1;32m     83\u001b[0m         \u001b[0;32mif\u001b[0m \u001b[0mchunk\u001b[0m \u001b[0;34m==\u001b[0m \u001b[0;34mb\"\"\u001b[0m\u001b[0;34m:\u001b[0m\u001b[0;34m\u001b[0m\u001b[0m\n\u001b[1;32m     84\u001b[0m             \u001b[0;32mraise\u001b[0m \u001b[0mAutoReconnect\u001b[0m\u001b[0;34m(\u001b[0m\u001b[0;34m\"connection closed\"\u001b[0m\u001b[0;34m)\u001b[0m\u001b[0;34m\u001b[0m\u001b[0m\n",
      "\u001b[0;31mKeyboardInterrupt\u001b[0m: "
     ]
    }
   ],
   "source": [
    "importlib.reload(rlv)\n",
    "\n",
    "# after the first iteration, the annotated clusters should be excluded from the clustering.\n",
    "# read this file from the tagged collection.\n",
    "annotated_tw_ids = ['563657483395530753', '563662532326330370', '563654330041909248', '563654944927281152', '563657924233289728', '563661021559390208', '563651950386757632', '563657164317667328', '563660271810383872', '563662538949160960'] #You should get the actual annotated tweet ids from the annotated tweets collection.\n",
    "#annotated_tw_ids = []\n",
    "# mongo_query=({'_id': {'$gte': begin, '$lte': end},'lang':'en'})\n",
    "tweetlist = rlv.read_json_tweet_fields_database(rlvcl, mongo_query=({}), read_fields={'text': 1, 'id_str': 1, '_id': 0, 'user_id': 1}, tweet_count=-1, annotated_ids=annotated_tw_ids)#=tweetsDF)\n",
    "\n",
    "rlv.logging.info(\"Number of tweets:\" + str(len(tweetlist)))\n",
    "print(\"Number of tweets:\",len(tweetlist))"
   ]
  },
  {
   "cell_type": "code",
   "execution_count": null,
   "metadata": {
    "collapsed": false
   },
   "outputs": [],
   "source": [
    "tweetsDF = rlv.create_dataframe(tweetlist)\n",
    "tweetsDF.head()"
   ]
  },
  {
   "cell_type": "code",
   "execution_count": null,
   "metadata": {
    "collapsed": false
   },
   "outputs": [],
   "source": [
    "len(tweetsDF)"
   ]
  },
  {
   "cell_type": "code",
   "execution_count": null,
   "metadata": {
    "collapsed": true
   },
   "outputs": [],
   "source": [
    "#tweetsDF.to_pickle(\"20151005_tweetsDF_Genocide\")"
   ]
  },
  {
   "cell_type": "code",
   "execution_count": null,
   "metadata": {
    "collapsed": false
   },
   "outputs": [],
   "source": [
    "# Be careful do not overwrite tweetsDFBackUP with a modified tweetsDF\n",
    "#tweetsDFBackUP = tweetsDF.copy()\n",
    "#len(tweetsDFBackUP)"
   ]
  },
  {
   "cell_type": "code",
   "execution_count": null,
   "metadata": {
    "collapsed": false
   },
   "outputs": [],
   "source": [
    "# Get a clean copy \n",
    "#importlib.reload(rlv)\n",
    "tweetsDF = tweetsDFBackUP.copy()\n",
    "len(tweetsDF)"
   ]
  },
  {
   "cell_type": "code",
   "execution_count": null,
   "metadata": {
    "collapsed": false
   },
   "outputs": [],
   "source": [
    "tweetsDF[active_col] = tweetsDF[\"text\"].copy()\n",
    "tweetsDF = rlv.tok_results(tweetsDF, elimrt = True)"
   ]
  },
  {
   "cell_type": "code",
   "execution_count": null,
   "metadata": {
    "collapsed": false
   },
   "outputs": [],
   "source": [
    "len(tweetsDF)"
   ]
  },
  {
   "cell_type": "code",
   "execution_count": null,
   "metadata": {
    "collapsed": false
   },
   "outputs": [],
   "source": [
    "tweetsDF = rlv.normalize_text(tweetsDF)\n",
    "len(tweetsDF), tweetsDF.columns"
   ]
  },
  {
   "cell_type": "code",
   "execution_count": null,
   "metadata": {
    "collapsed": false
   },
   "outputs": [],
   "source": [
    "#importlib.reload(rlv)\n",
    "#rlv.set_active_column(active_col)"
   ]
  },
  {
   "cell_type": "code",
   "execution_count": null,
   "metadata": {
    "collapsed": true
   },
   "outputs": [],
   "source": [
    "def eliminate_duplicates_recursively(df, duplicate_elim_func):\n",
    "    \"\"\"\n",
    "    The actual near-duplicate detection algorithm is not memory-efficient enough. Therefore,\n",
    "    we mostly need to divide the data in the buckets, eliminate duplicates, merge the data, shuffle it, and repeat\n",
    "    the same cycle, until no-duplicate detected in any bucket. That may take long for big data sets. Conditions can\n",
    "    be relaxed to be quicker but leave a few duplicates.\n",
    "    \"\"\"\n",
    "            \n",
    "        print(\"starting, length:\",len(df))\n",
    "        df = df.reindex(np.random.permutation(df.index))\n",
    "        df.reset_index(inplace=True, drop=True)\n",
    "        \n",
    "        tmp_df2 = pd.DataFrame()\n",
    "        for i in range(0, len(df), 10000):\n",
    "            tmp_unique = duplicate_elim_func(df[i:i+step], similarity_threshold=0.20, debug=True, debug_threshold=10000)\n",
    "            tmp_df2 = pd.concat([tmp_df2, tmp_unique], ignore_index=True)\n",
    "            \n",
    "        if len(df) > len(tmp_df2):\n",
    "            print(str(len(df) - len(tmp_df2))+\" tweets were eliminated!\")\n",
    "            return eliminate_duplicates_recursively(tmp_df2, duplicate_elim_func)\n",
    "        \n",
    "        return df"
   ]
  },
  {
   "cell_type": "code",
   "execution_count": null,
   "metadata": {
    "collapsed": false
   },
   "outputs": [],
   "source": [
    "tweetsDF_uniq = eliminate_duplicates_recursively(tweetsDF.copy(), rlv.get_and_eliminate_near_duplicate_tweets)\n"
   ]
  },
  {
   "cell_type": "code",
   "execution_count": null,
   "metadata": {
    "collapsed": false
   },
   "outputs": [],
   "source": [
    "len(tweetsDF_uniq)"
   ]
  },
  {
   "cell_type": "code",
   "execution_count": null,
   "metadata": {
    "collapsed": true
   },
   "outputs": [],
   "source": [
    "tweetsDF_uniq.to_pickle(\"20151005_unique_genocide_tweets.pickle\")"
   ]
  },
  {
   "cell_type": "code",
   "execution_count": null,
   "metadata": {
    "collapsed": false
   },
   "outputs": [],
   "source": [
    "tweetsDF_uniq[[\"active_text\"]][:10]"
   ]
  },
  {
   "cell_type": "code",
   "execution_count": 224,
   "metadata": {
    "collapsed": false
   },
   "outputs": [],
   "source": [
    "importlib.reload(rlv)\n",
    "rlv.set_active_column(active_col)"
   ]
  },
  {
   "cell_type": "code",
   "execution_count": 225,
   "metadata": {
    "collapsed": false
   },
   "outputs": [],
   "source": [
    "cluster_list = rlv.create_clusters(tweetsDF_uniq, my_token_pattern, min_dist_thres=0.725, max_dist_thres=0.875, min_max_diff_thres=0.4, nameprefix='1-', min_clusters=100, user_identifier='user_id')"
   ]
  },
  {
   "cell_type": "code",
   "execution_count": 226,
   "metadata": {
    "collapsed": false
   },
   "outputs": [
    {
     "name": "stdout",
     "output_type": "stream",
     "text": [
      "Number of clusters: 145\n",
      "available cluster information: dict_keys(['ctweettuplelist', 'twids', 'cnoprefix', 'rif', 'cno', 'cstr', 'user_entropy'])\n"
     ]
    }
   ],
   "source": [
    "print(\"Number of clusters:\",len(cluster_list))\n",
    "print(\"available cluster information:\", cluster_list[0].keys())"
   ]
  },
  {
   "cell_type": "code",
   "execution_count": 227,
   "metadata": {
    "collapsed": true
   },
   "outputs": [],
   "source": [
    "i = 0"
   ]
  },
  {
   "cell_type": "code",
   "execution_count": 237,
   "metadata": {
    "collapsed": false
   },
   "outputs": [
    {
     "name": "stdout",
     "output_type": "stream",
     "text": [
      "No: 324\n",
      "CStr: cluster number and size are: 324    62\n",
      "\n",
      "Cluster Tuple List:\n",
      "(0.78476101036957813, 'yes nothing spreads hate like opposing racism &amp; black genocide i agree. tk usrusrusr usrusrusr usrusrusr usrusrusr')\n",
      "(0.79291036153521355, 'so ending black genocide insights violence? oh really? no black genocide is violent. tk usrusrusr usrusrusr usrusrusr usrusrusr usrusrusr')\n",
      "(0.79291834637943648, 'yes racists think opposing racism &amp; black genocide makes me a racist. tk usrusrusr usrusrusr usrusrusr usrusrusr usrusrusr')\n",
      "(0.8036062851138589, 'yes racists call me a monster for opposing black genocide its absurd. tk usrusrusr usrusrusr usrusrusr usrusrusr usrusrusr')\n",
      "(0.80379103769140281, \"mor'on(n) !)someone black destroys the arguments of dumb whites. 2)opposes black genocide. tk usrusrusr usrusrusr usrusrusr usrusrusr\")\n",
      "(0.8129036502182011, 'yes black genocide is anything meant to kill 1.1b blacks. you damn right. tk usrusrusr usrusrusr usrusrusr usrusrusr')\n",
      "(0.81320378072796051, 'yes racists lie in order to deflect &amp; demean to justify black genocide. tk usrusrusr usrusrusr usrusrusr usrusrusr usrusrusr')\n",
      "(0.81678614503876179, \"no my premise is if we're all criminals you get to commit black genocide. tk usrusrusr usrusrusr usrusrusr usrusrusr usrusrusr\")\n",
      "(0.82089592977935222, \"racists think if they don't spell out black genocide then its ok. tk usrusrusr usrusrusr usrusrusr usrusrusr usrusrusr\")\n",
      "(0.82162976179221181, 'how blacks feel about racists is not an excuse for black genocide its absurd &amp; dumb. tk usrusrusr usrusrusr usrusrusr usrusrusr')\n",
      "(0.83561711871271105, 'the present facts when it advances black genocide. there are 1.1b blacks in africa. tk usrusrusr usrusrusr usrusrusr usrusrusr')\n",
      "(0.83824228506973408, 'yes the klan supports black genocide but how does that help you? tk usrusrusr usrusrusr usrusrusr usrusrusr usrusrusr')\n",
      "(0.83824616691607023, \"yes i'm sure he thinks i'm a bigot for opposing racism &amp; black genocide. tk usrusrusr usrusrusr usrusrusr usrusrusr usrusrusr\")\n",
      "(0.84155828300305391, 'all whites who accepted your racist lies are complicit in black genocide. tk usrusrusr usrusrusr usrusrusr usrusrusr')\n",
      "(0.84265470647592755, 'yes nothing is more racist then opposing racism and black genocide makes sense. tk usrusrusr usrusrusr usrusrusr usrusrusr')\n",
      "(0.84355214497971465, 'yes racists deny the existence of blacks makes genocide easier. tk usrusrusr usrusrusr usrusrusr usrusrusr usrusrusr')\n",
      "(0.84366956570579488, 'yes the mentally ill blacks think black genocide is best but its not. tk usrusrusr usrusrusr usrusrusr')\n",
      "(0.84657802617254119, 'he thinks if he labels me a liar that justifies black genocide its absurd. tk usrusrusr usrusrusr usrusrusr usrusrusr usrusrusr')\n",
      "(0.84990341081479226, 'whites killing off the black race is \"white suicide\" not genocide. tk usrusrusr usrusrusr usrusrusr usrusrusr')\n",
      "(0.8511630098640669, 'you don\\'t get to call opposition to racism &amp; black genocide \"hate\" that\\'s absurd. tk usrusrusr usrusrusr usrusrusr usrusrusr')\n",
      "(0.85129584160934846, 'racists think blacks oppose racism &amp; black genocide because we hate whites, its absurd. tk usrusrusr usrusrusr #blackmediamatters')\n",
      "(0.85197261793972756, \"i will never denounce blacks so you can kill us that's genocide. tk usrusrusr usrusrusr usrusrusr usrusrusr usrusrusr\")\n",
      "(0.85215057484694834, 'yes blacks who oppose black genocide are responsible for racists committing black genocide makes sense.  tk usrusrusr usrusrusr')\n",
      "(0.85231342673872057, 'whites think if they call black genocide \"love\" that makes it ok. tk usrusrusr usrusrusr usrusrusr usrusrusr')\n",
      "(0.85445551233328076, \"populations don't decrease by 200 million over time unless its genocide. tk usrusrusr usrusrusr usrusrusr usrusrusr\")\n",
      "(0.85539943774957561, 'lester knows its genocide but he thinks killing all blacks brings joy. tk usrusrusr usrusrusr usrusrusr usrusrusr usrusrusr')\n",
      "(0.85652412449705773, \"what argument are racists making that blacks shouldn't take money to fight genocide? tk usrusrusr usrusrusr usrusrusr usrusrusr usrusrusr\")\n",
      "(0.85833426932701307, 'no black genocide is killing over 200 million blacks since slavery. tk usrusrusr usrusrusr usrusrusr')\n",
      "(0.85997611491020909, 'we reject the lie that opposing black genocide equates to black supremacy. usrusrusr usrusrusr usrusrusr usrusrusr usrusrusr tk')\n",
      "(0.86456741652732738, 'most whites have no problem with black genocide through miscegenation. tk usrusrusr usrusrusr usrusrusr')\n",
      "(0.8661217270236462, 'racists w/the lie that its hate to oppose racism &amp; black genocide how stupid. tk usrusrusr usrusrusr usrusrusr')\n",
      "(0.87195684224298742, \"bikers are bikers you're simply lying to sell your black genocide narrative. tk usrusrusr usrusrusr usrusrusr\")\n",
      "(0.87325614715706046, 'we reject the lie that to oppose black genocide means we hate whites. tk usrusrusr usrusrusr usrusrusr')\n",
      "(0.87366498706309459, \"it doesn't but you need an excuse to justify black genocide so any dumb lie will do. tk usrusrusr usrusrusr usrusrusr usrusrusr\")\n",
      "(0.87492330169019039, \"or are you suggesting to make opposing black genocide fair we can't be funded only you can? tk usrusrusr usrusrusr usrusrusr\")\n",
      "(0.87742905615410893, \"that's stupid you make up a word to pin on ppl oppose black genocide? its stupid. tk usrusrusr usrusrusr usrusrusr usrusrusr\")\n",
      "(0.87972159686685714, 'yes black genocide masked as love is no less damning than the nazi death camps. tk usrusrusr usrusrusr usrusrusr')\n",
      "(0.88037461481674173, 'should there be a black race lester? should we start one? ok then its genocide. tk usrusrusr usrusrusr usrusrusr usrusrusr')\n",
      "(0.88351868895364083, 'i reject the notion that opposing racism &amp; black genocide means i hate your massa. its absurd. tk usrusrusr usrusrusr usrusrusr')\n",
      "(0.88746446399118895, 'not all whites well where the hell are the 2 whites not down for black genocide? step up. tk usrusrusr usrusrusr usrusrusr usrusrusr')\n",
      "(0.88767361802772149, \"to argue, that blacks shouldn't react to racist murder as an excuse for genocide? tk usrusrusr usrusrusr usrusrusr usrusrusr\")\n",
      "(0.88775379715600466, \"so because racists can't make their case for black genocide its my fault? no your argument is dumb. tk usrusrusr usrusrusr usrusrusr\")\n",
      "(0.88791599488266404, \"i disagree w/racists killing blacks because we won't date inter-racially. tk usrusrusr usrusrusr usrusrusr usrusrusr #genocide\")\n",
      "(0.88828879021774465, \"no we don't wait until the genocide is complete to object to it. tk usrusrusr usrusrusr usrusrusr usrusrusr usrusrusr\")\n",
      "(0.89316692021776323, \"so blacks fighting black genocide shouldnt' be compensated poor oprah &amp; lebron should get all the money, really? tk usrusrusr usrusrusr\")\n",
      "(0.89815298851299119, \"there's no such thing as less than 100% black your mental illness doesn't' make black genocide ok. tk usrusrusr usrusrusr usrusrusr\")\n",
      "(0.90637528662282396, \"no all whites envy blacks because we don't feel white guilt but genocide is not the answer. tk usrusrusr usrusrusr usrusrusr\")\n",
      "(0.90859507213359925, 'no, black men selling out is still black genocide cause its self-hate &amp; white supremacy myth. tk usrusrusr usrusrusr')\n",
      "(0.91112986673645935, 'no i don\\'t call my opposition to black genocide \"hate\". genocide is wrong we should all oppose it. tk usrusrusr usrusrusr')\n",
      "(0.91414368178362648, 'what your fellow racist did in dallas was what genocide or suicide? come on racists tell me? tk usrusrusr usrusrusr usrusrusr')\n",
      "(0.91758015122539349, \"you'd think murdering ppl cause the pres black begs to be prosecuted, maybe not.  tk usrusrusr usrusrusr usrusrusr #genocide\")\n",
      "(0.92204605940248408, 'wrong. the black pop will resist genocide as we have throughout the first 8m years. sorry. tk usrusrusr usrusrusr')\n",
      "(0.92349808835039071, 'so the racist tea party nuts supported obama and opposed racism &amp; black genocide? you dumb liar you need the help. tk usrusrusr usrusrusr')\n",
      "(0.929570156965562, \"yes its called a pattern of racist genocide that's part of your dna. #racistwhitedna tk usrusrusr usrusrusr usrusrusr\")\n",
      "(0.93031761530957457, 'but you see she gets along better with a retarded racist hell bent on black genocide than with a black man? tk usrusrusr usrusrusr')\n",
      "(0.93531352946846558, \"i'm looking for your dumb argument that blks who oppose genocide are paid for it? tk usrusrusr usrusrusr usrusrusr\")\n",
      "(0.93747803823598752, 'yes retarded white racists are given favor long as they hate blacks promote genocide good point joe. tk usrusrusr usrusrusr')\n",
      "(0.94054207970026527, \"you wont' guilt me into supporting black genocide. without blacks humanity would end. sorry racist lunatic. usrusrusr usrusrusr tk\")\n",
      "(0.94159801766118467, 'yes racists think opposing black genocide is an affront to whites. that argument is absurd and they know it. usrusrusr usrusrusr tk')\n",
      "(0.9416179367402091, \"if blacks denounce blacks reacting to black genocide that's a license to exterminate the entire race. usrusrusr usrusrusr usrusrusr tk\")\n",
      "(0.94403327349938071, 'genocide is not love. the who has labeled interracial rape as genocide. i destroyed that racist joe. tk usrusrusr usrusrusr')\n",
      "(0.95386870249370681, 'six generations over 450yrs would be 600 million blacks outside of africa. 200 million are missing. #genocide tk usrusrusr usrusrusr')\n"
     ]
    }
   ],
   "source": [
    "#i = i-2\n",
    "print(\"No:\",cluster_list[i]['cno'])\n",
    "print(\"CStr:\",cluster_list[i]['cstr'])\n",
    "print(\"Cluster Tuple List:\")\n",
    "print(*[(c[0],c[2]) for c in cluster_list[i]['ctweettuplelist']], sep='\\n')\n",
    "# Add any field you want to observe.\n",
    "i+=1"
   ]
  },
  {
   "cell_type": "code",
   "execution_count": 215,
   "metadata": {
    "collapsed": false
   },
   "outputs": [
    {
     "name": "stdout",
     "output_type": "stream",
     "text": [
      "Reverse Frequency of the terms:\n",
      "1\n",
      "2 : ['news the', 'indonesia', 'abortion', 'house of', 'oslo', 'language', 'urlurlurl myanmar', 'commemoration', 'rwanda', 'happening', 'genocide against', 'urlurlurl pakistan', 'daily', 'n', 'day', 'in the', 'cry', 'a rohingya', 'don t', 'the rohingya', 'breaking', '4', 'to end', 'the armenian', 'wanted for', 's genocide', 'nazi', 'with', 'part 2', '1', 'breaking news', 'ethnic cleansing', 'voice', 'cleansing of', 'urlurlurl rwanda', 'commemoration of', 'obama s', 'in arakan', 'pacific', 'anniversary', 'now', 'play', 'don', 'urlurlurl obama', 'rohingya language', 'fukushima breaking', 'cultural', 'oslo conference', 'cultural genocide', 'is genocide', 'about', 'armenia', 'urlurlurl what', 'film', 'wanted', 'pakistan', 'who', 'bangladesh', 'ethnic', 'house', '100', 'address', 'conference', 'rohingyas', 'fukushima news', 'myanmar to', 'cover', 'times', 'tv', 'plight', 'mark', 'speaks', 'of genocide', 'burma times', 'srebrenica genocide', 'their', 'genocide and', 'urlurlurl turkey', 'pacific genocide']\n",
      "3 : ['against', 'on myanmar', 'urlurlurl a', 'of the', 'armenian', 'armenian genocide', 'amp', 'genocide the', 'genocide of', 'full', '2', 'from the', 'srebrenica', 'rohingya in', 't', 'obama', 'dr', 'urlurlurl rohingya', 'end', 'cleansing', 'vienna', 'at', 'urlurlurl the', 'not', 'new', 'what', 'by']\n",
      "4 : ['myanmar s', 'people', 'fukushima', 'rohingya muslims', 'part', 'urlurlurl fukushima', 'arakan', 'the genocide', 'is', 'and the', 'urlurlurl genocide', 'turkey', 'documentary']\n",
      "5 : ['muslims', 'war', 'for']\n",
      "6 : ['news', 'of rohingya', 'burma']\n",
      "8 : ['2015']\n",
      "9 : ['on']\n",
      "10 : ['and']\n",
      "11 : ['myanmar']\n",
      "76 : ['i liked', 'liked a', 'liked']\n",
      "77 : ['video']\n",
      "78 : ['i']\n",
      "16 : ['to']\n",
      "17 : ['usrusrusr urlurlurl', 'from usrusrusr']\n",
      "18 : ['video from']\n",
      "14 : ['in', 's']\n",
      "22 : ['from']\n",
      "87 : ['a']\n",
      "75 : ['urlurlurl', 'a usrusrusr', 'usrusrusr video']\n",
      "92 : ['usrusrusr']\n",
      "31 : ['the']\n",
      "32 : ['rohingya']\n",
      "28 : ['of']\n",
      "50 : ['genocide']\n",
      "58 : ['video urlurlurl']\n"
     ]
    }
   ],
   "source": [
    "print(\"Reverse Frequency of the terms:\")\n",
    "print(i)\n",
    "for k, v in Counter({int(k):v for k,v in cluster_list[i-1]['rif'].items()}).items():\n",
    "    if k>1:\n",
    "        print(k,\":\",v)"
   ]
  },
  {
   "cell_type": "code",
   "execution_count": 252,
   "metadata": {
    "collapsed": false
   },
   "outputs": [
    {
     "ename": "OperationFailure",
     "evalue": "quota exceeded",
     "output_type": "error",
     "traceback": [
      "\u001b[0;31m---------------------------------------------------------------------------\u001b[0m",
      "\u001b[0;31mOperationFailure\u001b[0m                          Traceback (most recent call last)",
      "\u001b[0;32m<ipython-input-252-6a28de1f66f4>\u001b[0m in \u001b[0;36m<module>\u001b[0;34m()\u001b[0m\n\u001b[1;32m      2\u001b[0m \u001b[0;34m\u001b[0m\u001b[0m\n\u001b[1;32m      3\u001b[0m \u001b[0mcollection_name\u001b[0m \u001b[0;34m=\u001b[0m \u001b[0;34m'genocide_clusters_20151005'\u001b[0m\u001b[0;34m\u001b[0m\u001b[0m\n\u001b[0;32m----> 4\u001b[0;31m \u001b[0mrlvdb2\u001b[0m\u001b[0;34m[\u001b[0m\u001b[0mcollection_name\u001b[0m\u001b[0;34m]\u001b[0m\u001b[0;34m.\u001b[0m\u001b[0minsert\u001b[0m\u001b[0;34m(\u001b[0m\u001b[0mcluster_list\u001b[0m\u001b[0;34m)\u001b[0m \u001b[0;31m#Each iteration results with a candidate cluster list. Each iteration will have its own list. Therefore they are not mixed.\u001b[0m\u001b[0;34m\u001b[0m\u001b[0m\n\u001b[0m\u001b[1;32m      5\u001b[0m \u001b[0mprint\u001b[0m\u001b[0;34m(\u001b[0m\u001b[0;34m\"Clusters were written to the collection:\"\u001b[0m\u001b[0;34m,\u001b[0m \u001b[0mcollection_name\u001b[0m\u001b[0;34m)\u001b[0m\u001b[0;34m\u001b[0m\u001b[0m\n",
      "\u001b[0;32m/Users/alihurriyetoglu/anaconda3/lib/python3.4/site-packages/pymongo/collection.py\u001b[0m in \u001b[0;36minsert\u001b[0;34m(self, doc_or_docs, manipulate, safe, check_keys, continue_on_error, **kwargs)\u001b[0m\n\u001b[1;32m    408\u001b[0m                     \u001b[0mself\u001b[0m\u001b[0;34m.\u001b[0m\u001b[0mdatabase\u001b[0m\u001b[0;34m.\u001b[0m\u001b[0mname\u001b[0m \u001b[0;34m+\u001b[0m \u001b[0;34m\".$cmd\"\u001b[0m\u001b[0;34m,\u001b[0m \u001b[0m_INSERT\u001b[0m\u001b[0;34m,\u001b[0m \u001b[0mcommand\u001b[0m\u001b[0;34m,\u001b[0m\u001b[0;34m\u001b[0m\u001b[0m\n\u001b[1;32m    409\u001b[0m                     gen(), check_keys, self.uuid_subtype, client)\n\u001b[0;32m--> 410\u001b[0;31m             \u001b[0m_check_write_command_response\u001b[0m\u001b[0;34m(\u001b[0m\u001b[0mresults\u001b[0m\u001b[0;34m)\u001b[0m\u001b[0;34m\u001b[0m\u001b[0m\n\u001b[0m\u001b[1;32m    411\u001b[0m         \u001b[0;32melse\u001b[0m\u001b[0;34m:\u001b[0m\u001b[0;34m\u001b[0m\u001b[0m\n\u001b[1;32m    412\u001b[0m             \u001b[0;31m# Legacy batched OP_INSERT\u001b[0m\u001b[0;34m\u001b[0m\u001b[0;34m\u001b[0m\u001b[0m\n",
      "\u001b[0;32m/Users/alihurriyetoglu/anaconda3/lib/python3.4/site-packages/pymongo/helpers.py\u001b[0m in \u001b[0;36m_check_write_command_response\u001b[0;34m(results)\u001b[0m\n\u001b[1;32m    207\u001b[0m                 raise WTimeoutError(error.get(\"errmsg\"),\n\u001b[1;32m    208\u001b[0m                                     error.get(\"code\"), error)\n\u001b[0;32m--> 209\u001b[0;31m         \u001b[0;32mraise\u001b[0m \u001b[0mOperationFailure\u001b[0m\u001b[0;34m(\u001b[0m\u001b[0merror\u001b[0m\u001b[0;34m.\u001b[0m\u001b[0mget\u001b[0m\u001b[0;34m(\u001b[0m\u001b[0;34m\"errmsg\"\u001b[0m\u001b[0;34m)\u001b[0m\u001b[0;34m,\u001b[0m \u001b[0merror\u001b[0m\u001b[0;34m.\u001b[0m\u001b[0mget\u001b[0m\u001b[0;34m(\u001b[0m\u001b[0;34m\"code\"\u001b[0m\u001b[0;34m)\u001b[0m\u001b[0;34m,\u001b[0m \u001b[0merror\u001b[0m\u001b[0;34m)\u001b[0m\u001b[0;34m\u001b[0m\u001b[0m\n\u001b[0m\u001b[1;32m    210\u001b[0m \u001b[0;34m\u001b[0m\u001b[0m\n\u001b[1;32m    211\u001b[0m \u001b[0;34m\u001b[0m\u001b[0m\n",
      "\u001b[0;31mOperationFailure\u001b[0m: quota exceeded"
     ]
    }
   ],
   "source": [
    "rlvdb2, rlvcl2 = rlv.connect_mongodb(configfile='ebasar2.ini',coll_name=\"testcl\")\n",
    "\n",
    "collection_name = 'genocide_clusters_20151005'\n",
    "rlvdb2[collection_name].insert(cluster_list) #Each iteration results with a candidate cluster list. Each iteration will have its own list. Therefore they are not mixed.\n",
    "print(\"Clusters were written to the collection:\", collection_name)"
   ]
  },
  {
   "cell_type": "code",
   "execution_count": null,
   "metadata": {
    "collapsed": true
   },
   "outputs": [],
   "source": [
    "import json\n",
    "with open('data.txt', 'w') as outfile:\n",
    "    json.dump(cluster_list, \"genocide_clusters.json\")"
   ]
  },
  {
   "cell_type": "code",
   "execution_count": null,
   "metadata": {
    "collapsed": true
   },
   "outputs": [],
   "source": [
    "x = 5\n",
    "x"
   ]
  },
  {
   "cell_type": "code",
   "execution_count": null,
   "metadata": {
    "collapsed": true
   },
   "outputs": [],
   "source": [
    "# import pickle\n",
    "# with open(\"genocide_clusters_20151005\", 'wb') as f:\n",
    "#     pickle.dump(cluster_list, f, pickle.HIGHEST_PROTOCOL)\n",
    "#     print(\"wrote km user to pickle\")"
   ]
  },
  {
   "cell_type": "code",
   "execution_count": 3,
   "metadata": {
    "collapsed": false
   },
   "outputs": [
    {
     "name": "stdout",
     "output_type": "stream",
     "text": [
      "read km_user from pickle\n"
     ]
    }
   ],
   "source": [
    "import pickle\n",
    "with open(\"genocide_clusters_20151005\", 'rb') as f:\n",
    "    cluster_list = pickle.load(f)"
   ]
  },
  {
   "cell_type": "code",
   "execution_count": 4,
   "metadata": {
    "collapsed": false
   },
   "outputs": [
    {
     "data": {
      "text/plain": [
       "dict_keys(['cno', 'twids', 'cnoprefix', 'cstr', 'user_entropy', 'ctweettuplelist', '_id', 'rif'])"
      ]
     },
     "execution_count": 4,
     "metadata": {},
     "output_type": "execute_result"
    }
   ],
   "source": [
    "cluster_list[0].keys()"
   ]
  },
  {
   "cell_type": "code",
   "execution_count": 249,
   "metadata": {
    "collapsed": true
   },
   "outputs": [],
   "source": [
    "cluster_list_small = []\n",
    "for c in cluster_list:\n",
    "    cluster_list_small.append({k:v for k,v in c.items() if k in [\"cno\",\"cstr\",\"user_entropy\",\"rif\",\"_id\",\"cnoprefix\",'twids']})"
   ]
  },
  {
   "cell_type": "code",
   "execution_count": 250,
   "metadata": {
    "collapsed": false
   },
   "outputs": [
    {
     "ename": "OperationFailure",
     "evalue": "quota exceeded",
     "output_type": "error",
     "traceback": [
      "\u001b[0;31m---------------------------------------------------------------------------\u001b[0m",
      "\u001b[0;31mOperationFailure\u001b[0m                          Traceback (most recent call last)",
      "\u001b[0;32m<ipython-input-250-287de3a25cf6>\u001b[0m in \u001b[0;36m<module>\u001b[0;34m()\u001b[0m\n\u001b[1;32m      1\u001b[0m \u001b[0mcollection_name\u001b[0m \u001b[0;34m=\u001b[0m \u001b[0;34m'genocide_clusters_small_20151005'\u001b[0m\u001b[0;34m\u001b[0m\u001b[0m\n\u001b[0;32m----> 2\u001b[0;31m \u001b[0mrlvdb\u001b[0m\u001b[0;34m[\u001b[0m\u001b[0mcollection_name\u001b[0m\u001b[0;34m]\u001b[0m\u001b[0;34m.\u001b[0m\u001b[0minsert\u001b[0m\u001b[0;34m(\u001b[0m\u001b[0mcluster_list_small\u001b[0m\u001b[0;34m)\u001b[0m \u001b[0;31m#Each iteration results with a candidate cluster list. Each iteration will have its own list. Therefore they are not mixed.\u001b[0m\u001b[0;34m\u001b[0m\u001b[0m\n\u001b[0m\u001b[1;32m      3\u001b[0m \u001b[0mprint\u001b[0m\u001b[0;34m(\u001b[0m\u001b[0;34m\"Clusters were written to the collection:\"\u001b[0m\u001b[0;34m,\u001b[0m \u001b[0mcollection_name\u001b[0m\u001b[0;34m)\u001b[0m\u001b[0;34m\u001b[0m\u001b[0m\n",
      "\u001b[0;32m/Users/alihurriyetoglu/anaconda3/lib/python3.4/site-packages/pymongo/collection.py\u001b[0m in \u001b[0;36minsert\u001b[0;34m(self, doc_or_docs, manipulate, safe, check_keys, continue_on_error, **kwargs)\u001b[0m\n\u001b[1;32m    408\u001b[0m                     \u001b[0mself\u001b[0m\u001b[0;34m.\u001b[0m\u001b[0mdatabase\u001b[0m\u001b[0;34m.\u001b[0m\u001b[0mname\u001b[0m \u001b[0;34m+\u001b[0m \u001b[0;34m\".$cmd\"\u001b[0m\u001b[0;34m,\u001b[0m \u001b[0m_INSERT\u001b[0m\u001b[0;34m,\u001b[0m \u001b[0mcommand\u001b[0m\u001b[0;34m,\u001b[0m\u001b[0;34m\u001b[0m\u001b[0m\n\u001b[1;32m    409\u001b[0m                     gen(), check_keys, self.uuid_subtype, client)\n\u001b[0;32m--> 410\u001b[0;31m             \u001b[0m_check_write_command_response\u001b[0m\u001b[0;34m(\u001b[0m\u001b[0mresults\u001b[0m\u001b[0;34m)\u001b[0m\u001b[0;34m\u001b[0m\u001b[0m\n\u001b[0m\u001b[1;32m    411\u001b[0m         \u001b[0;32melse\u001b[0m\u001b[0;34m:\u001b[0m\u001b[0;34m\u001b[0m\u001b[0m\n\u001b[1;32m    412\u001b[0m             \u001b[0;31m# Legacy batched OP_INSERT\u001b[0m\u001b[0;34m\u001b[0m\u001b[0;34m\u001b[0m\u001b[0m\n",
      "\u001b[0;32m/Users/alihurriyetoglu/anaconda3/lib/python3.4/site-packages/pymongo/helpers.py\u001b[0m in \u001b[0;36m_check_write_command_response\u001b[0;34m(results)\u001b[0m\n\u001b[1;32m    207\u001b[0m                 raise WTimeoutError(error.get(\"errmsg\"),\n\u001b[1;32m    208\u001b[0m                                     error.get(\"code\"), error)\n\u001b[0;32m--> 209\u001b[0;31m         \u001b[0;32mraise\u001b[0m \u001b[0mOperationFailure\u001b[0m\u001b[0;34m(\u001b[0m\u001b[0merror\u001b[0m\u001b[0;34m.\u001b[0m\u001b[0mget\u001b[0m\u001b[0;34m(\u001b[0m\u001b[0;34m\"errmsg\"\u001b[0m\u001b[0;34m)\u001b[0m\u001b[0;34m,\u001b[0m \u001b[0merror\u001b[0m\u001b[0;34m.\u001b[0m\u001b[0mget\u001b[0m\u001b[0;34m(\u001b[0m\u001b[0;34m\"code\"\u001b[0m\u001b[0;34m)\u001b[0m\u001b[0;34m,\u001b[0m \u001b[0merror\u001b[0m\u001b[0;34m)\u001b[0m\u001b[0;34m\u001b[0m\u001b[0m\n\u001b[0m\u001b[1;32m    210\u001b[0m \u001b[0;34m\u001b[0m\u001b[0m\n\u001b[1;32m    211\u001b[0m \u001b[0;34m\u001b[0m\u001b[0m\n",
      "\u001b[0;31mOperationFailure\u001b[0m: quota exceeded"
     ]
    }
   ],
   "source": [
    "\n",
    "\n",
    "collection_name = 'genocide_clusters_small_20151005'\n",
    "rlvdb[collection_name].insert(cluster_list_small) #Each iteration results with a candidate cluster list. Each iteration will have its own list. Therefore they are not mixed.\n",
    "print(\"Clusters were written to the collection:\", collection_name)"
   ]
  },
  {
   "cell_type": "code",
   "execution_count": null,
   "metadata": {
    "collapsed": true
   },
   "outputs": [],
   "source": []
  }
 ],
 "metadata": {
  "kernelspec": {
   "display_name": "Python 3",
   "language": "python",
   "name": "python3"
  },
  "language_info": {
   "codemirror_mode": {
    "name": "ipython",
    "version": 3
   },
   "file_extension": ".py",
   "mimetype": "text/x-python",
   "name": "python",
   "nbconvert_exporter": "python",
   "pygments_lexer": "ipython3",
   "version": "3.5.0"
  }
 },
 "nbformat": 4,
 "nbformat_minor": 0
}
