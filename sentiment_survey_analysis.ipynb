{
 "cells": [
  {
   "cell_type": "code",
   "execution_count": 381,
   "metadata": {
    "collapsed": false
   },
   "outputs": [],
   "source": [
    "import importlib\n",
    "import relevancer as rlv # https://github.com/cengelif/Relevancer # brach 'ali' contains the latest version.\n",
    "import pandas as pd\n",
    "from collections import Counter\n",
    "import numpy as np\n",
    "\n",
    "pd.set_option(\"display.max_colwidth\",200)"
   ]
  },
  {
   "cell_type": "code",
   "execution_count": 382,
   "metadata": {
    "collapsed": false
   },
   "outputs": [],
   "source": [
    "importlib.reload(rlv) # this is just to load the latest version of the Relevancer after we edit the code.\n",
    "active_col = \"active_text\"\n",
    "rlv.set_active_column(active_col)\n",
    "my_token_pattern = r\"[-+]?\\d+[.,]?\\d+|[#@]?\\w+\\b|[\\U00010000-\\U0010ffff]|[.:()\\[\\],;?!*]{2,4}\"\n",
    "rlv.set_token_pattern(my_token_pattern)"
   ]
  },
  {
   "cell_type": "code",
   "execution_count": 383,
   "metadata": {
    "collapsed": false
   },
   "outputs": [
    {
     "data": {
      "text/html": [
       "<div>\n",
       "<table border=\"1\" class=\"dataframe\">\n",
       "  <thead>\n",
       "    <tr style=\"text-align: right;\">\n",
       "      <th></th>\n",
       "      <th>soundbite_text</th>\n",
       "      <th>annotation</th>\n",
       "      <th>url</th>\n",
       "      <th>topicname</th>\n",
       "      <th>brands</th>\n",
       "      <th>topicid</th>\n",
       "      <th>language</th>\n",
       "      <th>parsetype</th>\n",
       "      <th>uuid</th>\n",
       "      <th>sourcetype</th>\n",
       "      <th>hp rules fired</th>\n",
       "      <th>mp rules fired</th>\n",
       "      <th>other rules</th>\n",
       "      <th>sentiment</th>\n",
       "      <th>mp sentiment</th>\n",
       "    </tr>\n",
       "  </thead>\n",
       "  <tbody>\n",
       "    <tr>\n",
       "      <th>0</th>\n",
       "      <td>www.thecoca-colacompany.com 1964te Türkiyede faaliyetlerine başlayan Coca-Cola, 8 farklı kategorideki 15 markasıyla alkolsüz içecek üretiyor.</td>\n",
       "      <td>NaN</td>\n",
       "      <td>http://forum.iyinet.com/teknoloji-rss-haberler/263946-turkiye-nin-ilk-profesyonel-espor-ligi.html#post1395917</td>\n",
       "      <td>Coca Cola-tr</td>\n",
       "      <td>Coca-Cola,#cocacola,@CocaCola_TR</td>\n",
       "      <td>454075</td>\n",
       "      <td>tr</td>\n",
       "      <td>ot</td>\n",
       "      <td>a3e0b3e3-cad9-4968-9fea-3dcec9f62fc1</td>\n",
       "      <td>Forums</td>\n",
       "      <td>Negatives.@ObjectObjQ_nW_badW|annoyW|hateW_!negative_!negative_Negatives</td>\n",
       "      <td>Positives.@ObjQ_pW_goodW|happyW|loveW_!negative_!negative_Positives</td>\n",
       "      <td>NaN</td>\n",
       "      <td>Negative</td>\n",
       "      <td>Mixed</td>\n",
       "    </tr>\n",
       "    <tr>\n",
       "      <th>1</th>\n",
       "      <td>Seçimi boykot eden = Coca-Cola'yı boykot edip fanta içen vatandaş 😂😂😂 Sizinde oylarınız hayırlı olsun hamilinize yazıldı😄</td>\n",
       "      <td>NaN</td>\n",
       "      <td>http://twitter.com/_SeVoM_/statuses/498444683526549504</td>\n",
       "      <td>Coca Cola-tr</td>\n",
       "      <td>Coca-Cola,#cocacola,@CocaCola_TR</td>\n",
       "      <td>454075</td>\n",
       "      <td>tr</td>\n",
       "      <td>tw</td>\n",
       "      <td>77dbf5d9-9a81-45ef-ae23-95e0489940f3</td>\n",
       "      <td>Twitter</td>\n",
       "      <td>Negatives.Brand_does_sth_bad</td>\n",
       "      <td>NaN</td>\n",
       "      <td>Positives.@ObjectObjQ_pW_goodW|happyW|loveW_!negative_!negative_Positives, Negatives.Brand_does_sth_bad</td>\n",
       "      <td>Negative</td>\n",
       "      <td>Mixed</td>\n",
       "    </tr>\n",
       "  </tbody>\n",
       "</table>\n",
       "</div>"
      ],
      "text/plain": [
       "                                                                                                                                  soundbite_text  \\\n",
       "0  www.thecoca-colacompany.com 1964te Türkiyede faaliyetlerine başlayan Coca-Cola, 8 farklı kategorideki 15 markasıyla alkolsüz içecek üretiyor.   \n",
       "1                      Seçimi boykot eden = Coca-Cola'yı boykot edip fanta içen vatandaş 😂😂😂 Sizinde oylarınız hayırlı olsun hamilinize yazıldı😄   \n",
       "\n",
       "   annotation  \\\n",
       "0         NaN   \n",
       "1         NaN   \n",
       "\n",
       "                                                                                                             url  \\\n",
       "0  http://forum.iyinet.com/teknoloji-rss-haberler/263946-turkiye-nin-ilk-profesyonel-espor-ligi.html#post1395917   \n",
       "1                                                         http://twitter.com/_SeVoM_/statuses/498444683526549504   \n",
       "\n",
       "      topicname                            brands  topicid language parsetype  \\\n",
       "0  Coca Cola-tr  Coca-Cola,#cocacola,@CocaCola_TR   454075       tr        ot   \n",
       "1  Coca Cola-tr  Coca-Cola,#cocacola,@CocaCola_TR   454075       tr        tw   \n",
       "\n",
       "                                   uuid sourcetype  \\\n",
       "0  a3e0b3e3-cad9-4968-9fea-3dcec9f62fc1     Forums   \n",
       "1  77dbf5d9-9a81-45ef-ae23-95e0489940f3    Twitter   \n",
       "\n",
       "                                                             hp rules fired  \\\n",
       "0  Negatives.@ObjectObjQ_nW_badW|annoyW|hateW_!negative_!negative_Negatives   \n",
       "1                                              Negatives.Brand_does_sth_bad   \n",
       "\n",
       "                                                        mp rules fired  \\\n",
       "0  Positives.@ObjQ_pW_goodW|happyW|loveW_!negative_!negative_Positives   \n",
       "1                                                                  NaN   \n",
       "\n",
       "                                                                                               other rules  \\\n",
       "0                                                                                                      NaN   \n",
       "1  Positives.@ObjectObjQ_pW_goodW|happyW|loveW_!negative_!negative_Positives, Negatives.Brand_does_sth_bad   \n",
       "\n",
       "  sentiment mp sentiment  \n",
       "0  Negative        Mixed  \n",
       "1  Negative        Mixed  "
      ]
     },
     "execution_count": 383,
     "metadata": {},
     "output_type": "execute_result"
    }
   ],
   "source": [
    "negatives_df = pd.read_excel(\"../../PhD/traineeship/tasks/survey2/Shogun_survey_tr_start.xlsx\", sheetname='Negatives')\n",
    "negatives_df.head(2)"
   ]
  },
  {
   "cell_type": "code",
   "execution_count": 384,
   "metadata": {
    "collapsed": false
   },
   "outputs": [
    {
     "data": {
      "text/plain": [
       "(636,\n",
       " 0                                                            www.thecoca-colacompany.com 1964te Türkiyede faaliyetlerine başlayan Coca-Cola, 8 farklı kategorideki 15 markasıyla alkolsüz içecek üretiyor.\n",
       " 1                                                                                Seçimi boykot eden = Coca-Cola'yı boykot edip fanta içen vatandaş 😂😂😂 Sizinde oylarınız hayırlı olsun hamilinize yazıldı😄\n",
       " 2                                                                                                                             Boşuna ismini coca-cola şişelerinde arama gülüm,kappe yazmamışlardır........\n",
       " 3    Coca-Cola, Muhtar Kent'in Priminde Büyük Bir Kesinti Yaptı Haber Yayın Tarihi : 11.03.2014 08:46 [5770413] Düşen kârı gerekçe gösteren Coca-Cola hissedarları, CEO'ları Muhtar Kent'in primini kesti.\n",
       " Name: soundbite_text, dtype: object)"
      ]
     },
     "execution_count": 384,
     "metadata": {},
     "output_type": "execute_result"
    }
   ],
   "source": [
    "len(negatives_df), negatives_df.soundbite_text[:4]"
   ]
  },
  {
   "cell_type": "code",
   "execution_count": 385,
   "metadata": {
    "collapsed": true
   },
   "outputs": [],
   "source": [
    "rlv.tok_result_col = \"soundbite_text\" # for compatibility."
   ]
  },
  {
   "cell_type": "code",
   "execution_count": 386,
   "metadata": {
    "collapsed": false
   },
   "outputs": [
    {
     "name": "stdout",
     "output_type": "stream",
     "text": [
      "\n",
      "Available attributes of the tweets: Index(['soundbite_text', 'annotation', 'url', 'topicname', 'brands', 'topicid',\n",
      "       'language', 'parsetype', 'uuid', 'sourcetype', 'hp rules fired',\n",
      "       'mp rules fired', 'other rules', 'sentiment', 'mp sentiment',\n",
      "       'active_text', 'texttok'],\n",
      "      dtype='object')\n",
      "<class 'pandas.core.frame.DataFrame'>\n",
      "Int64Index: 636 entries, 0 to 635\n",
      "Data columns (total 17 columns):\n",
      "soundbite_text    636 non-null object\n",
      "annotation        0 non-null float64\n",
      "url               636 non-null object\n",
      "topicname         636 non-null object\n",
      "brands            636 non-null object\n",
      "topicid           636 non-null int64\n",
      "language          636 non-null object\n",
      "parsetype         636 non-null object\n",
      "uuid              636 non-null object\n",
      "sourcetype        636 non-null object\n",
      "hp rules fired    636 non-null object\n",
      "mp rules fired    164 non-null object\n",
      "other rules       346 non-null object\n",
      "sentiment         636 non-null object\n",
      "mp sentiment      636 non-null object\n",
      "active_text       636 non-null object\n",
      "texttok           636 non-null object\n",
      "dtypes: float64(1), int64(1), object(15)\n",
      "memory usage: 89.4+ KB\n",
      "\n",
      "tweet set summary: None\n",
      "0                                                            www.thecoca-colacompany.com 1964te Türkiyede faaliyetlerine başlayan Coca-Cola, 8 farklı kategorideki 15 markasıyla alkolsüz içecek üretiyor.\n",
      "1                                                                                Seçimi boykot eden = Coca-Cola'yı boykot edip fanta içen vatandaş 😂😂😂 Sizinde oylarınız hayırlı olsun hamilinize yazıldı😄\n",
      "2                                                                                                                             Boşuna ismini coca-cola şişelerinde arama gülüm,kappe yazmamışlardır........\n",
      "3    Coca-Cola, Muhtar Kent'in Priminde Büyük Bir Kesinti Yaptı Haber Yayın Tarihi : 11.03.2014 08:46 [5770413] Düşen kârı gerekçe gösteren Coca-Cola hissedarları, CEO'ları Muhtar Kent'in primini kesti.\n",
      "4                                  İsrail, Gazze, Twitter Enver Yılmaz, Gazze için Coca-Cola içmeyin, Osman Zolan, Tahsin Babaş, Mehmet Özhaseki, YORUM YAP Yorum yazmanız için üye olmanız gerekmektedir.\n",
      "Name: soundbite_text, dtype: object\n",
      "\n",
      "tweets are NOT tokenized.\n",
      "Retweets were NOT eliminated.\n"
     ]
    }
   ],
   "source": [
    "# This setting does not do anything to the tweet set!!\n",
    "negatives_df[active_col] = negatives_df[\"soundbite_text\"].copy()\n",
    "negatives_df = rlv.tok_results(negatives_df, elimrt = False)"
   ]
  },
  {
   "cell_type": "code",
   "execution_count": 387,
   "metadata": {
    "collapsed": false
   },
   "outputs": [
    {
     "data": {
      "text/plain": [
       "(636,\n",
       " Index(['soundbite_text', 'annotation', 'url', 'topicname', 'brands', 'topicid',\n",
       "        'language', 'parsetype', 'uuid', 'sourcetype', 'hp rules fired',\n",
       "        'mp rules fired', 'other rules', 'sentiment', 'mp sentiment',\n",
       "        'active_text', 'texttok'],\n",
       "       dtype='object'))"
      ]
     },
     "execution_count": 387,
     "metadata": {},
     "output_type": "execute_result"
    }
   ],
   "source": [
    "negatives_df = rlv.normalize_text(negatives_df) ## urls become urlurlurl, user names become usrusrusr\n",
    "len(negatives_df), negatives_df.columns"
   ]
  },
  {
   "cell_type": "code",
   "execution_count": 388,
   "metadata": {
    "collapsed": false
   },
   "outputs": [],
   "source": [
    "def eliminate_duplicates_bucketwise(df, duplicate_elim_func, step=10000):\n",
    "    \"\"\"\n",
    "    The actual near-duplicate detection algorithm is not memory-efficient enough. Therefore,\n",
    "    we mostly need to divide the data in the buckets, eliminate duplicates, merge the data, shuffle it, and repeat\n",
    "    the same cycle, until no-duplicate detected in any bucket. That may take long for big data sets. Conditions can\n",
    "    be relaxed to be quicker but leave a few duplicates.\n",
    "    \"\"\"\n",
    "            \n",
    "    print(\"starting, length:\",len(df))\n",
    "    df = df.reindex(np.random.permutation(df.index))\n",
    "    df.reset_index(inplace=True, drop=True)\n",
    "\n",
    "    tmp_df2 = pd.DataFrame()\n",
    "    for i in range(0, len(df), step):\n",
    "        tmp_unique = duplicate_elim_func(df[i:i+step], similarity_threshold=0.10, debug=True, debug_threshold=10000)\n",
    "        tmp_df2 = pd.concat([tmp_df2, tmp_unique], ignore_index=True)\n",
    "\n",
    "    if len(df) > len(tmp_df2):\n",
    "        print(str(len(df) - len(tmp_df2))+\" tweets were eliminated!\")\n",
    "        return eliminate_duplicates_recursively(tmp_df2, duplicate_elim_func)\n",
    "\n",
    "    return df"
   ]
  },
  {
   "cell_type": "code",
   "execution_count": 389,
   "metadata": {
    "collapsed": false
   },
   "outputs": [
    {
     "name": "stdout",
     "output_type": "stream",
     "text": [
      "starting, length: 636\n",
      "<class 'pandas.core.frame.DataFrame'>\n",
      "Int64Index: 600 entries, 0 to 296\n",
      "Data columns (total 17 columns):\n",
      "soundbite_text    600 non-null object\n",
      "annotation        0 non-null float64\n",
      "url               600 non-null object\n",
      "topicname         600 non-null object\n",
      "brands            600 non-null object\n",
      "topicid           600 non-null int64\n",
      "language          600 non-null object\n",
      "parsetype         600 non-null object\n",
      "uuid              600 non-null object\n",
      "sourcetype        600 non-null object\n",
      "hp rules fired    600 non-null object\n",
      "mp rules fired    148 non-null object\n",
      "other rules       330 non-null object\n",
      "sentiment         600 non-null object\n",
      "mp sentiment      600 non-null object\n",
      "active_text       600 non-null object\n",
      "texttok           600 non-null object\n",
      "dtypes: float64(1), int64(1), object(15)\n",
      "memory usage: 84.4+ KB\n",
      "36 tweets were eliminated!\n",
      "starting, length: 600\n",
      "<class 'pandas.core.frame.DataFrame'>\n",
      "Int64Index: 596 entries, 0 to 2\n",
      "Data columns (total 17 columns):\n",
      "soundbite_text    596 non-null object\n",
      "annotation        0 non-null float64\n",
      "url               596 non-null object\n",
      "topicname         596 non-null object\n",
      "brands            596 non-null object\n",
      "topicid           596 non-null int64\n",
      "language          596 non-null object\n",
      "parsetype         596 non-null object\n",
      "uuid              596 non-null object\n",
      "sourcetype        596 non-null object\n",
      "hp rules fired    596 non-null object\n",
      "mp rules fired    148 non-null object\n",
      "other rules       329 non-null object\n",
      "sentiment         596 non-null object\n",
      "mp sentiment      596 non-null object\n",
      "active_text       596 non-null object\n",
      "texttok           596 non-null object\n",
      "dtypes: float64(1), int64(1), object(15)\n",
      "memory usage: 83.8+ KB\n",
      "4 tweets were eliminated!\n",
      "starting, length: 596\n",
      "There is not any group of near-duplicate tweets.\n"
     ]
    }
   ],
   "source": [
    "tweetsDF_uniq = eliminate_duplicates_bucketwise(negatives_df.copy(), rlv.get_and_eliminate_near_duplicate_tweets)"
   ]
  },
  {
   "cell_type": "code",
   "execution_count": 390,
   "metadata": {
    "collapsed": false
   },
   "outputs": [
    {
     "name": "stdout",
     "output_type": "stream",
     "text": [
      "596\n"
     ]
    },
    {
     "data": {
      "text/html": [
       "<div>\n",
       "<table border=\"1\" class=\"dataframe\">\n",
       "  <thead>\n",
       "    <tr style=\"text-align: right;\">\n",
       "      <th></th>\n",
       "      <th>active_text</th>\n",
       "    </tr>\n",
       "  </thead>\n",
       "  <tbody>\n",
       "    <tr>\n",
       "      <th>0</th>\n",
       "      <td>urlurlurl tekirdağ valisi. fanta içerek coca colayı protesto ediyor . [ geri̇ zekali adam ] fanta\"da colanın. usrusrusr</td>\n",
       "    </tr>\n",
       "    <tr>\n",
       "      <th>1</th>\n",
       "      <td>yegane önerim; yeni güncelleme gelene kadar iphone 6'dan daha aşağı model kullananlar indirmesinler.</td>\n",
       "    </tr>\n",
       "    <tr>\n",
       "      <th>2</th>\n",
       "      <td>rt usrusrusr urlurlurl coca-cola'dan boykot üzerine açıklama..demek ki doğru yoldayız.#cocacolayahayır boykota devam urlurlurl</td>\n",
       "    </tr>\n",
       "    <tr>\n",
       "      <th>3</th>\n",
       "      <td>mesela iphone'u tek elle kullanamazsınız çünkü geri tuşu yok ama sansung öyle mi cnm samsung herşeyi düşünüyo</td>\n",
       "    </tr>\n",
       "    <tr>\n",
       "      <th>4</th>\n",
       "      <td>alıntı: cagatay16'isimli üyeden alıntı ben uyarayımda bizim motorlarda kullanır çoğu yere zımbalar resmen ama 15 20 bin km sonra balata değişiminde bir bakarsın disk incecik kalmış sende 3-4 sene ...</td>\n",
       "    </tr>\n",
       "    <tr>\n",
       "      <th>5</th>\n",
       "      <td>sanırım iphone almam gerek. bu yol, yol değil.</td>\n",
       "    </tr>\n",
       "    <tr>\n",
       "      <th>6</th>\n",
       "      <td>rt usrusrusr tekirdağ valisi haberi gerçekmiş ya la :) coca colayı fanta içerek protesto eden vali kafasından istiyorum. uçuş bedava</td>\n",
       "    </tr>\n",
       "    <tr>\n",
       "      <th>7</th>\n",
       "      <td>\"usrusrusr - ayrilik kolay mi senin yaninda - kolay degil, fanta oh nan 😂😂😂😂😂😂😂😂\" ptn j'suis drôle ahahahahahahaah off de moi</td>\n",
       "    </tr>\n",
       "    <tr>\n",
       "      <th>8</th>\n",
       "      <td>coca cola içmeyin, fanta için coca cola i̇srail malı eylem olarak kasalarca coca cola alıp yere dökenler vardı bir de.</td>\n",
       "    </tr>\n",
       "    <tr>\n",
       "      <th>9</th>\n",
       "      <td>biraz önce bir çift kenwood kfc m1634a 3 yollu 60 watt rms 270 watt max. twetterli hoparlör siparişi verdim media markt dan alyan takımı da aldım birde gelsin takalım bakalım nasıl olacak sizinled...</td>\n",
       "    </tr>\n",
       "  </tbody>\n",
       "</table>\n",
       "</div>"
      ],
      "text/plain": [
       "                                                                                                                                                                                               active_text\n",
       "0                                                                                  urlurlurl tekirdağ valisi. fanta içerek coca colayı protesto ediyor . [ geri̇ zekali adam ] fanta\"da colanın. usrusrusr\n",
       "1                                                                                                     yegane önerim; yeni güncelleme gelene kadar iphone 6'dan daha aşağı model kullananlar indirmesinler.\n",
       "2                                                                           rt usrusrusr urlurlurl coca-cola'dan boykot üzerine açıklama..demek ki doğru yoldayız.#cocacolayahayır boykota devam urlurlurl\n",
       "3                                                                                            mesela iphone'u tek elle kullanamazsınız çünkü geri tuşu yok ama sansung öyle mi cnm samsung herşeyi düşünüyo\n",
       "4  alıntı: cagatay16'isimli üyeden alıntı ben uyarayımda bizim motorlarda kullanır çoğu yere zımbalar resmen ama 15 20 bin km sonra balata değişiminde bir bakarsın disk incecik kalmış sende 3-4 sene ...\n",
       "5                                                                                                                                                           sanırım iphone almam gerek. bu yol, yol değil.\n",
       "6                                                                     rt usrusrusr tekirdağ valisi haberi gerçekmiş ya la :) coca colayı fanta içerek protesto eden vali kafasından istiyorum. uçuş bedava\n",
       "7                                                                            \"usrusrusr - ayrilik kolay mi senin yaninda - kolay degil, fanta oh nan 😂😂😂😂😂😂😂😂\" ptn j'suis drôle ahahahahahahaah off de moi\n",
       "8                                                                                   coca cola içmeyin, fanta için coca cola i̇srail malı eylem olarak kasalarca coca cola alıp yere dökenler vardı bir de.\n",
       "9  biraz önce bir çift kenwood kfc m1634a 3 yollu 60 watt rms 270 watt max. twetterli hoparlör siparişi verdim media markt dan alyan takımı da aldım birde gelsin takalım bakalım nasıl olacak sizinled..."
      ]
     },
     "execution_count": 390,
     "metadata": {},
     "output_type": "execute_result"
    }
   ],
   "source": [
    "print(len(tweetsDF_uniq))\n",
    "tweetsDF_uniq[[\"active_text\"]][:10]"
   ]
  },
  {
   "cell_type": "code",
   "execution_count": 391,
   "metadata": {
    "collapsed": true
   },
   "outputs": [],
   "source": [
    "# processing a complete tweet set with those fields would not need that dummy assignments.\n",
    "tweetsDF_uniq[\"id_str\"] = '-1'\n",
    "tweetsDF_uniq[\"user_id\"] = '-1'"
   ]
  },
  {
   "cell_type": "code",
   "execution_count": 392,
   "metadata": {
    "collapsed": false
   },
   "outputs": [],
   "source": [
    "# min_clusters should not be too high. Since the (near-)duplicates are eliminated, it will be harder to spot clusters.\n",
    "cluster_list = rlv.create_clusters(tweetsDF_uniq, my_token_pattern, min_dist_thres=0.725, max_dist_thres=0.8, min_max_diff_thres=0.4, nameprefix='1-', min_clusters=1, user_identifier='user_id')"
   ]
  },
  {
   "cell_type": "code",
   "execution_count": 393,
   "metadata": {
    "collapsed": false
   },
   "outputs": [
    {
     "name": "stdout",
     "output_type": "stream",
     "text": [
      "Number of clusters: 1\n",
      "available cluster information: dict_keys(['twids', 'ctweettuplelist', 'cno', 'rif', 'cstr', 'cnoprefix', 'user_entropy'])\n"
     ]
    }
   ],
   "source": [
    "print(\"Number of clusters:\",len(cluster_list))\n",
    "print(\"available cluster information:\", cluster_list[0].keys())"
   ]
  },
  {
   "cell_type": "code",
   "execution_count": 394,
   "metadata": {
    "collapsed": true
   },
   "outputs": [],
   "source": [
    "i = 0"
   ]
  },
  {
   "cell_type": "code",
   "execution_count": 395,
   "metadata": {
    "collapsed": false
   },
   "outputs": [
    {
     "name": "stdout",
     "output_type": "stream",
     "text": [
      "No: 15\n",
      "CStr: cluster number and size are: 15    7\n",
      "\n",
      "Cluster Tuple List:\n",
      "(0.55700751749067523, 'sevmek kolaysa ayrılmak fantadır bu kadar basit :)')\n",
      "(0.55906749532565181, 'sevmek kolaysa ayrılmak fanta :ddd')\n",
      "(0.60384161428737004, 'sevmek kolaysa ayrılmak coca-cola sjssmsksm')\n",
      "(0.62925791980852275, 'bir sizofren atasözü derki :d sevmek kolaysa ayrılmak fanta :d')\n",
      "(0.76697097023171534, 'rt usrusrusr unutmak kolaysa alışmak fantadır amk :d')\n",
      "(0.7695231273176113, 'bu merdivenden inmek kolaysa çıkmak fantadır:asdfg -burak.')\n",
      "(0.79679893841454785, 'bensizlik kolaysa sensizlik fanta amk')\n"
     ]
    }
   ],
   "source": [
    "print(\"No:\",cluster_list[i]['cno'])\n",
    "print(\"CStr:\",cluster_list[i]['cstr'])\n",
    "print(\"Cluster Tuple List:\")\n",
    "print(*[(c[0],c[2]) for c in cluster_list[i]['ctweettuplelist']], sep='\\n')\n",
    "i+=1"
   ]
  },
  {
   "cell_type": "code",
   "execution_count": 396,
   "metadata": {
    "collapsed": false
   },
   "outputs": [
    {
     "name": "stdout",
     "output_type": "stream",
     "text": [
      "Reverse Frequency of the terms:\n",
      "1\n",
      "2 : ['amk', 'ayrılmak fanta', 'bu']\n",
      "3 : ['fantadır', 'd', 'fanta']\n",
      "4 : ['kolaysa ayrılmak', 'sevmek', 'sevmek kolaysa', 'ayrılmak']\n",
      "7 : ['kolaysa']\n"
     ]
    }
   ],
   "source": [
    "print(\"Reverse Frequency of the terms:\")\n",
    "print(i)\n",
    "for k, v in Counter({int(k):v for k,v in cluster_list[i-1]['rif'].items()}).items():\n",
    "    if k>1:\n",
    "        print(k,\":\",v)"
   ]
  },
  {
   "cell_type": "code",
   "execution_count": null,
   "metadata": {
    "collapsed": true
   },
   "outputs": [],
   "source": []
  }
 ],
 "metadata": {
  "kernelspec": {
   "display_name": "Python 3",
   "language": "python",
   "name": "python3"
  },
  "language_info": {
   "codemirror_mode": {
    "name": "ipython",
    "version": 3
   },
   "file_extension": ".py",
   "mimetype": "text/x-python",
   "name": "python",
   "nbconvert_exporter": "python",
   "pygments_lexer": "ipython3",
   "version": "3.5.0"
  }
 },
 "nbformat": 4,
 "nbformat_minor": 0
}
