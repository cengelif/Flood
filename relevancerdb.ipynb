{
 "cells": [
  {
   "cell_type": "code",
   "execution_count": 10,
   "metadata": {
    "collapsed": false
   },
   "outputs": [],
   "source": [
    "import timeit\n",
    "import importlib\n",
    "import relevancer as rlv\n",
    "import pandas as pd\n",
    "from sklearn.naive_bayes import MultinomialNB \n",
    "from bson.objectid import ObjectId"
   ]
  },
  {
   "cell_type": "code",
   "execution_count": 11,
   "metadata": {
    "collapsed": true
   },
   "outputs": [],
   "source": [
    "my_token_pattern=r\"[#@]?\\w+\\b|[\\U00010000-\\U0010ffff]\""
   ]
  },
  {
   "cell_type": "code",
   "execution_count": 12,
   "metadata": {
    "collapsed": true
   },
   "outputs": [],
   "source": [
    "collection = 'coll123' "
   ]
  },
  {
   "cell_type": "code",
   "execution_count": 13,
   "metadata": {
    "collapsed": true
   },
   "outputs": [],
   "source": [
    "rlvdb, rlvcl = rlv.connect_mongodb(configfile='myconfig.ini',coll_name=collection)"
   ]
  },
  {
   "cell_type": "code",
   "execution_count": 14,
   "metadata": {
    "collapsed": false
   },
   "outputs": [
    {
     "name": "stdout",
     "output_type": "stream",
     "text": [
      "Number of tweets: 4992\n"
     ]
    }
   ],
   "source": [
    "importlib.reload(rlv)\n",
    "begin = ObjectId('55950fb4d04475ee9867f3a4')\n",
    "end = ObjectId('55950fc9d04475ee986841c3')\n",
    "\n",
    "annotated_tw_ids = ['563657483395530753', '563662532326330370', '563654330041909248', '563654944927281152', '563657924233289728', '563661021559390208', '563651950386757632', '563657164317667328', '563660271810383872', '563662538949160960'] #You should get the actual annotated tweet ids from the annotated tweets collection.\n",
    "\n",
    "tweetlist = rlv.read_json_tweet_fields_database(rlvcl, mongo_query=({'_id': {'$gte': begin, '$lte': end},'lang':'en'}), tweet_count=5000, annotated_ids=annotated_tw_ids)#=tweetsDF)\n",
    "\n",
    "rlv.logging.info(\"Number of tweets:\" + str(len(tweetlist)))\n",
    "print(\"Number of tweets:\",len(tweetlist))"
   ]
  },
  {
   "cell_type": "code",
   "execution_count": 15,
   "metadata": {
    "collapsed": false
   },
   "outputs": [
    {
     "name": "stdout",
     "output_type": "stream",
     "text": [
      "4992\n"
     ]
    }
   ],
   "source": [
    "tweetsDF = rlv.create_dataframe(tweetlist)"
   ]
  },
  {
   "cell_type": "code",
   "execution_count": 16,
   "metadata": {
    "collapsed": false
   },
   "outputs": [
    {
     "name": "stdout",
     "output_type": "stream",
     "text": [
      "\n",
      "Available attributes of the tweets: Index(['id_str', 'is_retweet', 'screen_name', 'text', 'texttok'], dtype='object')\n",
      "<class 'pandas.core.frame.DataFrame'>\n",
      "Int64Index: 4992 entries, 0 to 4991\n",
      "Data columns (total 5 columns):\n",
      "id_str         4992 non-null object\n",
      "is_retweet     4992 non-null bool\n",
      "screen_name    4992 non-null object\n",
      "text           4992 non-null object\n",
      "texttok        4992 non-null object\n",
      "dtypes: bool(1), object(4)\n",
      "memory usage: 199.9+ KB\n",
      "\n",
      "tweet set summary: None\n",
      "0    Solar Powered Motion Sensor Security Wall Floo...\n",
      "1    Brian Williams claimed he saw a 'body floating...\n",
      "2    High Lumens CREE 36W LED Work Light Bars Flood...\n",
      "3    Centre to unveil schemes for people affected b...\n",
      "4    18W CREE 4\"x4\" LED WORK LIGHT FLOOD BEAM OFFRO...\n",
      "Name: text, dtype: object\n",
      "\n",
      "tweets are NOT tokenized.\n"
     ]
    }
   ],
   "source": [
    "tok = rlv.tok_results(tweetsDF, elimrt = True)"
   ]
  },
  {
   "cell_type": "code",
   "execution_count": 40,
   "metadata": {
    "collapsed": false
   },
   "outputs": [
    {
     "name": "stdout",
     "output_type": "stream",
     "text": [
      "0       Solar Powered Motion Sensor Security Wall Floo...\n",
      "1       Brian Williams claimed he saw a 'body floating...\n",
      "2       High Lumens CREE 36W LED Work Light Bars Flood...\n",
      "4       18W CREE 4\"x4\" LED WORK LIGHT FLOOD BEAM OFFRO...\n",
      "6       Cars &amp; Deals : 10x 27W 12V 24V LED Work Li...\n",
      "7       #IBNA First victim of floods in Albania: Tiran...\n",
      "8       4 Simple Steps to Writing a Blog Post That Flo...\n",
      "11      Eco-tourism cover begetter regarding flood ope...\n",
      "12      Cars Deals : 10x 27W 12V 24V LED Work Light FL...\n",
      "13      I won 2007/13 poll by a landslide only to be r...\n",
      "15      Kenya donates $1m to Malawi flood victims: Sen...\n",
      "16      “@RealJamesWoods: I'm sorry, why was he drinki...\n",
      "17      Thank You sa Flood @reinborja #NewFriend http:...\n",
      "20      Cars &amp; Deals : 10x 27W 12V 24V LED Work Li...\n",
      "21      THE BEST #DEALS &gt;&gt; 10x 27W 12V 24V LED W...\n",
      "23      Did Brian Williams also lie during Hurricane K...\n",
      "24      Kashmir Floods: World Bank, J&amp;K Govt Wrap ...\n",
      "25      Cars Deals : 10x 27W 12V 24V LED Work Light FL...\n",
      "26      RT @EastHantsDC: Find out what you can do to p...\n",
      "27      High On Fire - Fire, Flood, &amp; Plague http:...\n",
      "28      A year ago today: @DisastersChart activated al...\n",
      "29          Sorry for the flood!!! http://t.co/wjuNWaNhsH\n",
      "30      RT @KiaaraSandhu: Queen of Hearts #KareenaKapo...\n",
      "31      10x 27W 12V 24V LED Work Light FLOOD Lamp Trac...\n",
      "33      Cars Deals : 10x 27W 12V 24V LED Work Light FL...\n",
      "34      Floods uproot hundreds in Albania; snow, stron...\n",
      "35      Holy spirt you are welcome here come flood thi...\n",
      "38      RT @BadPutty: Damning evidence of DWP sanction...\n",
      "39      RT @KiaaraSandhu: Queen of Hearts #KareenaKapo...\n",
      "40      New post: Dying! Progs of pallor at ‘Flood Wal...\n",
      "                              ...                        \n",
      "4931    RT @ABC: Landslide smashes into wall at Italy'...\n",
      "4932    RT @ABC: Landslide smashes into wall at Italy'...\n",
      "4933    Patriots Fans Flood Boston for Rolling Rally h...\n",
      "4934    RT @ABC: Landslide smashes into wall at Italy'...\n",
      "4936    RT @ABC: Landslide smashes into wall at Italy'...\n",
      "4938    Thank you for the inundation (flooding(-in)) o...\n",
      "4939    First senate bill entered for new session of L...\n",
      "4940    RT @ABC: Landslide smashes into wall at Italy'...\n",
      "4943    RT @History_Pics: Paris Flood, 1910 \\nPhoto by...\n",
      "4944    #AmericanSniper Triggers Flood Of #AntiMuslim ...\n",
      "4945    RT @StopFemaNow: 300 Pennsville NJ Residents h...\n",
      "4947    My App Secrets: Tutorial on how to make a catc...\n",
      "4948    Malawi National exams calendar unchanged despi...\n",
      "4949    High Lumens CREE 36W LED Work Light Bars Flood...\n",
      "4950    Flood insurance scheme &amp;#039;wasteful&amp;...\n",
      "4952    10W CREE LED Work Light 1000LM FLOOD SUV Jeep ...\n",
      "4954    RT @ABC: Landslide smashes into wall at Italy'...\n",
      "4956    My App Secrets: Tutorial on how to make a catc...\n",
      "4957    50\" 288W LED Light Bar Spot Flood Beam For ATV...\n",
      "4962    RT @GeorgeMorina: Touching #Photo #flooding #A...\n",
      "4963    The city's a flood, and our love turns to rust...\n",
      "4966    Flood insurance scheme 'wasteful' http://t.co/...\n",
      "4968    RT @MIA_NEWS_en: Crna river threatens to flood...\n",
      "4975    RT @History_Pics: Paris Flood, 1910 \\nPhoto by...\n",
      "4979    SEVERE WX ALERT: ...The flood warning continue...\n",
      "4982    RT @stormwchatlanta: SEVERE WX ALERT: ...The f...\n",
      "4985    The Luxury Housing Of Our Flood-Plagued Future...\n",
      "4988    #welp it's #wcw and you all know I #post in #t...\n",
      "4989    It's going 2 rain a lot... Protect yourself &a...\n",
      "4991    RT @ABC: Landslide smashes into wall at Italy'...\n",
      "Name: text, dtype: object\n",
      "normalization: 0       Solar Powered Motion Sensor Security Wall Floo...\n",
      "1       Brian Williams claimed he saw a 'body floating...\n",
      "2       High Lumens CREE 36W LED Work Light Bars Flood...\n",
      "4       18W CREE 4\"x4\" LED WORK LIGHT FLOOD BEAM OFFRO...\n",
      "6       Cars &amp; Deals : 10x 27W 12V 24V LED Work Li...\n",
      "7       #IBNA First victim of floods in Albania: Tiran...\n",
      "8       4 Simple Steps to Writing a Blog Post That Flo...\n",
      "11      Eco-tourism cover begetter regarding flood ope...\n",
      "12      Cars Deals : 10x 27W 12V 24V LED Work Light FL...\n",
      "13      I won 2007/13 poll by a landslide only to be r...\n",
      "15      Kenya donates $1m to Malawi flood victims: Sen...\n",
      "16      “@RealJamesWoods: I'm sorry, why was he drinki...\n",
      "17      Thank You sa Flood @reinborja #NewFriend urlur...\n",
      "20      Cars &amp; Deals : 10x 27W 12V 24V LED Work Li...\n",
      "21      THE BEST #DEALS &gt;&gt; 10x 27W 12V 24V LED W...\n",
      "23      Did Brian Williams also lie during Hurricane K...\n",
      "24      Kashmir Floods: World Bank, J&amp;K Govt Wrap ...\n",
      "25      Cars Deals : 10x 27W 12V 24V LED Work Light FL...\n",
      "26      RT @EastHantsDC: Find out what you can do to p...\n",
      "27      High On Fire - Fire, Flood, &amp; Plague urlur...\n",
      "28      A year ago today: @DisastersChart activated al...\n",
      "29                       Sorry for the flood!!! urlurlurl\n",
      "30      RT @KiaaraSandhu: Queen of Hearts #KareenaKapo...\n",
      "31      10x 27W 12V 24V LED Work Light FLOOD Lamp Trac...\n",
      "33      Cars Deals : 10x 27W 12V 24V LED Work Light FL...\n",
      "34      Floods uproot hundreds in Albania; snow, stron...\n",
      "35      Holy spirt you are welcome here come flood thi...\n",
      "38      RT @BadPutty: Damning evidence of DWP sanction...\n",
      "39      RT @KiaaraSandhu: Queen of Hearts #KareenaKapo...\n",
      "40      New post: Dying! Progs of pallor at ‘Flood Wal...\n",
      "                              ...                        \n",
      "4931    RT @ABC: Landslide smashes into wall at Italy'...\n",
      "4932    RT @ABC: Landslide smashes into wall at Italy'...\n",
      "4933    Patriots Fans Flood Boston for Rolling Rally u...\n",
      "4934    RT @ABC: Landslide smashes into wall at Italy'...\n",
      "4936    RT @ABC: Landslide smashes into wall at Italy'...\n",
      "4938    Thank you for the inundation (flooding(-in)) o...\n",
      "4939    First senate bill entered for new session of L...\n",
      "4940    RT @ABC: Landslide smashes into wall at Italy'...\n",
      "4943    RT @History_Pics: Paris Flood, 1910 \\nPhoto by...\n",
      "4944    #AmericanSniper Triggers Flood Of #AntiMuslim ...\n",
      "4945    RT @StopFemaNow: 300 Pennsville NJ Residents h...\n",
      "4947    My App Secrets: Tutorial on how to make a catc...\n",
      "4948    Malawi National exams calendar unchanged despi...\n",
      "4949    High Lumens CREE 36W LED Work Light Bars Flood...\n",
      "4950    Flood insurance scheme &amp;#039;wasteful&amp;...\n",
      "4952    10W CREE LED Work Light 1000LM FLOOD SUV Jeep ...\n",
      "4954    RT @ABC: Landslide smashes into wall at Italy'...\n",
      "4956    My App Secrets: Tutorial on how to make a catc...\n",
      "4957    50\" 288W LED Light Bar Spot Flood Beam For ATV...\n",
      "4962    RT @GeorgeMorina: Touching #Photo #flooding #A...\n",
      "4963    The city's a flood, and our love turns to rust...\n",
      "4966    Flood insurance scheme 'wasteful' urlurlurl #s...\n",
      "4968    RT @MIA_NEWS_en: Crna river threatens to flood...\n",
      "4975    RT @History_Pics: Paris Flood, 1910 \\nPhoto by...\n",
      "4979    SEVERE WX ALERT: ...The flood warning continue...\n",
      "4982    RT @stormwchatlanta: SEVERE WX ALERT: ...The f...\n",
      "4985    The Luxury Housing Of Our Flood-Plagued Future...\n",
      "4988    #welp it's #wcw and you all know I #post in #t...\n",
      "4989    It's going 2 rain a lot... Protect yourself &a...\n",
      "4991    RT @ABC: Landslide smashes into wall at Italy'...\n",
      "Name: active_text, dtype: object\n"
     ]
    },
    {
     "name": "stderr",
     "output_type": "stream",
     "text": [
      "/home/elif/Project/Relevancer/relevancer.py:368: SettingWithCopyWarning: \n",
      "A value is trying to be set on a copy of a slice from a DataFrame.\n",
      "Try using .loc[row_indexer,col_indexer] = value instead\n",
      "\n",
      "See the the caveats in the documentation: http://pandas.pydata.org/pandas-docs/stable/indexing.html#indexing-view-versus-copy\n",
      "  mytextDF[\"active_text\"] = mytextDF[tok_result_col].apply(lambda tw: re.sub(http_re, 'urlurlurl', tw))\n"
     ]
    }
   ],
   "source": [
    "importlib.reload(rlv)\n",
    "tst_https = tweetsDF[tweetsDF.text.str.contains(\"https\")]#[\"text\"]\n",
    "tst_http = tweetsDF[tweetsDF.text.str.contains(\"http:\")]#[\"text\"]\n",
    "tstDF = tst_http\n",
    "\n",
    "tstDF = rlv.normalize_text(tstDF)\n",
    "print(tstDF[\"text\"])#.iloc[10])\n",
    "#rlv.logging.info(\"This text overwritten by tokenizer\" + str(tstDF[\"text\"]))\n",
    "print(\"normalization:\",tstDF[\"active_text\"]) #.iloc[10])\n",
    "#rlv.logging.info(\"This text overwritten by normalization\" + str(tstDF[\"active_text\"]))"
   ]
  },
  {
   "cell_type": "code",
   "execution_count": 18,
   "metadata": {
    "collapsed": false
   },
   "outputs": [
    {
     "name": "stdout",
     "output_type": "stream",
     "text": [
      "Kume sayisi 1: 410\n",
      "Kume sayisi 2: 410\n",
      "10000000 loops, best of 3: 24.3 ns per loop\n"
     ]
    }
   ],
   "source": [
    "importlib.reload(rlv)\n",
    "find_distance = rlv.get_vectorizer_and_distance(tstDF)\n",
    "#print(find_distance)\n",
    "%timeit res  = find_distance"
   ]
  },
  {
   "cell_type": "code",
   "execution_count": 19,
   "metadata": {
    "collapsed": false
   },
   "outputs": [
    {
     "name": "stdout",
     "output_type": "stream",
     "text": [
      "492\n",
      "\n",
      "Available attributes of the tweets: Index(['id_str', 'is_retweet', 'screen_name', 'text', 'texttok'], dtype='object')\n",
      "<class 'pandas.core.frame.DataFrame'>\n",
      "Int64Index: 492 entries, 0 to 491\n",
      "Data columns (total 5 columns):\n",
      "id_str         492 non-null object\n",
      "is_retweet     492 non-null bool\n",
      "screen_name    492 non-null object\n",
      "text           492 non-null object\n",
      "texttok        492 non-null object\n",
      "dtypes: bool(1), object(4)\n",
      "memory usage: 19.7+ KB\n",
      "\n",
      "tweet set summary: None\n",
      "0    Solar Powered Motion Sensor Security Wall Floo...\n",
      "1    Brian Williams claimed he saw a 'body floating...\n",
      "2    High Lumens CREE 36W LED Work Light Bars Flood...\n",
      "3    Centre to unveil schemes for people affected b...\n",
      "4    18W CREE 4\"x4\" LED WORK LIGHT FLOOD BEAM OFFRO...\n",
      "Name: text, dtype: object\n",
      "\n",
      "tweets are NOT tokenized.\n",
      "In get_tw_ids\n",
      "Length of the tweet ids and the first then ids 20000 ['563657483395530753', '563662532326330370', '563654330041909248', '563654944927281152', '563657924233289728', '563661021559390208', '563651950386757632', '563657164317667328', '563660271810383872', '563662538949160960']\n",
      "0      Solar Powered Motion Sensor Security Wall Floo...\n",
      "1      Brian Williams claimed he saw a 'body floating...\n",
      "2      High Lumens CREE 36W LED Work Light Bars Flood...\n",
      "4      18W CREE 4\"x4\" LED WORK LIGHT FLOOD BEAM OFFRO...\n",
      "6      Cars &amp; Deals : 10x 27W 12V 24V LED Work Li...\n",
      "7      #IBNA First victim of floods in Albania: Tiran...\n",
      "8      4 Simple Steps to Writing a Blog Post That Flo...\n",
      "11     Eco-tourism cover begetter regarding flood ope...\n",
      "12     Cars Deals : 10x 27W 12V 24V LED Work Light FL...\n",
      "13     I won 2007/13 poll by a landslide only to be r...\n",
      "15     Kenya donates $1m to Malawi flood victims: Sen...\n",
      "16     “@RealJamesWoods: I'm sorry, why was he drinki...\n",
      "17     Thank You sa Flood @reinborja #NewFriend http:...\n",
      "20     Cars &amp; Deals : 10x 27W 12V 24V LED Work Li...\n",
      "21     THE BEST #DEALS &gt;&gt; 10x 27W 12V 24V LED W...\n",
      "23     Did Brian Williams also lie during Hurricane K...\n",
      "24     Kashmir Floods: World Bank, J&amp;K Govt Wrap ...\n",
      "25     Cars Deals : 10x 27W 12V 24V LED Work Light FL...\n",
      "26     RT @EastHantsDC: Find out what you can do to p...\n",
      "27     High On Fire - Fire, Flood, &amp; Plague http:...\n",
      "28     A year ago today: @DisastersChart activated al...\n",
      "29         Sorry for the flood!!! http://t.co/wjuNWaNhsH\n",
      "30     RT @KiaaraSandhu: Queen of Hearts #KareenaKapo...\n",
      "31     10x 27W 12V 24V LED Work Light FLOOD Lamp Trac...\n",
      "33     Cars Deals : 10x 27W 12V 24V LED Work Light FL...\n",
      "34     Floods uproot hundreds in Albania; snow, stron...\n",
      "35     Holy spirt you are welcome here come flood thi...\n",
      "38     RT @BadPutty: Damning evidence of DWP sanction...\n",
      "39     RT @KiaaraSandhu: Queen of Hearts #KareenaKapo...\n",
      "40     New post: Dying! Progs of pallor at ‘Flood Wal...\n",
      "                             ...                        \n",
      "448    RT @StandardKenya: Kenya donates Sh91 million ...\n",
      "450    Flood Watch in effect for Pacific and Wahkiaku...\n",
      "453    120W 21\" Spot Flood Combo LED Work Light Bar O...\n",
      "454    RT @IndyVoices: Malawi's children can't tweet ...\n",
      "455    Kenya donates Sh91 million to Malawi flood vic...\n",
      "456    Come and check out the #reflections at the cur...\n",
      "459    #Cars #Deals 10x 27W 12V 24V LED Work Light FL...\n",
      "461    Latest : Jammu-Kashmir floods: 1445 victims to...\n",
      "463    RT @iamsumaira: Protect Trees and Protect your...\n",
      "465    RT @IndyVoices: Malawi's children can't tweet ...\n",
      "466    UNICEF says 300,000 displaced by Malawi floods...\n",
      "467    21\" 120W Led Light Bar Flood Spot Combo 24\" Wo...\n",
      "468    #Cars #Deals 10x 27W 12V 24V LED Work Light FL...\n",
      "469    Cars : 10x 27W 12V 24V LED Work Light FLOOD La...\n",
      "471    #Cars #Deals 10x 27W 12V 24V LED Work Light FL...\n",
      "472    Flood Re insurance scheme 'needlessly expensiv...\n",
      "473    RT @RealJamesWoods: I'm sorry, why was he drin...\n",
      "475    #Deals #Cars 10x 27W 12V 24V LED Work Light FL...\n",
      "477    Latest : Jammu-Kashmir floods: 1445 victims to...\n",
      "478    MOTORS DEALS #918 &gt;&gt; http://t.co/71s8VKV...\n",
      "479    Latest : Jammu-Kashmir floods: 1445 victims to...\n",
      "480    Floods uproot hundreds in Albania; heavy snow,...\n",
      "481    Jammu-Kashmir floods: 1445 victims to get comp...\n",
      "483    Cars Deals : 10x 27W 12V 24V LED Work Light FL...\n",
      "484    Mobile Network Operators in #Malawi contribute...\n",
      "485    Cars : 10x 27W 12V 24V LED Work Light FLOOD La...\n",
      "486    ABC News: Floods Uproot Many in Albania; Snow ...\n",
      "488    Kenya donates Sh91 million to Malawi flood vic...\n",
      "489    RT @IndyVoices: Malawi's children can't tweet ...\n",
      "491    Competition closing: enter the Inter-Instituti...\n",
      "Name: text, dtype: object\n",
      "normalization: 0      Solar Powered Motion Sensor Security Wall Floo...\n",
      "1      Brian Williams claimed he saw a 'body floating...\n",
      "2      High Lumens CREE 36W LED Work Light Bars Flood...\n",
      "4      18W CREE 4\"x4\" LED WORK LIGHT FLOOD BEAM OFFRO...\n",
      "6      Cars &amp; Deals : 10x 27W 12V 24V LED Work Li...\n",
      "7      #IBNA First victim of floods in Albania: Tiran...\n",
      "8      4 Simple Steps to Writing a Blog Post That Flo...\n",
      "11     Eco-tourism cover begetter regarding flood ope...\n",
      "12     Cars Deals : 10x 27W 12V 24V LED Work Light FL...\n",
      "13     I won 2007/13 poll by a landslide only to be r...\n",
      "15     Kenya donates $1m to Malawi flood victims: Sen...\n",
      "16     “@RealJamesWoods: I'm sorry, why was he drinki...\n",
      "17     Thank You sa Flood @reinborja #NewFriend urlur...\n",
      "20     Cars &amp; Deals : 10x 27W 12V 24V LED Work Li...\n",
      "21     THE BEST #DEALS &gt;&gt; 10x 27W 12V 24V LED W...\n",
      "23     Did Brian Williams also lie during Hurricane K...\n",
      "24     Kashmir Floods: World Bank, J&amp;K Govt Wrap ...\n",
      "25     Cars Deals : 10x 27W 12V 24V LED Work Light FL...\n",
      "26     RT @EastHantsDC: Find out what you can do to p...\n",
      "27     High On Fire - Fire, Flood, &amp; Plague urlur...\n",
      "28     A year ago today: @DisastersChart activated al...\n",
      "29                      Sorry for the flood!!! urlurlurl\n",
      "30     RT @KiaaraSandhu: Queen of Hearts #KareenaKapo...\n",
      "31     10x 27W 12V 24V LED Work Light FLOOD Lamp Trac...\n",
      "33     Cars Deals : 10x 27W 12V 24V LED Work Light FL...\n",
      "34     Floods uproot hundreds in Albania; snow, stron...\n",
      "35     Holy spirt you are welcome here come flood thi...\n",
      "38     RT @BadPutty: Damning evidence of DWP sanction...\n",
      "39     RT @KiaaraSandhu: Queen of Hearts #KareenaKapo...\n",
      "40     New post: Dying! Progs of pallor at ‘Flood Wal...\n",
      "                             ...                        \n",
      "448    RT @StandardKenya: Kenya donates Sh91 million ...\n",
      "450    Flood Watch in effect for Pacific and Wahkiaku...\n",
      "453    120W 21\" Spot Flood Combo LED Work Light Bar O...\n",
      "454    RT @IndyVoices: Malawi's children can't tweet ...\n",
      "455    Kenya donates Sh91 million to Malawi flood vic...\n",
      "456    Come and check out the #reflections at the cur...\n",
      "459    #Cars #Deals 10x 27W 12V 24V LED Work Light FL...\n",
      "461    Latest : Jammu-Kashmir floods: 1445 victims to...\n",
      "463    RT @iamsumaira: Protect Trees and Protect your...\n",
      "465    RT @IndyVoices: Malawi's children can't tweet ...\n",
      "466    UNICEF says 300,000 displaced by Malawi floods...\n",
      "467    21\" 120W Led Light Bar Flood Spot Combo 24\" Wo...\n",
      "468    #Cars #Deals 10x 27W 12V 24V LED Work Light FL...\n",
      "469    Cars : 10x 27W 12V 24V LED Work Light FLOOD La...\n",
      "471    #Cars #Deals 10x 27W 12V 24V LED Work Light FL...\n",
      "472    Flood Re insurance scheme 'needlessly expensiv...\n",
      "473    RT @RealJamesWoods: I'm sorry, why was he drin...\n",
      "475    #Deals #Cars 10x 27W 12V 24V LED Work Light FL...\n",
      "477    Latest : Jammu-Kashmir floods: 1445 victims to...\n",
      "478    MOTORS DEALS #918 &gt;&gt; urlurlurl 10x 27W 1...\n",
      "479    Latest : Jammu-Kashmir floods: 1445 victims to...\n",
      "480    Floods uproot hundreds in Albania; heavy snow,...\n",
      "481    Jammu-Kashmir floods: 1445 victims to get comp...\n",
      "483    Cars Deals : 10x 27W 12V 24V LED Work Light FL...\n",
      "484    Mobile Network Operators in #Malawi contribute...\n",
      "485    Cars : 10x 27W 12V 24V LED Work Light FLOOD La...\n",
      "486    ABC News: Floods Uproot Many in Albania; Snow ...\n",
      "488    Kenya donates Sh91 million to Malawi flood vic...\n",
      "489    RT @IndyVoices: Malawi's children can't tweet ...\n",
      "491    Competition closing: enter the Inter-Instituti...\n",
      "Name: active_text, dtype: object\n",
      "Kume sayisi 1: 39\n",
      "Kume sayisi 2: 39\n",
      "In create_clusters\n",
      "3\n",
      "cluster_no 3\n",
      "cluster_str cluster number and size are: 3    30\n",
      "\n",
      "cluster_tweet_ids ['563663598690390017', '563668325608456193', '563668342368927744', '563663245803016192', '563667327112474624', '563663618487889920', '563664423408386048', '563664819841425408', '563677600225452032', '563664741948616708', '563664228515467264', '563663027879575552', '563665082509713408', '563665426136047617', '563663025282891776', '563664208077000704', '563666756234145792', '563663438057336833', '563666463148355584', '563674500219158528', '563668875913728000', '563668859366805504', '563671251227385856', '563669327891955712', '563675814127214593', '563672309698150400', '563663133781536768', '563664254361165824', '563663981102247936', '563664267556442112']\n",
      "cluster_freq {'61': ['t'], '30': ['about', 'it http', 'tweet', 'ignore', 'flood', 's', 'it', 'lives', 'the flood', 'lives so', 'destroyed their', 'children', 't tweet', 'flood that', 'we ignore', 'the', 'children can', 's children', 'their lives', 'so we', 'has', 'has destroyed', 'ignore it', 'tweet about', 'that', 'that has', 'so', 'can', 'destroyed', 'their', 'about the', 'can t', 'we'], '28': ['RT', 'YNHrenXOPh http', 'co YNHrenXOPh', '@IndyVoices', 'YNHrenXOPh', '@IndyVoices Malawi', 'RT @IndyVoices'], '29': ['Malawi', 'Malawi s'], '31': ['t co', 'co', 'http t'], '59': ['http'], '1': ['hpVImMD6Kd', 'NP6aW1L1Jj', 'co lN9qrRItaW', '#Malawi s', 'lN9qrRItaW', 'lN9qrRItaW http', '#Malawi', 'co NP6aW1L1Jj', 'co hpVImMD6Kd']}\n",
      "cluster_prefix 1-3\n",
      "cluster_tuple_list [(0.029402324276930149, '563663598690390017', \"RT @IndyVoices: Malawi's children can't tweet about the flood that has destroyed their lives, so we ignore it http://t.co/YNHrenXOPh http:/…\", 'abhishekmathur1'), (0.029402324276930149, '563668325608456193', \"RT @IndyVoices: Malawi's children can't tweet about the flood that has destroyed their lives, so we ignore it http://t.co/YNHrenXOPh http:/…\", 'TheGhostOfJB'), (0.029402324276930149, '563668342368927744', \"RT @IndyVoices: Malawi's children can't tweet about the flood that has destroyed their lives, so we ignore it http://t.co/YNHrenXOPh http:/…\", 'Fruitbat_mp'), (0.029402324276930149, '563663245803016192', \"RT @IndyVoices: Malawi's children can't tweet about the flood that has destroyed their lives, so we ignore it http://t.co/YNHrenXOPh http:/…\", 'LndnSky'), (0.029402324276930149, '563667327112474624', \"RT @IndyVoices: Malawi's children can't tweet about the flood that has destroyed their lives, so we ignore it http://t.co/YNHrenXOPh http:/…\", 'Laura_Guest1'), (0.029402324276930149, '563663618487889920', \"RT @IndyVoices: Malawi's children can't tweet about the flood that has destroyed their lives, so we ignore it http://t.co/YNHrenXOPh http:/…\", 'sylviabp1'), (0.029402324276930149, '563664423408386048', \"RT @IndyVoices: Malawi's children can't tweet about the flood that has destroyed their lives, so we ignore it http://t.co/YNHrenXOPh http:/…\", 'afridiqau'), (0.029402324276930149, '563664819841425408', \"RT @IndyVoices: Malawi's children can't tweet about the flood that has destroyed their lives, so we ignore it http://t.co/YNHrenXOPh http:/…\", 'ollyferraz'), (0.029402324276930149, '563677600225452032', \"RT @IndyVoices: Malawi's children can't tweet about the flood that has destroyed their lives, so we ignore it http://t.co/YNHrenXOPh http:/…\", '_RosieArmstrong'), (0.029402324276930149, '563664741948616708', \"RT @IndyVoices: Malawi's children can't tweet about the flood that has destroyed their lives, so we ignore it http://t.co/YNHrenXOPh http:/…\", 'syedsajjadjee'), (0.029402324276930149, '563664228515467264', \"RT @IndyVoices: Malawi's children can't tweet about the flood that has destroyed their lives, so we ignore it http://t.co/YNHrenXOPh http:/…\", 'sar_freed'), (0.029402324276930149, '563663027879575552', \"RT @IndyVoices: Malawi's children can't tweet about the flood that has destroyed their lives, so we ignore it http://t.co/YNHrenXOPh http:/…\", 'cris_cami'), (0.029402324276930149, '563665082509713408', \"RT @IndyVoices: Malawi's children can't tweet about the flood that has destroyed their lives, so we ignore it http://t.co/YNHrenXOPh http:/…\", 'Claireh70500664'), (0.029402324276930149, '563665426136047617', \"RT @IndyVoices: Malawi's children can't tweet about the flood that has destroyed their lives, so we ignore it http://t.co/YNHrenXOPh http:/…\", 'getcap3fly'), (0.029402324276930149, '563663025282891776', \"RT @IndyVoices: Malawi's children can't tweet about the flood that has destroyed their lives, so we ignore it http://t.co/YNHrenXOPh http:/…\", 'Man_H94'), (0.39146046105375082, '563664208077000704', \"Malawi's children can't tweet about the flood that has destroyed their lives, so we ignore it http://t.co/NP6aW1L1Jj\", 'TheKingsMan77'), (0.029402324276930149, '563666756234145792', \"RT @IndyVoices: Malawi's children can't tweet about the flood that has destroyed their lives, so we ignore it http://t.co/YNHrenXOPh http:/…\", 'IrinaVolchugova'), (0.029402324276930149, '563663438057336833', \"RT @IndyVoices: Malawi's children can't tweet about the flood that has destroyed their lives, so we ignore it http://t.co/YNHrenXOPh http:/…\", 'AtakanErden'), (0.029402324276930149, '563666463148355584', \"RT @IndyVoices: Malawi's children can't tweet about the flood that has destroyed their lives, so we ignore it http://t.co/YNHrenXOPh http:/…\", 'sofiacanales'), (0.029402324276930149, '563674500219158528', \"RT @IndyVoices: Malawi's children can't tweet about the flood that has destroyed their lives, so we ignore it http://t.co/YNHrenXOPh http:/…\", 'ErinRowe83'), (0.029402324276930149, '563668875913728000', \"RT @IndyVoices: Malawi's children can't tweet about the flood that has destroyed their lives, so we ignore it http://t.co/YNHrenXOPh http:/…\", 'gulshannisa'), (0.029402324276930149, '563668859366805504', \"RT @IndyVoices: Malawi's children can't tweet about the flood that has destroyed their lives, so we ignore it http://t.co/YNHrenXOPh http:/…\", 'wickednorah'), (0.029402324276930149, '563671251227385856', \"RT @IndyVoices: Malawi's children can't tweet about the flood that has destroyed their lives, so we ignore it http://t.co/YNHrenXOPh http:/…\", 'share_wa'), (0.49180016004991434, '563669327891955712', \"#Malawi's children can't tweet about the flood that has destroyed their lives, so we ignore it http://t.co/lN9qrRItaW http://t.co/hpVImMD6Kd\", 'jonamorem'), (0.029402324276930149, '563675814127214593', \"RT @IndyVoices: Malawi's children can't tweet about the flood that has destroyed their lives, so we ignore it http://t.co/YNHrenXOPh http:/…\", 'Renachild'), (0.029402324276930149, '563672309698150400', \"RT @IndyVoices: Malawi's children can't tweet about the flood that has destroyed their lives, so we ignore it http://t.co/YNHrenXOPh http:/…\", 'Access__Ability'), (0.029402324276930149, '563663133781536768', \"RT @IndyVoices: Malawi's children can't tweet about the flood that has destroyed their lives, so we ignore it http://t.co/YNHrenXOPh http:/…\", 'SJS_31'), (0.029402324276930149, '563664254361165824', \"RT @IndyVoices: Malawi's children can't tweet about the flood that has destroyed their lives, so we ignore it http://t.co/YNHrenXOPh http:/…\", 'emjrabbitwolf'), (0.029402324276930149, '563663981102247936', \"RT @IndyVoices: Malawi's children can't tweet about the flood that has destroyed their lives, so we ignore it http://t.co/YNHrenXOPh http:/…\", 'ChrisBrey1'), (0.029402324276930149, '563664267556442112', \"RT @IndyVoices: Malawi's children can't tweet about the flood that has destroyed their lives, so we ignore it http://t.co/YNHrenXOPh http:/…\", 'DatUncleOfYours')]\n",
      "cluster_entropy 3.40119738166\n",
      "Clusters were written to the collection: coll123_clusters\n",
      "tweets_as_text_label_df:     label                                               text\n",
      "0   relif  RT @OliverMathenge: Meanwhile, Kenya has donat...\n",
      "1  social  Yow ehyowgiddii! Hahaha thanks sa flood! #inst...\n",
      "In get_mnb_classifier:\n",
      "Pickle file was written to vectorizer_and_classifier_dict.pickle\n",
      "Predictions: ['relif']\n"
     ]
    },
    {
     "name": "stderr",
     "output_type": "stream",
     "text": [
      "/home/elif/Project/Relevancer/relevancer.py:368: SettingWithCopyWarning: \n",
      "A value is trying to be set on a copy of a slice from a DataFrame.\n",
      "Try using .loc[row_indexer,col_indexer] = value instead\n",
      "\n",
      "See the the caveats in the documentation: http://pandas.pydata.org/pandas-docs/stable/indexing.html#indexing-view-versus-copy\n",
      "  mytextDF[\"active_text\"] = mytextDF[tok_result_col].apply(lambda tw: re.sub(http_re, 'urlurlurl', tw))\n"
     ]
    },
    {
     "data": {
      "text/plain": [
       "0.015858312995987944"
      ]
     },
     "execution_count": 19,
     "metadata": {},
     "output_type": "execute_result"
    }
   ],
   "source": [
    "setup=\"from relevancerdb import find_distance\"\n",
    "t = timeit.Timer(\"find_distance\", setup=setup)\n",
    "t.timeit()"
   ]
  },
  {
   "cell_type": "code",
   "execution_count": 43,
   "metadata": {
    "collapsed": false
   },
   "outputs": [
    {
     "name": "stdout",
     "output_type": "stream",
     "text": [
      "1.4297529140021652\n"
     ]
    }
   ],
   "source": [
    "importlib.reload(rlv)\n",
    "print(timeit.timeit(\"from relevancerdb import find_distance\", setup=\"from relevancer import get_vectorizer_and_distance\"))"
   ]
  },
  {
   "cell_type": "code",
   "execution_count": 21,
   "metadata": {
    "collapsed": false,
    "scrolled": true
   },
   "outputs": [],
   "source": [
    "\n",
    "start_tweet_size = len(tweetsDF)\n",
    "rlv.logging.info(\"\\nNumber of the tweets after retweet elimination:\"+ str(start_tweet_size))"
   ]
  },
  {
   "cell_type": "code",
   "execution_count": 22,
   "metadata": {
    "collapsed": false
   },
   "outputs": [
    {
     "name": "stdout",
     "output_type": "stream",
     "text": [
      "In get_tw_ids\n",
      "Length of the tweet ids and the first then ids 20000 ['563657483395530753', '563662532326330370', '563654330041909248', '563654944927281152', '563657924233289728', '563661021559390208', '563651950386757632', '563657164317667328', '563660271810383872', '563662538949160960']\n"
     ]
    }
   ],
   "source": [
    "tw_id_list = rlv.get_ids_from_tw_collection(rlvcl)\n",
    "print (\"Length of the tweet ids and the first then ids\",len(tw_id_list),tw_id_list[:10])"
   ]
  },
  {
   "cell_type": "code",
   "execution_count": 23,
   "metadata": {
    "collapsed": false
   },
   "outputs": [
    {
     "name": "stdout",
     "output_type": "stream",
     "text": [
      "In create_clusters\n",
      "15\n"
     ]
    }
   ],
   "source": [
    "cluster_list = rlv.create_clusters(tweetsDF, my_token_pattern, nameprefix='1-')\n",
    "\n",
    "print (len(cluster_list))  \n",
    "a_cluster = cluster_list[0]"
   ]
  },
  {
   "cell_type": "code",
   "execution_count": 28,
   "metadata": {
    "collapsed": false
   },
   "outputs": [
    {
     "name": "stdout",
     "output_type": "stream",
     "text": [
      "cluster_no 1\n",
      "cluster_str cluster number and size are: 1    358\n",
      "\n",
      "cluster_tweet_ids ['563130097696129024', '563129721966170114', '563129460862353410', '563129729763381248', '563129728047906816', '563130118248222720', '563130290105643009', '563129452209516544', '563130089580134400', '563129463722876928', '563130105057140736', '563130118034296832', '563130324880596993', '563130125659537408', '563129469724921857', '563130106650976256', '563130309978247168', '563129727032901632', '563129741943648257', '563129459784445952', '563134704853868544', '563134677922238466', '563142333588176897', '563134311042281472', '563134688143757312', '563141376330575872', '563134688168902657', '563141353215762432', '563134697220214784', '563130087982112768', '563129857865830400', '563129298576343040', '563128360499683329', '563129840706924544', '563133613533696002', '563129852039925760', '563129281878831105', '563129301382340608', '563130081187352576', '563129292167446529', '563129296089145348', '563129834709057537', '563129833878601728', '563129305635381250', '563129283388796930', '563129828421816320', '563133929381572608', '563129844020420608', '563129307250180096', '563130071418826753', '563128352069136384', '563133598006378497', '563130064582086657', '563133931168350208', '563134803365883904', '563134647014404097', '563133927301193729', '563134652085710848', '563134804091482112', '563133909957750784', '563133898150789120', '563134797875519488', '563133921928310784', '563140366669328384', '563134800471785474', '563133892714967040', '563134801851719681', '563134651448184833', '563133915863322624', '563134227751763969', '563133930107203585', '563133894359134208', '563133907994816513', '563134802640269313', '563133913862660096', '563141510745436161', '563133925686407169', '563134804775145473', '563134801163862016', '563134805408485377', '563140194832891905', '563134795476381696', '563134650126974976', '563134796231376898', '563127911792640001', '563129251101044738', '563127900912615424', '563129238149406720', '563129638277246977', '563129278460489730', '563129279483887617', '563135236373217280', '563133877451890689', '563133883365851136', '563130027294748672', '563134132083904512', '563133881482616832', '563130024476164097', '563131080165695488', '563131082267062272', '563133875354750976', '563133531547643906', '563131076495683586', '563129654358183937', '563129629238501376', '563133538782826498', '563131065296896001', '563133886939414528', '563133885081346048', '563134838241120256', '563134847296626688', '563129651363446784', '563129644925190144', '563133531656708096', '563133871655362560', '563130031254155264', '563130025856098304', '563131064227344384', '563133535720980482', '563133863040278528', '563133890798161920', '563133513411477504', '563133879637114880', '563139107933528065', '563129627762110467', '563139680053374977', '563140252039380995', '563139107790938112', '563136112454291456', '563139107493527552', '563127638839926784', '563127638256930816', '563127644057653250', '563127640786075649', '563129411373768704', '563130012052631552', '563130562404028416', '563129988329635840', '563130555294687232', '563129987058769920', '563130540207796225', '563130567630131200', '563129432882180097', '563130548512489472', '563130532960038912', '563128764113387521', '563130550156677120', '563130000845438977', '563130564283097089', '563129996177182720', '563129430789201921', '563130546847371264', '563130538370670592', '563130536541949953', '563130551867961347', '563130545656180736', '563130557039534081', '563129408219672578', '563130558926970883', '563130006658752513', '563130553671495682', '563128984334897152', '563129978766635008', '563129416931217409', '563130560659202048', '563130566006931456', '563136943014563840', '563141594593771520', '563133341386301440', '563140111454699520', '563134070276628481', '563127557646589952', '563127560590987264', '563127564168732674', '563129393132752896', '563129622645051392', '563129391274668034', '563129113746370560', '563127555234885632', '563129892951187456', '563129891260882944', '563129877914599424', '563129878971551745', '563128711243776000', '563128722564214785', '563128714804736001', '563129601292259331', '563129619214123008', '563129880850616320', '563128702469287938', '563130282375516161', '563129612075421696', '563129395179573248', '563130270396600321', '563130270983798786', '563129594140573696', '563130282824302592', '563129882578673664', '563129360350060544', '563129871736397824', '563130284611080192', '563129375088836608', '563129870834614272', '563129863276490753', '563129608262803458', '563129358357786625', '563135037386665986', '563133849710755840', '563134257711685632', '563133826679861248', '563133844098785280', '563133841217290240', '563133834317688834', '563134275348746241', '563133820707164160', '563135040758882304', '563135039030829057', '563136032124579842', '563134268180676608', '563133815418138624', '563133832128245760', '563133831964659713', '563141404767952896', '563140443009867776', '563141385461587968', '563128164923084800', '563128678205243394', '563128681887846400', '563127773976219648', '563128678268153857', '563128151832682496', '563127406836195328', '563128681087119360', '563128676984713216', '563129522984202241', '563129228317581312', '563129216162484224', '563129207903887360', '563131272369668097', '563129206163263489', '563130186195951619', '563128692042260480', '563129513995816960', '563129221023662081', '563129204401639424', '563131273116278784', '563130189064855554', '563129224915996672', '563128687873110016', '563129923439587329', '563134950330077184', '563129547558633473', '563135191972327425', '563129536959614976', '563129222953054208', '563130180844015616', '563129542202490882', '563130195570200576', '563129235447894016', '563129226610487297', '563130171444580353', '563129201536933888', '563132348082843648', '563140208145625088', '563142493995167744', '563129570103009280', '563128787848953856', '563129569540972545', '563129792925409280', '563129791075729408', '563129783991549952', '563129799795695616', '563127606665441282', '563129581209538561', '563129973045616641', '563129579288526848', '563129562649722880', '563129552751177730', '563134746117406720', '563129944931188736', '563133797856600064', '563129937884749824', '563129950207635456', '563130360523784192', '563133096011509760', '563134721559785472', '563133805200801793', '563133808317562883', '563129964841549824', '563129944587247616', '563130336133931008', '563133791426707456', '563129963205779456', '563135004419846145', '563134088513462273', '563130328630321153', '563130326499590144', '563129954754252801', '563133802671640576', '563133800515784704', '563130333680267266', '563135946237812736', '563139103588237313', '563139103269470208', '563140435145924608', '563138495267360770', '563135948116881408', '563135948305596418', '563141445654028288', '563127527825084416', '563129751343099904', '563129777062543363', '563130529482940416', '563130512865099776', '563129502331437056', '563129765729562624', '563130531227762688', '563130132437536768', '563129191596453888', '563127526994624512', '563130166159740928', '563128326676832256', '563130134639546368', '563130514815471617', '563128331173101569', '563129507687563265', '563129178380173312', '563130136724123649', '563129771580612609', '563130516719677440', '563130149973929987', '563129495683465216', '563129757278035968', '563130165404774401', '563133951858855936', '563133940966244352', '563133944493641731', '563133646450597888', '563133964299149312', '563133938894245889', '563134754795450368', '563133947618414592', '563134767332216833', '563133935618519043', '563133963443527681', '563133625281966080', '563133958527795200', '563133945533837312', '563133960436203520', '563133942690103296', '563133196712148993', '563133936931315714', '563133957508579328', '563134431519449088', '563140790164398080', '563145577215434752', '563133952009850880', '563141620158054400']\n",
      "cluster_freq {'20': ['Science', 'RT'], '3': ['to', 'VVHU8SmY4a', '#TIMBETA', 'households http', 'hou', 'via', 'to http', 'BBC Science', 'VVHU8SmY4a #SDV', 'hou http', 'UK', '#NewsToday #News', '#BBC', 'Science Flood', 'co VVHU8SmY4a', 'm', 'bbc', 'AN6EcOhsFx', 'other hou', 'households to', '#SDV #TIMBETA', 'm http', '#TeamFollowBack', 'AN6EcOhsFx #SDV', '#NewsToday', 'co AN6EcOhsFx', 'too m'], '351': ['http'], '256': ['says', 'much says'], '2': ['says http', 'Xbmhk441Ki', 'UK Flood', 'muc', '#UK', 'co C9r8Am5H3k', '1HanbK1W4F', 'cSXdOnEEU4', 'co 4fpzxUUZzP', 'Story', 'o http', 'household', 'EGZvfZVy9d', 'sa http', 'iXMxeu8f5c', 'V9HKeDkAer', 'dJqtjykErt', 'C9r8Am5H3k', 'o', 'household http', 'other http', '4fpzxUUZzP', 'other household', '#TSCEnt', 'World News', 'hrRCDCbgYP', 'co f6m6bFoh38', 'sSD12GfX6i', 'f6m6bFoh38', 'costs o', 'co dJqtjykErt', 'sa', 'much sa', 'co Xbmhk441Ki', 'co EGZvfZVy9d', 'news', 'from', 'co sSD12GfX6i', 'too muc', '#science', 'muc http', 'co 1HanbK1W4F', '#sexi', 'co rCq5q9giEY', 'World', '#BBC Flood', 'co V9HKeDkAer', 'co hrRCDCbgYP', 'DTN', 'co iXMxeu8f5c', '@ABLA_Chicago Flood', 'co cSXdOnEEU4', 'rCq5q9giEY'], '9': ['News', 'BBC'], '364': ['t'], '8': ['othe', 'othe http', '#News', '@VibraExtrema', 'RT @VibraExtrema', '@VibraExtrema Science', 'costs othe'], '18': ['amp'], '357': ['wasteful Insurance'], '280': ['much', 'too much'], '322': ['households', 'other households'], '5': ['#News Flood'], '7': ['RT @AlexCocoPro', '@tunfaisal #PrkDR', '#OperacaoBetaLab', '#Unity4Malaysia Flood', '@tunfaisal', '@AlexCocoPro Science', 'h', '#Unity4Malaysia', 'News Flood', 'h http', 'other h', '#PrkDR', '#OperacaoBetaLab Flood', '@AlexCocoPro', '#SDV'], '21': ['households t', 't http'], '343': ['costs other', 'other', 'http t'], '17': ['much http', 'Science amp', 'Environmen', 'Environmen Flood', 'amp Environmen'], '336': ['t co', 'co'], '4': ['mu', 'hous', 'mu http', '@4nnak', 'costs ot', 'RT @4nnak', '#OpenFollow Flood', 'ot http', '#OpenFollow', 'ot', 'BBC News', 'much say', 'say http', 'too mu', 'hous http', 'other hous', 'say', '@4nnak #OperacaoBetaLab', '#news'], '358': ['for', 'risk', 'families', 'scheme wasteful', 'Insurance for', 'insurance scheme', 'for at', 'families costs', 'scheme', 'Insurance', 'at risk', 'at', 'costs', 'risk families', 'Flood insurance', 'insurance', 'Flood', 'wasteful'], '254': ['says report', 'report'], '1': ['co zCo91289Zq', 'EazujopKJk', 'eytNIbz1I9 @Catlin_White', 'GiBXj8gXt9', 'co 5ESXdlpuyh', 'Mw87zCzRt1 @tunfaisal', 'co 4IRPDxD6hs', '#newsupdate Flood', '#fb', 'co M1hFdnGP8F', 'EBy13wvgHr', '3053eGNEvf', 'co mjUuRSaOck', 'co lunBecxLVF', 'fdzzWTJeDx', 'TcZLgfoy3n', 'co 19k7fng4EX', 'o5nn81MFSS', 'JgmSNWKDNC', 'co 8N62gd6fdC', 'MOiLwZmNPX', 'KeOskvlVfN', 'co 5eFetAnJmV', '#BBCNews Flood', '5ESXdlpuyh', 'uWv25mQga0', 'co hw3f83xUuK', 'TheDailyPR', 'co 4hqMQeKEtx', 'UWsWa8JPif', 'co xvKYHdOXis', 'househol', 'NXPp9aqvcc', 'co NXPp9aqvcc', 'zCo91289Zq', 'Qt9RH29vwc', 'dmX6Jh2Dbr', 'uqYMWzftQg', '#nature', 'co iU80pOmylK', 'co 9AYh3Qw7ih', 'JaUdhommg8', 'co vPD1mq8e23', 'fGUgLSZpYy', '8N62gd6fdC @tunfaisal', 'co PO85mNxOz1', 'co FyIScF8iaL', 'fTeyopBHp2', 'wbPvzXPcCH', '#BBCScience amp', 'R2XFLywxwQ', 'yJm0YVbPF1', 'co THyPHnjE5a', 'co ocBOzmAc91', 'pDObUxIxvw', 'co vvKpHkJygk', 'co VN2F90ajPd', 'f5qKL1KmMB', 'tzIQpVm7qC', 'co 6P9zpXUEcO', 'co xnosftOnuM', 'FSeIWs6SIm', 'M2asAgzE4D', 'co VsNwNGtfHd', 'nnNIdTgzbP', 'RbK6L8QB04', 'OoVDiEoH82', 'Italy Flood', 'WZd4M8l6FA', 'vUK1WBo21h', 'Reading', 'co B5QlcPMzVd', '#fancyrats', 'co tzIQpVm7qC', 'co ibUANh4YGe', '9kDqfJL8LE', 'co 9goGU6RnME', 'TUzLCk4A9K', 'co yJm0YVbPF1', '#ENVIRONMENT', 'ibUANh4YGe', 'co bbXtRbZbHo', 'Italy', 'co yQfSC7Lu5M', '#Follow', '#sexi Flood', 'co bDyBdlzlVd', 'co fZkvuMgJ6e', 'co 8AFWAlVBFJ', 'mjUuRSaOck', 'co o429dnY58u', 'UK News', '6q9yYJrxU8', 'plVppJJoRQ', 'wasteful http', '#Free', '#DOCTOURMUS', 'yKjNVnXAdb', 'dnrZdlC4AA', '#247newsnaija', 'co PNj3F3qMpZ', '#shipping', 'about Flood', 'co OWx1Ea7UfY', 'k24MjXhpSC', 'co RbQxvMHEoW', 'co kbFU1yU0XL', '@Catlin_White', 'Nri6b5uEFZ', 'MnXcmbkpKU', '#NewsINFOmedia', 'HfABIyCXPr', 'UflvSdoVaJ', 'DTN World', 'co Y2kvjz3Rxq', 'co TcZLgfoy3n', '#antiracism Flood', 'MttVszVt6d', 'X6OAgrmuje #retweetandfollowme', 'xnosftOnuM', 'ho', '#upscscience', 'co sQGcNvCTqm', 'co h62IdvLVHK', 'co AN2W8gy9zj', 'co dIvap5Baxm', 'co tBdlLwSiIy', 'SqLUjqU8US', 'S95n9AAZmk', 'co tOXuvsXuWU', '#News #check', 'co cW0vkfQXEJ', 'dYBeCjmiP1', 'co 6THv988muq', 'ebOb1PeyT2', '@bbc', 'co a7tbdNbY0z', 'co y6cRz3fn8r', 'co prmxsOdzDc', '4IRPDxD6hs', '9E1HE8bAbj', 'DKGfqJb18p #Follow', 'co 7AyLk5I7ZY', '5sBzML9JQm', 'Y9opZ4I6Uu', 'co IEXz1w7YxB', 'fRZHoHKqXy', 'co BrEPqAErR3', 'Esm9UgZBd0', 'lab', 'tcYcYluLwU', 'co GxfNpt4HUa', 'co sIQ8vjTpHs', 'co DICt53wKFl', 'eQhs2u7kF1 #TeamFollowBack', 'LsJ9Qd3vma @tunfaisal', 'RAT NEWS', '#FOLLOWBACK', 'bQTc9k6oix', 'co zGbOpu5eX1', 'aCe01IoHdt', 'co ZKCmho7GLr', 'bS3r19O8eb', 'co plVppJJoRQ', 'co 2AL5OePW4S', 'FyIScF8iaL', 'co ebOb1PeyT2', 'co R2XFLywxwQ', 'eQhs2u7kF1', 'wOI94vMvbI', 'co w65YGK1gWu', 'co M2asAgzE4D', 'co Y9opZ4I6Uu', 'lA4zG7BIGH', 'OvlIjatyVe', 'I26WFVS0Lo via', 'FVIJ8E5rCv', 'VN2F90ajPd', 'k24MjXhpSC http', 'co SyM0k1NWWs', 'bbXtRbZbHo', 'co YyHOmoGRDb', '19k7fng4EX', 'o5A67HwwBH', 'co APmwLyekPj', 'co 4Ja6cKiqKX', '#rats #fancyrats', 'D9G46UfiWn', 'yQfSC7Lu5M', 'co Owvaa2spL7', '1J0SreZoI0', 'Rx96COfOJn', 'co uWv25mQga0', 'co 8Lotb4xzp1', 'co ORn6WX5fSU', 'co YjfJlFhQA9', 'pm97olizVH', 'co dmX6Jh2Dbr', 'co 9kDqfJL8LE', 'co wwwZ6PF8zM', 'co 9wY3TSpy0V', 'co o5A67HwwBH', 'co tWGpQ3FWk7', 'zEa5JLXg8O', 'n0SPe3pZ4e', 'co 422iO5VnoI', '0WNTH3Ndta', 'about', 'co cZR49ocSOr', 'co xXDwKNO7EW', 'co k4wYswpbzt', 'Owvaa2spL7', '#socialmedia', 'cSXdOnEEU4 #TeamFollowBack', 'co M491qncBce', 'b5yMWBNYnq #News', 's http', 'co cXAturKWgx', '1HanbK1W4F Flood', '8AFWAlVBFJ', '#Stories Flood', 'co OoVDiEoH82', '5VfWXbESMa', 'Top', 'Xbmhk441Ki @ABLA_Chicago', 'from the', 'I', '8Lotb4xzp1', 'co nnpqUNE7KS', 'G0QHlwvKdP', '6P9zpXUEcO', 'co QMoYdmwTMV', 'co zEa5JLXg8O', 'ujdL1ctxbp', '6kIl4P85Oi', 'co Rx96COfOJn', 'zGbOpu5eX1 Insurance', 'co FVIJ8E5rCv', 'co oRsdb7xAkd', 'co 0QPs0Q5KdW', 'yUGwFsXo8u', 'co ofw4ib7Qyz', 'JZCgssjMXr', 'NDDoLYuhKH', 'jPwFjMOdZF', '5MnDIbGHsL Flood', 'RfStqBH6EJ', 'co I26WFVS0Lo', 'YO5RkyQztT', 'bcnWY3kQFl #news', 'PnPK9dYDvU', 'myPGIEPRnb #science', 'eOhqrWrzPL', 'co nppyDdfWDc', 'jhA9p0Te8S', '9NU5vRSf5a lt', 'RPHBpN2Ubb', 'co E0W03ENSlr', 'HlJC844OX7', 'co K6k4feBtqn', 'rzW82ARW21', 'wwwZ6PF8zM', '6KNQd5U5z7', '#Beauty', 'nQfuWiGCEt', 'house', 'Reading about', 'co ktevsmb7k2', 'co uMxu3F47Sr', 'qFagdJd9Di @ABLA_Chicago', 'co MttVszVt6d', '#偽2ch騒動 #sexi', '8N62gd6fdC', 'cZR49ocSOr via', '#news Flood', 'oRsdb7xAkd', '#Beauty Flood', 'co PnPK9dYDvU', '6THv988muq #TeamFollowBack', 'co Qt9RH29vwc', 'fHCnYZlxry', 'tBdlLwSiIy', 'co ZZfmAXYG7C', 'co HfABIyCXPr', 'co nQfuWiGCEt', 'co 3053eGNEvf', 'co eOhqrWrzPL', 'M491qncBce #news', '8ZhfdaEQGm', 'co 6KNQd5U5z7', 'h62IdvLVHK', 'gZp0xUUnn3', 'zCzZmLjrSC', '@TheNewsHype', 'co e7bNAmU7nb', 'xj7Pf06nig', 'wBcxQmGFJs', 'KVurIwcHsq', 'dIvap5Baxm', 'Scitech Flood', 'world news', 'D5ru5etz2v', 'V59ZMaO24K', 'co KVurIwcHsq', 'co HtP9JrTtfP', 'news app', 'y6cRz3fn8r', 'co 17Wfa8SQ8s', 'co 4v3P4l1e0p', 'co fHCnYZlxry', 'co BSDbzDFXXR', 'co IqhHBDpSvw', 'V9HKeDkAer Flood', 'co rkeRZaoIYP', 'zCo91289Zq #Skibabs', 'lunBecxLVF', 'RZZ0lHC5PB @tunfaisal', 'co dGQx1tiJXW', 'vGUpRhWQPc', '@verified @monsif35', 'co NDDoLYuhKH', 'co I1AfRbUCGm', '#rats', 'co RZZ0lHC5PB', 'co X1jncngidc', 'AN2W8gy9zj', 'a7tbdNbY0z', 'co dx4QA2O97k', 'co 0hWIgYwKwF', '9AYh3Qw7ih', 'JfcHSStk4i', 'm0iiKvTm1H', 'qwnt9G9Giq', 'Mw87zCzRt1', 'cXAturKWgx #science', 'co pm97olizVH', 'XgkLKsLk46', 'vK5bCuFXcv', 'co k24MjXhpSC', 'vEadzytTvS', 'co eQhs2u7kF1', 'co wPVsv0PfcB', 'k4wYswpbzt', 'qFagdJd9Di', 'Yr4VlEDycO', 'QMoYdmwTMV', 'uNnbIXozMV', 'app', '#nigeria #naija', '#sexi #antiracism', 'ho http', 'co SVdcR5OIcC', '6kIl4P85Oi #fb', 'costs http', 'co EazujopKJk', 'bS3r19O8eb @ABLA_Chicago', 'co MOiLwZmNPX', '#Follow #FOLLOWBACK', 'RT @itsmeRahmat', '#nigeria', 'co NO7xVcF6Ib', 'wpelE1em9B', '1J0SreZoI0 #TSCEnt', 'via @TheNewsHype', 'Read', 'co MADDecIOzO', 'co 9x29WySsN7', '5MnDIbGHsL', 'DICt53wKFl', 'qZqnx21PXx', 'co jAveIqaenx', 'K6k4feBtqn', 'ONLINE Flood', '7xAzpsbl1h', '422iO5VnoI', 'sQGcNvCTqm', 'tWH9C9mgvJ', 'world', '#green', 'co wbPvzXPcCH', 'k4wYswpbzt #nigeria', 'udnS80D2PZ', 'vPD1mq8e23', 'co TUzLCk4A9K', 'RZZ0lHC5PB', 'fZkvuMgJ6e', 'co OVlZRLHBf4', 'Y2kvjz3Rxq', 'from world', 'TaumZwj4g4', 'I26WFVS0Lo', 'xTsac3pgZ3', 'Full', 'news bbc', 'co UWsWa8JPif', 'co zCzZmLjrSC', 'co GlZhSZaCnQ', 'hsncK4qOOK', 'iU80pOmylK', 'OVlZRLHBf4', 'co R8Gy6b3G2H', 'VsNwNGtfHd', 'Full Story', 'tOXuvsXuWU', 'co SqYVA9KSJN', 'PRoCeRLlhj', '#news #bbcupdat', '7AyLk5I7ZY from', 'co rzW82ARW21', 'co udnS80D2PZ', 'jSPebPHVBC', 'co LuBOhA08Le', 'c4s4FUdITA', 'pp9TilWSM6', 'co qZqnx21PXx', 'co vGUpRhWQPc', 'co 50NqNA5W1w', 'NEWS', '@itsmeRahmat #OpenFollow', 'co MnXcmbkpKU', 'IqhHBDpSvw', 'co sW2lukyzni', 'yQfSC7Lu5M #bbc', 'co HlJC844OX7', 'co n0SPe3pZ4e', 'co mg5kmjBaBa', '2N2cPVaony', 'co vR48BBZw9e', 'co b5yMWBNYnq', '9x29WySsN7 @tunfaisal', 'the', '#naija', 'ocBOzmAc91', '19k7fng4EX Top', 'co FXtTLdKNDo', 'YyHOmoGRDb', 'co 5VfWXbESMa', 'co 5sBzML9JQm', 'Xbmhk441Ki http', 'co xj7Pf06nig', 'co vUK1WBo21h', 'co 2vbDft0jHT', '#antiracism', 'co 9NU5vRSf5a', 'co RkhrngKB70', '#Free Flood', 'rCq5q9giEY #upscscience', 'prmxsOdzDc', 'OWx1Ea7UfY', 'hw3f83xUuK', 'wPVsv0PfcB', 'co Lk70ijkBxU', 'E0W03ENSlr', 'JsncT6jHko', 'co G0QHlwvKdP', 'anPxC6zI9j', 'IEXz1w7YxB', '#nature #green', 'co SHqvxm1FMh', 'co fuG4dy1lPO', 'L6EYnkGpBM', 'co c4s4FUdITA', 'GxfNpt4HUa', 'co tcYcYluLwU', 'k8aTxIDboZ', 'co FSeIWs6SIm', 'househol http', 'byMSMYBzxf', 'co VnEDc4YR2O', 'bbc update', 'co yKjNVnXAdb', 'Lk70ijkBxU', 'rCq5q9giEY #upsccurrent', 'co w2ZhxNv1Vw', 'co RPHBpN2Ubb', 'update', 'co jPwFjMOdZF', 'co f5qKL1KmMB', 'CogQowdnBr', '2AL5OePW4S', 'ktevsmb7k2', 'OWx1Ea7UfY @tunfaisal', 'co 3WmT9XhNzx', 'Scitech', 'co bAt9gzB3pT', 'co kTw96iyBnw', 'co wpelE1em9B', 'house http', 'HtP9JrTtfP', 'w65YGK1gWu', '@monsif35', 'sW2lukyzni', 'co byMSMYBzxf', 'mgBioiFcqo', 'co yir36AKfMB', 'HOKoHhduXu', 'Ej7RJr9iKO #paedobritain', '@itsmeRahmat', 'R8Gy6b3G2H @tunfaisal', 'co OvlIjatyVe', 'PO85mNxOz1', 'kbFU1yU0XL', 'co vEadzytTvS', 'tWGpQ3FWk7 #BBCScience', 'co uqYMWzftQg', 'tXQ69K8wHL', 'co ugLJ0xRGVg', 'co xTsac3pgZ3', 'co mwulRYIZD2', 'co W9I7LxLdGF', '#ENVIRONMENT Flood', 'via @DudleyFreedom', 'co D56MnehWOi', 'co W6xl3zJ5Xf', 'co bOj39d3gLK', '0drCEikGMQ', 'xXDwKNO7EW', 'SHqvxm1FMh', 'JgmSNWKDNC #AceNewsReport', 'News from', 'SqYVA9KSJN', 'XfzpRai0mS', 'bAt9gzB3pT', 'co lXz8gxB0DJ', 'cW0vkfQXEJ', '#check #follow', 'hsncK4qOOK #rats', 'DKGfqJb18p', '@Laposcheni', 'co 8ZhfdaEQGm', 'nppyDdfWDc', '@BBCWorld', 'co CZC066Xpmp', 'co 2N2cPVaony', 'co JaUdhommg8', 'ZZfmAXYG7C', 'g5pvjrQyiI via', '0drCEikGMQ Flood', 'tWGpQ3FWk7', 'RbQxvMHEoW', '9goGU6RnME', 'bbXtRbZbHo @BBCWorld', 'W9I7LxLdGF', 'myPGIEPRnb', 'co q8pCx6Adca', '#retweetandfollowme', '0QPs0Q5KdW', 'zGbOpu5eX1', '7AyLk5I7ZY', 'X6OAgrmuje', 'co qdRUUOun2m', 'co txByEhxJRH', 'co vv1JAwKZRN', 'co pDObUxIxvw', 'W6xl3zJ5Xf', 'co D5ru5etz2v', 'iU80pOmylK #DOCTOURMUS', 'w2ZhxNv1Vw', '4fpzxUUZzP bbc', 'FIpgOhht3A', 'co WZd4M8l6FA', 'co XfzpRai0mS', 'co bS3r19O8eb', 'co SqLUjqU8US', 'LuBOhA08Le', 'SVdcR5OIcC', 'lt', 'co Nri6b5uEFZ', 'PNj3F3qMpZ', 'OoVDiEoH82 bbc', 'cXAturKWgx', 'co TaumZwj4g4', 'ff @horluwargbear', 'co pFo4si2ZQl', 'R8Gy6b3G2H', '@verified', 'bOj39d3gLK', 'co 2mezUAMquL', '#BBC_Science Flood', 'DTN Italy', '#偽2ch騒動', 'co ujdL1ctxbp', 'co 0drCEikGMQ', 'MADDecIOzO', 'dJyiXTUhva', 'co dJyiXTUhva', 'dx4QA2O97k', 'co UflvSdoVaJ', 'News UK', 'W9I7LxLdGF #BBC', 'co qwnt9G9Giq', 'fTeyopBHp2 @verified', 'co JsncT6jHko', 'dGQx1tiJXW', 'C9r8Am5H3k @ABLA_Chicago', 'e2Nef2RGCR', '#shipping #Free', 'co gZp0xUUnn3', 'vR48BBZw9e', 'mgBioiFcqo #Teamfollowback', 'co wBcxQmGFJs', 'Now', 'sQGcNvCTqm #Laposcheni', 'co lA4zG7BIGH', 'co anPxC6zI9j', '0hWIgYwKwF', 'j0uJqKkDUj', 'co rGCqQ7MTF2', '4v3P4l1e0p', 'co 0WNTH3Ndta', 'co aHa8IYQmgz', 'vvKpHkJygk', 'co qFagdJd9Di', 'K1iHPwje5K', 'b5yMWBNYnq', 'BSDbzDFXXR', 'lXz8gxB0DJ', 'mwulRYIZD2', 'qTsGGfSSdu', 'update Flood', 'amp Environ', 'co bQTc9k6oix', '3WmT9XhNzx', 'fuG4dy1lPO', 'other house', 'co bdQmQ7xzhF', 'co K1iHPwje5K', '#upsccurrent', 'SyM0k1NWWs', 'co FT3tPhdnsI', 'From', 'e7bNAmU7nb', '4Ja6cKiqKX', 'co yUGwFsXo8u', '@monsif35 http', 'bdQmQ7xzhF', 'co m0iiKvTm1H', 'co KeOskvlVfN', '50NqNA5W1w', 'co JgmSNWKDNC', '#BBCNews', 'oqXjg91ibz', 'co j0uJqKkDUj', 'co RfStqBH6EJ', 'co JfcHSStk4i', 'X1jncngidc', 'co 5MnDIbGHsL', 'other ho', 'co Esm9UgZBd0', 'co jhA9p0Te8S', 'sIQ8vjTpHs', 'D56MnehWOi', '#newsupdate', '9NU5vRSf5a', '#Skibabs', 'M1hFdnGP8F', '17Wfa8SQ8s', 'co gb8zq0yzPG', 'RAT', 'THyPHnjE5a #nature', 'NO7xVcF6Ib', 'co nnNIdTgzbP', 'THyPHnjE5a', '@DudleyFreedom', '#BBCScience', '#AceNewsReport', 'co 6q9yYJrxU8', 'co EBy13wvgHr', 'YjfJlFhQA9', 'nnpqUNE7KS', 'gZp0xUUnn3 #TSCEnt', 'B5QlcPMzVd', 'co DKGfqJb18p', 'lXz8gxB0DJ #SDV', 'M491qncBce', 'From BBC', 'co fGUgLSZpYy', 'FXtTLdKNDo', 'co PRoCeRLlhj', 'C9r8Am5H3k http', '#bbc', '#paedobritain', 'co Ej7RJr9iKO', 'co XgkLKsLk46', 'co tXQ69K8wHL', '#bbcupdat', 'co L6EYnkGpBM', 'BrEPqAErR3', 'co fdzzWTJeDx', 'eytNIbz1I9', '4hqMQeKEtx', 'co sZ4HxXEw8p', 'mg5kmjBaBa', '#UK Flood', 'co o5nn81MFSS', 'RkhrngKB70', 'co oqXjg91ibz', 'txByEhxJRH', 'co xTcPmT7HDM', 'xvKYHdOXis', 'doas53nhhh', 'dHxKuP82If', 'ofw4ib7Qyz', 'ZKCmho7GLr', 'co D9G46UfiWn', 'rGCqQ7MTF2', 'co uNnbIXozMV', '#follow', 'co 7xAzpsbl1h', 'the lab', 'aHa8IYQmgz', 'co pp9TilWSM6', '5eFetAnJmV', '#NewsINFOmedia Flood', 'co V59ZMaO24K', 'co LsJ9Qd3vma', 'APmwLyekPj', 'co aCe01IoHdt', 'co fTeyopBHp2', 'co g5pvjrQyiI', 'other househol', 'q8pCx6Adca', 'hQKyeByp8o', 'co eytNIbz1I9', 'xTcPmT7HDM', 'Yr4VlEDycO ff', '#Teamfollowback', 'pFo4si2ZQl', 'Now Read', '#BBC_Science', 'FT3tPhdnsI', 'ugLJ0xRGVg', 'Read Flood', '6THv988muq', 'co e2Nef2RGCR', 'co YO5RkyQztT', 'rkeRZaoIYP', 'co Yr4VlEDycO', '9x29WySsN7', 'kTw96iyBnw', 'co hsncK4qOOK', 'co myPGIEPRnb', '9wY3TSpy0V', 'co 6kIl4P85Oi', '4RbH6Z7PDv', '4fpzxUUZzP BBC', 'bDyBdlzlVd', 'co hQKyeByp8o', '2vbDft0jHT', 'RDGqE8XU4n', 'Top Story', 'co 1J0SreZoI0', 'qdRUUOun2m', 'ff', 'I Now', 'o429dnY58u', '@Laposcheni Flood', 'BBC Scitech', 'co jSPebPHVBC', 'I1AfRbUCGm', 'co FIpgOhht3A', 'ONLINE', 'co RbK6L8QB04', '#bbc #news', 'co HOKoHhduXu', 'uMxu3F47Sr', 'via @bbc', 'lab Flood', 'LsJ9Qd3vma', '#Laposcheni', 'RPHBpN2Ubb TheDailyPR', 'co tWH9C9mgvJ', '#BBC #News', 'ORn6WX5fSU', 'Environ', 'g5pvjrQyiI', 'co qTsGGfSSdu', 's', 'much s', 'co mgBioiFcqo', 'co JZCgssjMXr', 'co RDGqE8XU4n', 'bDyBdlzlVd #UK', '2mezUAMquL', 'lt Full', 'cZR49ocSOr', 'co 4RbH6Z7PDv', 'co GiBXj8gXt9', 'co bcnWY3kQFl', 'co fRZHoHKqXy', 'GlZhSZaCnQ', 'gb8zq0yzPG', 'co 9E1HE8bAbj', '#247newsnaija Flood', 'CZC066Xpmp', 'vv1JAwKZRN', 'jAveIqaenx', 'bcnWY3kQFl', 'co wOI94vMvbI', 'co CogQowdnBr', 'co dHxKuP82If', 'f6m6bFoh38 #News', 'NEWS ONLINE', '#news #socialmedia', '#Stories', 'sZ4HxXEw8p', 'Ej7RJr9iKO', 'VnEDc4YR2O', 'co vK5bCuFXcv', '@horluwargbear', '#check', 'co dnrZdlC4AA', 'co k8aTxIDboZ', 'co dYBeCjmiP1', 'co Mw87zCzRt1', 'yir36AKfMB', 'co S95n9AAZmk', 'co doas53nhhh', 'co X6OAgrmuje'], '295': ['too', 'households too'], '238': ['report http'], '6': ['@ABLA_Chicago', 'too http']}\n",
      "cluster_prefix 1-1\n",
      "cluster_tuple_list [(0.55828328071647015, '563130097696129024', \"Flood insurance scheme 'wasteful': Insurance for at-risk families costs other households too... http://t.co/Yr4VlEDycO ff @horluwargbear\", 'horluwargbear'), (0.62262028365784872, '563129721966170114', \"#news Flood insurance scheme 'wasteful': Insurance for at-risk families costs other households too... http://t.co/iU80pOmylK #DOCTOURMUS\", 'ALL___NEWS'), (0.16485238814342426, '563129460862353410', \"Flood insurance scheme 'wasteful': Insurance for at-risk families costs other households too much, says report. http://t.co/HlJC844OX7\", 'maikitas'), (0.16485238814342426, '563129729763381248', \"Flood insurance scheme 'wasteful': Insurance for at-risk families costs other households too much, says report. http://t.co/RbQxvMHEoW\", 'adamuabu'), (0.16485238814342426, '563129728047906816', \"Flood insurance scheme 'wasteful': Insurance for at-risk families costs other households too much, says report. http://t.co/k8aTxIDboZ\", 'IAmHunterLee'), (0.16485238814342426, '563130118248222720', \"Flood insurance scheme 'wasteful': Insurance for at-risk families costs other households too much, says report. http://t.co/fRZHoHKqXy\", 'succurs77'), (0.16485238814342426, '563130290105643009', \"Flood insurance scheme 'wasteful': Insurance for at-risk families costs other households too much, says report. http://t.co/bQTc9k6oix\", 'Ucha_News'), (0.32744296600406092, '563129452209516544', \"Flood insurance scheme 'wasteful': Insurance for at-risk families costs other households too much, says report. http://t.co/M491qncBce #news\", 'newspakistani7'), (0.16485238814342426, '563130089580134400', \"Flood insurance scheme 'wasteful': Insurance for at-risk families costs other households too much, says report. http://t.co/JaUdhommg8\", 'CandraYanSyah'), (0.16485238814342426, '563129463722876928', \"Flood insurance scheme 'wasteful': Insurance for at-risk families costs other households too much, says report. http://t.co/fdzzWTJeDx\", 'FarscapeTravel'), (0.49300511336069869, '563130105057140736', \"#Stories Flood insurance scheme 'wasteful': Insurance for at-risk families costs other households too much, sa... http://t.co/jAveIqaenx\", 'Ads4zero'), (0.16485238814342426, '563130118034296832', \"Flood insurance scheme 'wasteful': Insurance for at-risk families costs other households too much, says report. http://t.co/o5A67HwwBH\", 'Monatdafirst'), (0.16485238814342426, '563130324880596993', \"Flood insurance scheme 'wasteful': Insurance for at-risk families costs other households too much, says report. http://t.co/D9G46UfiWn\", 'Wand081'), (0.16485238814342426, '563130125659537408', \"Flood insurance scheme 'wasteful': Insurance for at-risk families costs other households too much, says report. http://t.co/aCe01IoHdt\", 'OluwayemiTimmy'), (0.16485238814342426, '563129469724921857', \"Flood insurance scheme 'wasteful': Insurance for at-risk families costs other households too much, says report. http://t.co/mg5kmjBaBa\", 'PR4V33NT'), (0.45505436524501036, '563130106650976256', \"#News Flood insurance scheme 'wasteful': Insurance for at-risk families costs other households too much, says report. http://t.co/jhA9p0Te8S\", 'A_Sector'), (0.16485238814342426, '563130309978247168', \"Flood insurance scheme 'wasteful': Insurance for at-risk families costs other households too much, says report. http://t.co/9AYh3Qw7ih\", 'KKR_UK'), (0.16485238814342426, '563129727032901632', \"Flood insurance scheme 'wasteful': Insurance for at-risk families costs other households too much, says report. http://t.co/Esm9UgZBd0\", 'kduribeiro1'), (0.16485238814342426, '563129741943648257', \"Flood insurance scheme 'wasteful': Insurance for at-risk families costs other households too much, says report. http://t.co/xvKYHdOXis\", 'tboyomoniyi'), (0.16485238814342426, '563129459784445952', \"Flood insurance scheme 'wasteful': Insurance for at-risk families costs other households too much, says report. http://t.co/OvlIjatyVe\", 'Jbabs09'), (0.48694676713723795, '563134704853868544', \"#BBCNews Flood insurance scheme 'wasteful': Insurance for at-risk families costs other households ... http://t.co/RPHBpN2Ubb |TheDailyPR\", 'Internetguru798'), (0.89441760609686194, '563134677922238466', \"#OperacaoBetaLab Flood insurance scheme 'wasteful': Insurance for at-risk families costs other h... http://t.co/AN6EcOhsFx #SDV #TIMBETA\", '4nnak'), (0.16485238814342426, '563142333588176897', \"Flood insurance scheme 'wasteful': Insurance for at-risk families costs other households too much, says report. http://t.co/dYBeCjmiP1\", 'doantu'), (0.26339143257948222, '563134311042281472', \"Flood insurance scheme 'wasteful': Insurance for at-risk families costs other households too much, says report.\", '01EddyCordero'), (0.89441760609686194, '563134688143757312', \"#OperacaoBetaLab Flood insurance scheme 'wasteful': Insurance for at-risk families costs other h... http://t.co/lXz8gxB0DJ #SDV #TIMBETA\", 'timbetabh2'), (0.16485238814342426, '563141376330575872', \"Flood insurance scheme 'wasteful': Insurance for at-risk families costs other households too much, says report. http://t.co/Nri6b5uEFZ\", 'Daily_Newss'), (0.64738174527456904, '563134688168902657', \"World News: Flood insurance scheme 'wasteful': Insurance for at-risk families costs other households too much,... http://t.co/ZZfmAXYG7C\", 'radixextreme'), (0.59174222971355428, '563141353215762432', \"Flood insurance scheme 'wasteful': Insurance for at-risk families costs other households ... http://t.co/b5yMWBNYnq #News #check #follow\", 'qf_shonkyboy_yk'), (0.67927894001849531, '563134697220214784', \"DTN World News: Flood insurance scheme 'wasteful': Insurance for at-risk families costs other households too m... http://t.co/tXQ69K8wHL\", 'DTNWorldNews'), (0.16485238814342426, '563130087982112768', \"Flood insurance scheme 'wasteful': Insurance for at-risk families costs other households too much, says report. http://t.co/6q9yYJrxU8\", '_HotStuffs'), (0.16485238814342426, '563129857865830400', \"Flood insurance scheme 'wasteful': Insurance for at-risk families costs other households too much, says report. http://t.co/dIvap5Baxm\", 'Dailynews_time'), (0.16485238814342426, '563129298576343040', \"Flood insurance scheme 'wasteful': Insurance for at-risk families costs other households too much, says report. http://t.co/M1hFdnGP8F\", 'booktodrive1'), (0.56119940671027913, '563128360499683329', \"news bbc update Flood insurance scheme 'wasteful' - Insurance for at-risk families costs other households too much... http://t.co/NDDoLYuhKH\", 'phoebeRadio'), (0.16485238814342426, '563129840706924544', \"Flood insurance scheme 'wasteful': Insurance for at-risk families costs other households too much, says report. http://t.co/sZ4HxXEw8p\", 'information_day'), (0.26339143257948222, '563133613533696002', \"Flood insurance scheme 'wasteful': Insurance for at-risk families costs other households too much, says report.\", 'ELIZABETHBYRN17'), (0.62956112080358195, '563129852039925760', \"Flood insurance scheme 'wasteful': Insurance for at-risk families costs other households too much, ... http://t.co/W9I7LxLdGF #BBC #News\", 'ZOLTAR328'), (0.16485238814342426, '563129281878831105', \"Flood insurance scheme 'wasteful': Insurance for at-risk families costs other households too much, says report. http://t.co/5VfWXbESMa\", 'ghdshopper'), (0.16485238814342426, '563129301382340608', \"Flood insurance scheme 'wasteful': Insurance for at-risk families costs other households too much, says report. http://t.co/o429dnY58u\", 'dejizultee'), (0.68942056473869406, '563130081187352576', \"Flood insurance scheme 'wasteful': Insurance for at-risk families costs other households to... http://t.co/bcnWY3kQFl #news #socialmedia\", 'bloggedbymerrit'), (0.16485238814342426, '563129292167446529', \"Flood insurance scheme 'wasteful': Insurance for at-risk families costs other households too much, says report. http://t.co/0WNTH3Ndta\", 'toyincash'), (0.16485238814342426, '563129296089145348', \"Flood insurance scheme 'wasteful': Insurance for at-risk families costs other households too much, says report. http://t.co/DICt53wKFl\", 'iAdamWatson'), (0.16485238814342426, '563129834709057537', \"Flood insurance scheme 'wasteful': Insurance for at-risk families costs other households too much, says report. http://t.co/qZqnx21PXx\", 'information_day'), (0.16485238814342426, '563129833878601728', \"Flood insurance scheme 'wasteful': Insurance for at-risk families costs other households too much, says report. http://t.co/IEXz1w7YxB\", '_wayangg'), (0.16485238814342426, '563129305635381250', \"Flood insurance scheme 'wasteful': Insurance for at-risk families costs other households too much, says report. http://t.co/doas53nhhh\", 'missmossuk'), (0.16485238814342426, '563129283388796930', \"Flood insurance scheme 'wasteful': Insurance for at-risk families costs other households too much, says report. http://t.co/jSPebPHVBC\", 'suitsforsale1'), (0.16485238814342426, '563129828421816320', \"Flood insurance scheme 'wasteful': Insurance for at-risk families costs other households too much, says report. http://t.co/QMoYdmwTMV\", 'indbier'), (0.16485238814342426, '563133929381572608', \"Flood insurance scheme 'wasteful': Insurance for at-risk families costs other households too much, says report. http://t.co/Qt9RH29vwc\", 'JanaAsk1'), (0.68348262376753144, '563129844020420608', \"BBC News - Flood insurance scheme 'wasteful': Insurance for at-risk families costs other households too much, ... http://t.co/a7tbdNbY0z\", 'africainlive_en'), (0.16485238814342426, '563129307250180096', \"Flood insurance scheme 'wasteful': Insurance for at-risk families costs other households too much, says report. http://t.co/CogQowdnBr\", 'jamesmanley9'), (0.85364081580077222, '563130071418826753', \"From BBC News, Flood insurance scheme 'wasteful': Insurance for at-risk families costs other households too mu... http://t.co/HtP9JrTtfP\", 'margarethdevina'), (0.63723413815864205, '563128352069136384', \"UK News: Flood insurance scheme 'wasteful' - Insurance for at-risk families costs other households too much, says ... http://t.co/PNj3F3qMpZ\", 'DrAlexConcorde'), (0.65530160335540566, '563133598006378497', \"Flood insurance scheme 'wasteful': Insurance for at-risk families costs other households too much, say... http://t.co/gZp0xUUnn3 #TSCEnt\", 'Davincii_lee'), (0.16485238814342426, '563130064582086657', \"Flood insurance scheme 'wasteful': Insurance for at-risk families costs other households too much, says report. http://t.co/pDObUxIxvw\", 'MunJain'), (0.66246151880258908, '563133931168350208', \"Flood insurance scheme 'wasteful': Insurance for at-risk families costs other households t... http://t.co/tWGpQ3FWk7 #BBCScience&amp;Environ\", 'thereztlessmind'), (0.90746449323566969, '563134803365883904', \"RT @AlexCocoPro: Science&amp;Environmen: Flood insurance scheme 'wasteful': Insurance for at-risk families costs other households t... http://t…\", 'GranVzla'), (0.73453610976506112, '563134647014404097', \"News: Flood insurance scheme 'wasteful': Insurance for at-risk families costs other household... http://t.co/g5pvjrQyiI via @TheNewsHype\", 'TheNewsHype'), (0.16485238814342426, '563133927301193729', \"Flood insurance scheme 'wasteful': Insurance for at-risk families costs other households too much, says report. http://t.co/K6k4feBtqn\", 'Lea_fitz'), (0.90969775893330163, '563134652085710848', \"RT @VibraExtrema: Science&amp;Environmen: Flood insurance scheme 'wasteful': Insurance for at-risk families costs other households t... http://…\", 'ens_anunnaki'), (0.90969775893330163, '563134804091482112', \"RT @VibraExtrema: Science&amp;Environmen: Flood insurance scheme 'wasteful': Insurance for at-risk families costs other households t... http://…\", 'GranVzla'), (0.82899988712555028, '563133909957750784', \"Science&amp;Environmen: Flood insurance scheme 'wasteful': Insurance for at-risk families costs other households t... http://t.co/8AFWAlVBFJ\", 'VibraExtrema'), (0.65530160335540566, '563133898150789120', \"#Beauty Flood insurance scheme 'wasteful': Insurance for at-risk families costs other households too much, say... http://t.co/SqYVA9KSJN\", 'RssBeauty'), (0.90969775893330163, '563134797875519488', \"RT @VibraExtrema: Science&amp;Environmen: Flood insurance scheme 'wasteful': Insurance for at-risk families costs other households t... http://…\", 'BurnVzla'), (0.16485238814342426, '563133921928310784', \"Flood insurance scheme 'wasteful': Insurance for at-risk families costs other households too much, says report. http://t.co/FVIJ8E5rCv\", 'CreativeSteelCo'), (0.16485238814342426, '563140366669328384', \"Flood insurance scheme 'wasteful': Insurance for at-risk families costs other households too much, says report. http://t.co/PO85mNxOz1\", 'Wilsonlule'), (0.90746449323566969, '563134800471785474', \"RT @AlexCocoPro: Science&amp;Environmen: Flood insurance scheme 'wasteful': Insurance for at-risk families costs other households t... http://t…\", 'coco_terrorista'), (0.16485238814342426, '563133892714967040', \"Flood insurance scheme 'wasteful': Insurance for at-risk families costs other households too much, says report. http://t.co/sW2lukyzni\", 'hunter_shrek'), (0.90746449323566969, '563134801851719681', \"RT @AlexCocoPro: Science&amp;Environmen: Flood insurance scheme 'wasteful': Insurance for at-risk families costs other households t... http://t…\", 'caprilesrad'), (0.90746449323566969, '563134651448184833', \"RT @AlexCocoPro: Science&amp;Environmen: Flood insurance scheme 'wasteful': Insurance for at-risk families costs other households t... http://t…\", 'ens_anunnaki'), (0.16485238814342426, '563133915863322624', \"Flood insurance scheme 'wasteful': Insurance for at-risk families costs other households too much, says report. http://t.co/sSD12GfX6i\", 'DoubleClick___'), (0.16485238814342426, '563134227751763969', \"Flood insurance scheme 'wasteful': Insurance for at-risk families costs other households too much, says report. http://t.co/KeOskvlVfN\", 'tyodrago3'), (0.16485238814342426, '563133930107203585', \"Flood insurance scheme 'wasteful': Insurance for at-risk families costs other households too much, says report. http://t.co/MttVszVt6d\", 'rickrick888'), (0.16485238814342426, '563133894359134208', \"Flood insurance scheme 'wasteful': Insurance for at-risk families costs other households too much, says report. http://t.co/tWH9C9mgvJ\", 'yoza_hime'), (0.82899988712555028, '563133907994816513', \"Science&amp;Environmen: Flood insurance scheme 'wasteful': Insurance for at-risk families costs other households t... http://t.co/OVlZRLHBf4\", 'AlexCocoPro'), (0.90969775893330163, '563134802640269313', \"RT @VibraExtrema: Science&amp;Environmen: Flood insurance scheme 'wasteful': Insurance for at-risk families costs other households t... http://…\", 'caprilesrad'), (0.16485238814342426, '563133913862660096', \"Flood insurance scheme 'wasteful': Insurance for at-risk families costs other households too much, says report. http://t.co/dJqtjykErt\", 'TopUp__'), (0.16485238814342426, '563141510745436161', \"Flood insurance scheme 'wasteful': Insurance for at-risk families costs other households too much, says report. http://t.co/YyHOmoGRDb\", 'gospelgee'), (0.16485238814342426, '563133925686407169', \"Flood insurance scheme 'wasteful': Insurance for at-risk families costs other households too much, says report. http://t.co/VN2F90ajPd\", 'Trina_8s'), (0.90746449323566969, '563134804775145473', \"RT @AlexCocoPro: Science&amp;Environmen: Flood insurance scheme 'wasteful': Insurance for at-risk families costs other households t... http://t…\", 'PepsiVzla'), (0.90969775893330163, '563134801163862016', \"RT @VibraExtrema: Science&amp;Environmen: Flood insurance scheme 'wasteful': Insurance for at-risk families costs other households t... http://…\", 'coco_terrorista'), (0.90969775893330163, '563134805408485377', \"RT @VibraExtrema: Science&amp;Environmen: Flood insurance scheme 'wasteful': Insurance for at-risk families costs other households t... http://…\", 'PepsiVzla'), (0.45505436524501036, '563140194832891905', \"#News Flood insurance scheme 'wasteful': Insurance for at-risk families costs other households too much, says report. http://t.co/f6m6bFoh38\", 'bbcnewsok'), (0.90746449323566969, '563134795476381696', \"RT @AlexCocoPro: Science&amp;Environmen: Flood insurance scheme 'wasteful': Insurance for at-risk families costs other households t... http://t…\", 'VibraExtrema'), (0.90969775893330163, '563134650126974976', \"RT @VibraExtrema: Science&amp;Environmen: Flood insurance scheme 'wasteful': Insurance for at-risk families costs other households t... http://…\", 'AlexCocoPro'), (0.90746449323566969, '563134796231376898', \"RT @AlexCocoPro: Science&amp;Environmen: Flood insurance scheme 'wasteful': Insurance for at-risk families costs other households t... http://t…\", 'BurnVzla'), (0.64536125792572174, '563127911792640001', \"Flood insurance scheme 'wasteful': Insurance for at-risk families costs… http://t.co/fTeyopBHp2  @verified @monsif35 http://t.co/9wY3TSpy0V\", 'monsif35'), (0.16485238814342426, '563129251101044738', \"Flood insurance scheme 'wasteful': Insurance for at-risk families costs other households too much, says report. http://t.co/rkeRZaoIYP\", 'itzmide'), (0.16485238814342426, '563127900912615424', \"Flood insurance scheme 'wasteful': Insurance for at-risk families costs other households too much, says report. http://t.co/jPwFjMOdZF\", 'RiseKuwabara'), (0.16485238814342426, '563129238149406720', \"Flood insurance scheme 'wasteful': Insurance for at-risk families costs other households too much, says report. http://t.co/wwwZ6PF8zM\", 'supergreatjess'), (0.16485238814342426, '563129638277246977', \"Flood insurance scheme 'wasteful': Insurance for at-risk families costs other households too much, says report. http://t.co/rzW82ARW21\", 'Gerardus_Frans'), (0.57840945113083819, '563129278460489730', \"Flood insurance scheme 'wasteful': Insurance for at-risk families costs other household... http://t.co/k24MjXhpSC http://t.co/pm97olizVH\", 'chasesfeed'), (0.16485238814342426, '563129279483887617', \"Flood insurance scheme 'wasteful': Insurance for at-risk families costs other households too much, says report. http://t.co/M2asAgzE4D\", '_kay_leb'), (0.96618176113681442, '563135236373217280', \"RT @4nnak: #OperacaoBetaLab Flood insurance scheme 'wasteful': Insurance for at-risk families costs other h... http://t.co/AN6EcOhsFx #SDV …\", 'StoneyMorais'), (0.16485238814342426, '563133877451890689', \"Flood insurance scheme 'wasteful': Insurance for at-risk families costs other households too much, says report. http://t.co/FIpgOhht3A\", 'luffy_luf'), (0.16485238814342426, '563133883365851136', \"Flood insurance scheme 'wasteful': Insurance for at-risk families costs other households too much, says report. http://t.co/HfABIyCXPr\", 'vivekanandadar'), (0.16485238814342426, '563130027294748672', \"Flood insurance scheme 'wasteful': Insurance for at-risk families costs other households too much, says report. http://t.co/EGZvfZVy9d\", 'Thinking_Grey'), (0.26339143257948222, '563134132083904512', \"Flood insurance scheme 'wasteful': Insurance for at-risk families costs other households too much, says report.\", 'RonniiNewStars'), (0.16485238814342426, '563133881482616832', \"Flood insurance scheme 'wasteful': Insurance for at-risk families costs other households too much, says report. http://t.co/9goGU6RnME\", 'cool_virgil'), (0.64374654997724901, '563130024476164097', \"Flood insurance scheme 'wasteful': Insurance for at-risk families costs other households t... http://t.co/X6OAgrmuje #retweetandfollowme\", 'wapfreezy'), (0.16485238814342426, '563131080165695488', \"Flood insurance scheme 'wasteful': Insurance for at-risk families costs other households too much, says report. http://t.co/OoVDiEoH82 (bbc)\", 'thus_spake'), (0.59033572719569194, '563131082267062272', \"Flood insurance scheme 'wasteful': Insurance for at-risk families costs other households too much, sa... http://t.co/cXAturKWgx #science\", 'MMNewzz'), (0.16485238814342426, '563133875354750976', \"Flood insurance scheme 'wasteful': Insurance for at-risk families costs other households too much, says report. http://t.co/Y9opZ4I6Uu\", 'abdull282'), (0.16485238814342426, '563133531547643906', \"Flood insurance scheme 'wasteful': Insurance for at-risk families costs other households too much, says report. http://t.co/X1jncngidc\", 'LongDracula'), (0.46872131839113773, '563131076495683586', \"#BBC_Science Flood insurance scheme 'wasteful': Insurance for at-risk families costs other households too much... http://t.co/rGCqQ7MTF2\", 'topsciencenews'), (0.16485238814342426, '563129654358183937', \"Flood insurance scheme 'wasteful': Insurance for at-risk families costs other households too much, says report. http://t.co/4hqMQeKEtx\", 'p_demola'), (0.16485238814342426, '563129629238501376', \"Flood insurance scheme 'wasteful': Insurance for at-risk families costs other households too much, says report. http://t.co/7xAzpsbl1h\", 'ichi_ichijo'), (0.26339143257948222, '563133538782826498', \"Flood insurance scheme 'wasteful': Insurance for at-risk families costs other households too much, says report.\", 'Chakeydo'), (0.16485238814342426, '563131065296896001', \"Flood insurance scheme 'wasteful': Insurance for at-risk families costs other households too much, says report. http://t.co/Owvaa2spL7\", 'terriferic'), (0.16485238814342426, '563133886939414528', \"Flood insurance scheme 'wasteful': Insurance for at-risk families costs other households too much, says report. http://t.co/o5nn81MFSS\", 'pyarelaltrive'), (0.16485238814342426, '563133885081346048', \"Flood insurance scheme 'wasteful': Insurance for at-risk families costs other households too much, says report. http://t.co/8ZhfdaEQGm\", 'samarendrapra'), (0.16485238814342426, '563134838241120256', \"Flood insurance scheme 'wasteful': Insurance for at-risk families costs other households too much, says report. http://t.co/APmwLyekPj\", 'SUAVE_Clothings'), (0.16485238814342426, '563134847296626688', \"Flood insurance scheme 'wasteful': Insurance for at-risk families costs other households too much, says report. http://t.co/w2ZhxNv1Vw\", 'LAGOS_GISTS'), (0.16485238814342426, '563129651363446784', \"Flood insurance scheme 'wasteful': Insurance for at-risk families costs other households too much, says report. http://t.co/6KNQd5U5z7\", 'arsene_lup'), (0.16485238814342426, '563129644925190144', \"Flood insurance scheme 'wasteful': Insurance for at-risk families costs other households too much, says report. http://t.co/RDGqE8XU4n\", 'Carver_security'), (0.26339143257948222, '563133531656708096', \"Flood insurance scheme 'wasteful': Insurance for at-risk families costs other households too much, says report.\", 'KngKazma'), (0.16485238814342426, '563133871655362560', \"Flood insurance scheme 'wasteful': Insurance for at-risk families costs other households too much, says report. http://t.co/GiBXj8gXt9\", 'MikeWowBean'), (0.16485238814342426, '563130031254155264', \"Flood insurance scheme 'wasteful': Insurance for at-risk families costs other households too much, says report. http://t.co/c4s4FUdITA\", 'TARELA_DANIEL'), (0.16485238814342426, '563130025856098304', \"Flood insurance scheme 'wasteful': Insurance for at-risk families costs other households too much, says report. http://t.co/n0SPe3pZ4e\", 'Otimishegun'), (0.5385637730866808, '563131064227344384', \"BBC Scitech: Flood insurance scheme 'wasteful': Insurance for at-risk families costs other households too much... http://t.co/vUK1WBo21h\", 'scienceRSS'), (0.26339143257948222, '563133535720980482', \"Flood insurance scheme 'wasteful': Insurance for at-risk families costs other households too much, says report.\", 'CommanderInChei'), (0.16485238814342426, '563133863040278528', \"Flood insurance scheme 'wasteful': Insurance for at-risk families costs other households too much, says report. http://t.co/S95n9AAZmk\", 'SanjayaDikky'), (0.16485238814342426, '563133890798161920', \"Flood insurance scheme 'wasteful': Insurance for at-risk families costs other households too much, says report. http://t.co/3WmT9XhNzx\", 'Sirius_Sir'), (0.26339143257948222, '563133513411477504', \"Flood insurance scheme 'wasteful': Insurance for at-risk families costs other households too much, says report.\", 'ohjjosid'), (0.16485238814342426, '563133879637114880', \"Flood insurance scheme 'wasteful': Insurance for at-risk families costs other households too much, says report. http://t.co/vGUpRhWQPc\", 'aika_ayumu'), (0.26339143257948222, '563139107933528065', \"Flood insurance scheme 'wasteful': Insurance for at-risk families costs other households too much, says report.\", 'SuperSalesBarby'), (0.69291078743916579, '563129627762110467', \"#NewsToday #News Flood insurance scheme 'wasteful': Insurance for at-risk families costs other households too ...  http://t.co/FT3tPhdnsI\", '_NewsToday_'), (0.16485238814342426, '563139680053374977', \"Flood insurance scheme 'wasteful': Insurance for at-risk families costs other households too much, says report.  http://t.co/PnPK9dYDvU\", 'RainOfFollowers'), (0.16485238814342426, '563140252039380995', \"Flood insurance scheme 'wasteful' - Insurance for at-risk families costs other households too much, says report. http://t.co/ibUANh4YGe\", 'promanscience'), (0.26339143257948222, '563139107790938112', \"Flood insurance scheme 'wasteful': Insurance for at-risk families costs other households too much, says report.\", 'HOGUEMARISSA'), (0.90028808236533175, '563136112454291456', \"RT @itsmeRahmat: #OpenFollow Flood insurance scheme 'wasteful': Insurance for at-risk families costs other hous... http://t.co/cSXdOnEEU4 #…\", 'TakenOverPages'), (0.26339143257948222, '563139107493527552', \"Flood insurance scheme 'wasteful': Insurance for at-risk families costs other households too much, says report.\", 'ROLANDFERNANDE7'), (0.16485238814342426, '563127638839926784', \"Flood insurance scheme 'wasteful': Insurance for at-risk families costs other households too much, says report. http://t.co/prmxsOdzDc\", 'Rinaldianggara4'), (0.16485238814342426, '563127638256930816', \"Flood insurance scheme 'wasteful': Insurance for at-risk families costs other households too much, says report. http://t.co/fuG4dy1lPO\", 'UKsocialstudy12'), (0.16485238814342426, '563127644057653250', \"Flood insurance scheme 'wasteful': Insurance for at-risk families costs other households too much, says report. http://t.co/K1iHPwje5K\", 'UKsocialstudy14'), (0.16485238814342426, '563127640786075649', \"Flood insurance scheme 'wasteful': Insurance for at-risk families costs other households too much, says report. http://t.co/zEa5JLXg8O\", 'UKsocialstudy13'), (0.16485238814342426, '563129411373768704', \"Flood insurance scheme 'wasteful': Insurance for at-risk families costs other households too much, says report. http://t.co/yKjNVnXAdb\", 'Neha32455800'), (0.63443504247898697, '563130012052631552', \"#BBC Flood insurance scheme 'wasteful': Insurance for at-risk families costs other households too m... http://t.co/cZR49ocSOr (via @bbc)\", 'psalmist90'), (0.16485238814342426, '563130562404028416', \"Flood insurance scheme 'wasteful': Insurance for at-risk families costs other households too much, says report. http://t.co/2AL5OePW4S\", 'UKmediastudy12'), (0.16485238814342426, '563129988329635840', \"Flood insurance scheme 'wasteful': Insurance for at-risk families costs other households too much, says report. http://t.co/yJm0YVbPF1\", 'HAPSTA_NG'), (0.16485238814342426, '563130555294687232', \"Flood insurance scheme 'wasteful': Insurance for at-risk families costs other households too much, says report. http://t.co/xj7Pf06nig\", 'UKmediastudy3'), (0.16485238814342426, '563129987058769920', \"Flood insurance scheme 'wasteful': Insurance for at-risk families costs other households too much, says report. http://t.co/tcYcYluLwU\", 'NewsReel_ID'), (0.16485238814342426, '563130540207796225', \"Flood insurance scheme 'wasteful': Insurance for at-risk families costs other households too much, says report. http://t.co/nnpqUNE7KS\", 'Blandamura'), (0.16485238814342426, '563130567630131200', \"Flood insurance scheme 'wasteful': Insurance for at-risk families costs other households too much, says report. http://t.co/MOiLwZmNPX\", 'UKmediastudy15'), (0.16485238814342426, '563129432882180097', \"Flood insurance scheme 'wasteful': Insurance for at-risk families costs other households too much, says report. http://t.co/L6EYnkGpBM\", 'UK_Affiliates'), (0.16485238814342426, '563130548512489472', \"Flood insurance scheme 'wasteful': Insurance for at-risk families costs other households too much, says report. http://t.co/6P9zpXUEcO\", 'UKmediastudy7'), (0.16485238814342426, '563130532960038912', \"Flood insurance scheme 'wasteful': Insurance for at-risk families costs other households too much, says report. http://t.co/qdRUUOun2m\", 'NewsCastSerbia'), (0.16485238814342426, '563128764113387521', \"Flood insurance scheme 'wasteful': Insurance for at-risk families costs other households too much, says report. http://t.co/D56MnehWOi\", 'BBCWorldEnglish'), (0.16485238814342426, '563130550156677120', \"Flood insurance scheme 'wasteful': Insurance for at-risk families costs other households too much, says report. http://t.co/SHqvxm1FMh\", 'UKmediastudy6'), (0.16485238814342426, '563130000845438977', \"Flood insurance scheme 'wasteful': Insurance for at-risk families costs other households too much, says report. http://t.co/0QPs0Q5KdW\", 'Smithereens_inc'), (0.16485238814342426, '563130564283097089', \"Flood insurance scheme 'wasteful': Insurance for at-risk families costs other households too much, says report. http://t.co/17Wfa8SQ8s\", 'UKmediastudy13'), (0.16485238814342426, '563129996177182720', \"Flood insurance scheme 'wasteful': Insurance for at-risk families costs other households too much, says report. http://t.co/bAt9gzB3pT\", 'LodayaFutsal'), (0.16485238814342426, '563129430789201921', \"Flood insurance scheme 'wasteful': Insurance for at-risk families costs other households too much, says report. http://t.co/qwnt9G9Giq\", 'real_bossmayor'), (0.16485238814342426, '563130546847371264', \"Flood insurance scheme 'wasteful': Insurance for at-risk families costs other households too much, says report. http://t.co/cW0vkfQXEJ\", 'UKmediastudy8'), (0.16485238814342426, '563130538370670592', \"Flood insurance scheme 'wasteful': Insurance for at-risk families costs other households too much, says report. http://t.co/aHa8IYQmgz\", 'TNewNews'), (0.16485238814342426, '563130536541949953', \"Flood insurance scheme 'wasteful': Insurance for at-risk families costs other households too much, says report. http://t.co/plVppJJoRQ\", 'IvanTrajkovic1'), (0.16485238814342426, '563130551867961347', \"Flood insurance scheme 'wasteful': Insurance for at-risk families costs other households too much, says report. http://t.co/pp9TilWSM6\", 'UKmediastudy5'), (0.16485238814342426, '563130545656180736', \"Flood insurance scheme 'wasteful': Insurance for at-risk families costs other households too much, says report. http://t.co/nppyDdfWDc\", 'UKmediastudy9'), (0.16485238814342426, '563130557039534081', \"Flood insurance scheme 'wasteful': Insurance for at-risk families costs other households too much, says report. http://t.co/0hWIgYwKwF\", 'UKmediastudy2'), (0.16485238814342426, '563129408219672578', \"Flood insurance scheme 'wasteful': Insurance for at-risk families costs other households too much, says report. http://t.co/hQKyeByp8o\", 'GbemiSweech'), (0.16485238814342426, '563130558926970883', \"Flood insurance scheme 'wasteful': Insurance for at-risk families costs other households too much, says report. http://t.co/SyM0k1NWWs\", 'UKmediastudy10'), (0.16485238814342426, '563130006658752513', \"Flood insurance scheme 'wasteful': Insurance for at-risk families costs other households too much, says report. http://t.co/hw3f83xUuK\", 'Madrid_IndoKBBR'), (0.16485238814342426, '563130553671495682', \"Flood insurance scheme 'wasteful': Insurance for at-risk families costs other households too much, says report. http://t.co/I1AfRbUCGm\", 'UKmediastudy4'), (0.46872131839113773, '563128984334897152', \"Flood insurance scheme 'wasteful': Insurance for at-risk families costs other households too much... http://t.co/rCq5q9giEY #upscscience\", 'upscinfo'), (0.16485238814342426, '563129978766635008', \"Flood insurance scheme 'wasteful': Insurance for at-risk families costs other households too much, says report. http://t.co/MnXcmbkpKU\", 'MaxWebDeals'), (0.16485238814342426, '563129416931217409', \"Flood insurance scheme 'wasteful': Insurance for at-risk families costs other households too much, says report. http://t.co/xXDwKNO7EW\", 'timbeta0201'), (0.16485238814342426, '563130560659202048', \"Flood insurance scheme 'wasteful': Insurance for at-risk families costs other households too much, says report. http://t.co/WZd4M8l6FA\", 'UKmediastudy11'), (0.16485238814342426, '563130566006931456', \"Flood insurance scheme 'wasteful': Insurance for at-risk families costs other households too much, says report. http://t.co/422iO5VnoI\", 'UKmediastudy14'), (0.33377064398512946, '563136943014563840', \"Flood insurance scheme 'wasteful' http://t.co/zGbOpu5eX1 Insurance for at-risk families costs other households too much, says report.\", 'NewsdeskUK'), (0.72444743303891124, '563141594593771520', \"#NewsINFOmedia Flood insurance scheme 'wasteful': Insurance for at-risk families costs other households too mu... http://t.co/ofw4ib7Qyz\", 'News1nfo'), (0.80771142417551145, '563133341386301440', \"Flood insurance scheme 'wasteful': Insurance for at-risk families costs other households t... http://t.co/7AyLk5I7ZY from world news app\", 'WorldNews_AKN'), (0.16485238814342426, '563140111454699520', \"Flood insurance scheme 'wasteful' - Insurance for at-risk families costs other households too much, says report. http://t.co/kTw96iyBnw\", 'Worldnews_Media'), (0.16485238814342426, '563134070276628481', \"Flood insurance scheme 'wasteful': Insurance for at-risk families costs other households too much, says report. http://t.co/q8pCx6Adca\", 'National_servic'), (0.66706284294585783, '563127557646589952', \"Flood insurance scheme 'wasteful': Insurance for at-risk families costs other households to... http://t.co/I26WFVS0Lo via @DudleyFreedom\", 'DudleyFreedom'), (0.16485238814342426, '563127560590987264', \"Flood insurance scheme 'wasteful': Insurance for at-risk families costs other households too much, says report. http://t.co/EBy13wvgHr\", 'Aliyu_Grind'), (0.16485238814342426, '563127564168732674', \"Flood insurance scheme 'wasteful': Insurance for at-risk families costs other households too much, says report. http://t.co/vEadzytTvS\", '7pecialforyou'), (0.16485238814342426, '563129393132752896', \"Flood insurance scheme 'wasteful': Insurance for at-risk families costs other households too much, says report. http://t.co/5sBzML9JQm\", '_keibee_'), (0.16485238814342426, '563129622645051392', \"Flood insurance scheme 'wasteful': Insurance for at-risk families costs other households too much, says report. http://t.co/8Lotb4xzp1\", 'Itabiyi3'), (0.16485238814342426, '563129391274668034', \"Flood insurance scheme 'wasteful': Insurance for at-risk families costs other households too much, says report. http://t.co/Y2kvjz3Rxq\", 'fromrussia_'), (0.96618176113681442, '563129113746370560', \"RT @4nnak: #OperacaoBetaLab Flood insurance scheme 'wasteful': Insurance for at-risk families costs other h... http://t.co/VVHU8SmY4a #SDV …\", 'mariabarbosa52'), (0.46872131839113773, '563127555234885632', \"Flood insurance scheme 'wasteful': Insurance for at-risk families costs other households too much... http://t.co/rCq5q9giEY #upsccurrent\", 'upscinfo'), (0.16485238814342426, '563129892951187456', \"Flood insurance scheme 'wasteful': Insurance for at-risk families costs other households too much, says report. http://t.co/xTcPmT7HDM\", 'pinkeomi'), (0.55828328071647015, '563129891260882944', \"#shipping  #Free Flood insurance scheme 'wasteful': Insurance for at-risk families costs other households too ... http://t.co/PRoCeRLlhj\", 'RssFreeShipping'), (0.16485238814342426, '563129877914599424', \"Flood insurance scheme 'wasteful': Insurance for at-risk families costs other households too much, says report. http://t.co/YO5RkyQztT\", 'AbduLAleeGwarzo'), (0.16485238814342426, '563129878971551745', \"Flood insurance scheme 'wasteful': Insurance for at-risk families costs other households too much, says report. http://t.co/zCzZmLjrSC\", 'PeterRa51958449'), (0.16485238814342426, '563128711243776000', \"Flood insurance scheme 'wasteful': Insurance for at-risk families costs other households too much, says report. http://t.co/dJqtjykErt\", 'TopUp__'), (0.16485238814342426, '563128722564214785', \"Flood insurance scheme 'wasteful': Insurance for at-risk families costs other households too much, says report. http://t.co/nnNIdTgzbP\", 'satbookings'), (0.16485238814342426, '563128714804736001', \"Flood insurance scheme 'wasteful': Insurance for at-risk families costs other households too much, says report. http://t.co/sSD12GfX6i\", 'DoubleClick___'), (0.16485238814342426, '563129601292259331', \"Flood insurance scheme 'wasteful' Insurance for at-risk families costs other households too much, says report. http://t.co/XfzpRai0mS\", 'PRLabpak'), (0.16485238814342426, '563129619214123008', \"Flood insurance scheme 'wasteful': Insurance for at-risk families costs other households too much, says report. http://t.co/wOI94vMvbI\", 'Sir_WasH'), (0.16485238814342426, '563129880850616320', \"Flood insurance scheme 'wasteful': Insurance for at-risk families costs other households too much, says report. http://t.co/bdQmQ7xzhF\", 'RezkyDieryDIe'), (0.89441760609686194, '563128702469287938', \"#OperacaoBetaLab Flood insurance scheme 'wasteful': Insurance for at-risk families costs other h... http://t.co/VVHU8SmY4a #SDV #TIMBETA\", '4nnak'), (0.16485238814342426, '563130282375516161', \"Flood insurance scheme 'wasteful': Insurance for at-risk families costs other households too much, says report. http://t.co/MADDecIOzO\", 'tweetrfans'), (0.16485238814342426, '563129612075421696', \"Flood insurance scheme 'wasteful': Insurance for at-risk families costs other households too much, says report. http://t.co/pFo4si2ZQl\", 'BabeNxy'), (0.16485238814342426, '563129395179573248', \"Flood insurance scheme 'wasteful': Insurance for at-risk families costs other households too much, says report. http://t.co/B5QlcPMzVd\", 'PassDriving1'), (0.16485238814342426, '563130270396600321', \"Flood insurance scheme 'wasteful': Insurance for at-risk families costs other households too much, says report. http://t.co/ZKCmho7GLr\", 'AlhidayahGC'), (0.16485238814342426, '563130270983798786', \"Flood insurance scheme 'wasteful': Insurance for at-risk families costs other households too much, says report. http://t.co/h62IdvLVHK\", 'AlhidayahGC'), (0.16485238814342426, '563129594140573696', \"Flood insurance scheme 'wasteful': Insurance for at-risk families costs other households too much, says report. http://t.co/w65YGK1gWu\", 'riye_lfc'), (0.16485238814342426, '563130282824302592', \"Flood insurance scheme 'wasteful': Insurance for at-risk families costs other households too much, says report. http://t.co/yUGwFsXo8u\", 'matteristblog'), (0.72444743303891124, '563129882578673664', \"Flood insurance scheme 'wasteful': Insurance for at-risk families costs other households too mu... http://t.co/JgmSNWKDNC #AceNewsReport\", 'AceNewsServices'), (0.46872131839113773, '563129360350060544', \"Flood insurance scheme 'wasteful': Insurance for at-risk families costs other households too much,... http://t.co/bbXtRbZbHo - @BBCWorld\", 'ElkNews'), (0.16485238814342426, '563129871736397824', \"Flood insurance scheme 'wasteful': Insurance for at-risk families costs other households too much, says report. http://t.co/yir36AKfMB\", 'GbenroJolaoluwa'), (0.16485238814342426, '563130284611080192', \"Flood insurance scheme 'wasteful': Insurance for at-risk families costs other households too much, says report. http://t.co/SqLUjqU8US\", 'DigEdits'), (0.16485238814342426, '563129375088836608', \"Flood insurance scheme 'wasteful': Insurance for at-risk families costs other households too much, says report. http://t.co/AN2W8gy9zj\", 'limbuzeon'), (0.16485238814342426, '563129870834614272', \"Flood insurance scheme 'wasteful': Insurance for at-risk families costs other households too much, says report. http://t.co/tOXuvsXuWU\", 'Godzygodzy'), (0.16485238814342426, '563129863276490753', \"Flood insurance scheme 'wasteful': Insurance for at-risk families costs other households too much, says report. http://t.co/JfcHSStk4i\", 'svenrzk'), (0.16485238814342426, '563129608262803458', \"Flood insurance scheme 'wasteful': Insurance for at-risk families costs other households too much, says report. http://t.co/ocBOzmAc91\", 'InStateOfTrance'), (0.16485238814342426, '563129358357786625', \"Flood insurance scheme 'wasteful': Insurance for at-risk families costs other households too much, says report. http://t.co/2vbDft0jHT\", 'iam_Twizt'), (0.72444743303891124, '563135037386665986', \"Flood insurance scheme 'wasteful': Insurance for at-risk families costs other households too mu... http://t.co/THyPHnjE5a #nature #green\", 'whatgreeninvest'), (0.46872131839113773, '563133849710755840', \"#ENVIRONMENT Flood insurance scheme 'wasteful': Insurance for at-risk families costs other households too much... http://t.co/wbPvzXPcCH\", 'ty_buchanan'), (0.92610452912571162, '563134257711685632', \"#OpenFollow Flood insurance scheme 'wasteful': Insurance for at-risk families costs other hous... http://t.co/6THv988muq #TeamFollowBack\", 'JoesoefSubrata'), (0.16485238814342426, '563133826679861248', \"Flood insurance scheme 'wasteful': Insurance for at-risk families costs other households too much, says report. http://t.co/BrEPqAErR3\", 'NewsHitter'), (0.16485238814342426, '563133844098785280', \"Flood insurance scheme 'wasteful': Insurance for at-risk families costs other households too much, says report. http://t.co/iXMxeu8f5c\", 'TiGeyO'), (0.16485238814342426, '563133841217290240', \"Flood insurance scheme 'wasteful': Insurance for at-risk families costs other households too much, says report. http://t.co/KVurIwcHsq\", 'Daily_Newss'), (0.16485238814342426, '563133834317688834', \"Flood insurance scheme 'wasteful': Insurance for at-risk families costs other households too much, says report. http://t.co/nQfuWiGCEt\", 'kilokeal'), (0.92610452912571162, '563134275348746241', \"#OpenFollow Flood insurance scheme 'wasteful': Insurance for at-risk families costs other hous... http://t.co/eQhs2u7kF1 #TeamFollowBack\", 'DAcademycom'), (0.26339143257948222, '563133820707164160', \"Flood insurance scheme 'wasteful': Insurance for at-risk families costs other households too much, says report.\", 'LukeNovell'), (0.16485238814342426, '563135040758882304', \"Flood insurance scheme 'wasteful': Insurance for at-risk families costs other households too much, says report. http://t.co/VsNwNGtfHd\", 'ScienceNewsInt'), (0.16485238814342426, '563135039030829057', \"Flood insurance scheme 'wasteful': Insurance for at-risk families costs other households too much, says report. http://t.co/vR48BBZw9e\", '_kiatt'), (0.16485238814342426, '563136032124579842', \"Flood insurance scheme 'wasteful': Insurance for at-risk families costs other households too much, says report. http://t.co/y6cRz3fn8r\", 'CallmeNews'), (0.92610452912571162, '563134268180676608', \"#OpenFollow Flood insurance scheme 'wasteful': Insurance for at-risk families costs other hous... http://t.co/cSXdOnEEU4 #TeamFollowBack\", 'itsmeRahmat'), (0.59348513414161752, '563133815418138624', \"BBC Science: Flood insurance scheme 'wasteful': Insurance for at-risk families costs other households too much... http://t.co/XgkLKsLk46\", 'coopinvest'), (0.16485238814342426, '563133832128245760', \"Flood insurance scheme 'wasteful': Insurance for at-risk families costs other households too much, says report. http://t.co/6kIl4P85Oi #fb\", 'Navrang'), (0.75505555151136394, '563133831964659713', \"BBC Science- Flood insurance scheme 'wasteful': Insurance for at-risk families costs other house... http://t.co/eytNIbz1I9 @Catlin_White\", 'Catlin_White'), (0.16485238814342426, '563141404767952896', \"Flood insurance scheme 'wasteful': Insurance for at-risk families costs other households too much, says report. http://t.co/iXMxeu8f5c\", 'TiGeyO'), (0.69291078743916579, '563140443009867776', \"#NewsToday #News Flood insurance scheme 'wasteful': Insurance for at-risk families costs other households too ...  http://t.co/2mezUAMquL\", '_NewsToday_'), (0.16485238814342426, '563141385461587968', \"Flood insurance scheme 'wasteful': Insurance for at-risk families costs other households too much, says report. http://t.co/dmX6Jh2Dbr\", 'news_ground'), (0.16485238814342426, '563128164923084800', \"Flood insurance scheme 'wasteful': Insurance for at-risk families costs other households too much, says report. http://t.co/fHCnYZlxry\", 'neutralnews'), (0.16485238814342426, '563128678205243394', \"Flood insurance scheme 'wasteful': Insurance for at-risk families costs other households too much, says report. http://t.co/uNnbIXozMV\", 'andreawarbrick'), (0.16485238814342426, '563128681887846400', \"Flood insurance scheme 'wasteful': Insurance for at-risk families costs other households too much, says report. http://t.co/j0uJqKkDUj\", 'killzmagic'), (0.55392394244025034, '563127773976219648', \"Flood insurance scheme 'wasteful' Insurance for at-risk families costs other hou  http://t.co/R2XFLywxwQ\", 'paste_coki'), (0.69291078743916579, '563128678268153857', \"#NewsToday #News Flood insurance scheme 'wasteful': Insurance for at-risk families costs other households too ...  http://t.co/oqXjg91ibz\", '_NewsToday_'), (0.44808090351533308, '563128151832682496', \"Flood insurance scheme 'wasteful': Insurance for at-risk families costs other households too much, says… http://t.co/zCo91289Zq #Skibabs\", 'Skibabs'), (0.46872131839113773, '563127406836195328', \"Flood insurance scheme 'wasteful': Insurance for at-risk families costs other households too much,… http://t.co/Ej7RJr9iKO #paedobritain\", 'PaedoAbuseLiars'), (0.88699692983395662, '563128681087119360', \"RAT NEWS ONLINE: Flood insurance scheme 'wasteful': Insurance for at-risk families costs othe... http://t.co/hsncK4qOOK #rats #fancyrats\", 'Ronnie_the_Rat'), (0.16485238814342426, '563128676984713216', \"Flood insurance scheme 'wasteful': Insurance for at-risk families costs other households too much, says report. http://t.co/TUzLCk4A9K\", 'DailiesNG'), (0.48997400819562337, '563129522984202241', \"Flood insurance scheme 'wasteful': Insurance for at-risk families costs other households too m... http://t.co/mgBioiFcqo #Teamfollowback\", 'MrAmazing365'), (0.16485238814342426, '563129228317581312', \"#UK Flood insurance scheme 'wasteful': Insurance for at-risk families costs other households too much, says report. http://t.co/Lk70ijkBxU\", 'Harley_Woody'), (0.64486647751108717, '563129216162484224', \"#newsupdate Flood insurance scheme 'wasteful': Insurance for at-risk families costs other... http://t.co/yQfSC7Lu5M #bbc #news #bbcupdat\", 'ridwanonline'), (0.7674933101400605, '563129207903887360', \"#247newsnaija Flood insurance scheme 'wasteful': Insurance for at-risk families costs other ho... http://t.co/k4wYswpbzt #nigeria #naija\", 'naijagistblog'), (0.16485238814342426, '563131272369668097', \"Flood insurance scheme 'wasteful': Insurance for at-risk families costs other households too much, says report. http://t.co/hrRCDCbgYP\", 'fadhilgaya2'), (0.86053842855969587, '563129206163263489', \"@ABLA_Chicago Flood insurance scheme 'wasteful': Insurance for at-risk families costs o... http://t.co/C9r8Am5H3k http://t.co/1HanbK1W4F\", 'MiRa072013'), (0.16485238814342426, '563130186195951619', \"Flood insurance scheme 'wasteful': Insurance for at-risk families costs other households too much, says report. http://t.co/EazujopKJk\", 'TechieTurf'), (0.16485238814342426, '563128692042260480', \"Flood insurance scheme 'wasteful': Insurance for at-risk families costs other households too much, says report. http://t.co/dnrZdlC4AA\", 'viaWorldNews'), (0.16485238814342426, '563129513995816960', \"Flood insurance scheme 'wasteful': Insurance for at-risk families costs other households too much, says report. http://t.co/oRsdb7xAkd\", 'Itsyoungspice'), (0.90239295252960083, '563129221023662081', \"http://t.co/V9HKeDkAer Flood insurance scheme 'wasteful': Insurance for at-risk families costs ot... http://t.co/Xbmhk441Ki @ABLA_Chicago\", 'ABLA_Chicago'), (0.86053842855969587, '563129204401639424', \"@ABLA_Chicago Flood insurance scheme 'wasteful': Insurance for at-risk families costs o... http://t.co/Xbmhk441Ki http://t.co/V9HKeDkAer\", 'ABLA_Chicago'), (0.73541487088067514, '563131273116278784', \"UK: Flood insurance scheme 'wasteful': Insurance for at-risk families costs other households too much, say... http://t.co/4fpzxUUZzP BBC\", 'thus_spake'), (0.65754646531255634, '563130189064855554', \"BBC News: Flood insurance scheme 'wasteful': Insurance for at-risk families costs other households too much, s... http://t.co/5ESXdlpuyh\", 'Utmanzval'), (0.90239295252960083, '563129224915996672', \"http://t.co/0drCEikGMQ Flood insurance scheme 'wasteful': Insurance for at-risk families costs ot... http://t.co/bS3r19O8eb @ABLA_Chicago\", 'TEFLChicago'), (0.16485238814342426, '563128687873110016', \"Flood insurance scheme 'wasteful': Insurance for at-risk families costs other households too much, says report. http://t.co/4fpzxUUZzP (bbc)\", 'thus_spake'), (0.16485238814342426, '563129923439587329', \"Flood insurance scheme 'wasteful': Insurance for at-risk families costs other households too much, says report. http://t.co/dJyiXTUhva\", 'TARELA_DANIEL'), (0.96618176113681442, '563134950330077184', \"RT @4nnak: #OperacaoBetaLab Flood insurance scheme 'wasteful': Insurance for at-risk families costs other h... http://t.co/AN6EcOhsFx #SDV …\", 'morenaesa21'), (0.16485238814342426, '563129547558633473', \"Flood insurance scheme 'wasteful': Insurance for at-risk families costs other households too much, says report. http://t.co/TaumZwj4g4\", 'Y_stifler'), (0.55392394244025034, '563135191972327425', \"Flood insurance scheme 'wasteful': Insurance for at-risk families costs other… http://t.co/19k7fng4EX Top Story\", 'llIUMINATlRESMl'), (0.16485238814342426, '563129536959614976', \"Flood insurance scheme 'wasteful': Insurance for at-risk families costs other households too much, says report. http://t.co/YjfJlFhQA9\", 'sherinasinna_'), (0.90239295252960083, '563129222953054208', \"http://t.co/5MnDIbGHsL Flood insurance scheme 'wasteful': Insurance for at-risk families costs ot... http://t.co/qFagdJd9Di @ABLA_Chicago\", 'TesolChicago'), (0.16485238814342426, '563130180844015616', \"Flood insurance scheme 'wasteful': Insurance for at-risk families costs other households too much, says report. http://t.co/D5ru5etz2v\", 'NewsmanE'), (0.16485238814342426, '563129542202490882', \"Flood insurance scheme 'wasteful': Insurance for at-risk families costs other households too much, says report. http://t.co/dHxKuP82If\", 'aizeecom'), (0.16485238814342426, '563130195570200576', \"Flood insurance scheme 'wasteful': Insurance for at-risk families costs other households too much, says report. http://t.co/GxfNpt4HUa\", 'Daku_Rakesh'), (0.65530160335540566, '563129235447894016', \"Flood insurance scheme 'wasteful': Insurance for at-risk families costs other households too much, say... http://t.co/1J0SreZoI0 #TSCEnt\", 'Davincii_lee'), (0.90239295252960083, '563129226610487297', \"http://t.co/1HanbK1W4F Flood insurance scheme 'wasteful': Insurance for at-risk families costs ot... http://t.co/C9r8Am5H3k @ABLA_Chicago\", 'MiRa072013'), (0.16485238814342426, '563130171444580353', \"Flood insurance scheme 'wasteful': Insurance for at-risk families costs other households too much, says report. http://t.co/e2Nef2RGCR\", 'rahmsade'), (0.69211832727344524, '563129201536933888', \"BBC News UK Flood insurance scheme 'wasteful': Insurance for at-risk families costs other households too much,... http://t.co/VnEDc4YR2O\", 'artworkblognews'), (0.55392394244025034, '563132348082843648', \"@Laposcheni Flood insurance scheme 'wasteful': Insurance for at-risk families costs other househol... http://t.co/sQGcNvCTqm #Laposcheni\", 'Laposcheni'), (0.33902874151936208, '563140208145625088', \"Flood insurance scheme 'wasteful': Insurance for at-risk families costs other households too much, says report. http://t.co/f6m6bFoh38 #News\", 'bbcnewsok'), (0.16485238814342426, '563142493995167744', \"Flood insurance scheme 'wasteful': Insurance for at-risk families costs other households too much, says report. http://t.co/hrRCDCbgYP\", 'fadhilgaya2'), (0.16485238814342426, '563129570103009280', \"Flood insurance scheme 'wasteful': Insurance for at-risk families costs other households too much, says report. http://t.co/JZCgssjMXr\", 'Lord1datroy'), (0.96618176113681442, '563128787848953856', \"RT @4nnak: #OperacaoBetaLab Flood insurance scheme 'wasteful': Insurance for at-risk families costs other h... http://t.co/VVHU8SmY4a #SDV …\", 'TimRegiane'), (0.16485238814342426, '563129569540972545', \"Flood insurance scheme 'wasteful': Insurance for at-risk families costs other households too much, says report. http://t.co/GlZhSZaCnQ\", 'SeppBard'), (0.16485238814342426, '563129792925409280', \"Flood insurance scheme 'wasteful': Insurance for at-risk families costs other households too much, says report. http://t.co/vK5bCuFXcv\", 'cristian_are'), (0.98347005481285232, '563129791075729408', \"#Unity4Malaysia Flood insurance scheme 'wasteful': Insurance for at-risk families costs othe... http://t.co/OWx1Ea7UfY @tunfaisal #PrkDR\", 'Kucing_Taiko'), (0.98347005481285232, '563129783991549952', \"#Unity4Malaysia Flood insurance scheme 'wasteful': Insurance for at-risk families costs othe... http://t.co/LsJ9Qd3vma @tunfaisal #PrkDR\", 'Kapla_Angin'), (0.64374654997724901, '563129799795695616', \"Flood insurance scheme 'wasteful': Insurance for at-risk families costs other households t... http://t.co/DKGfqJb18p #Follow #FOLLOWBACK\", 'baimkun'), (0.16485238814342426, '563127606665441282', \"Flood insurance scheme 'wasteful': Insurance for at-risk families costs other households too much, says report. http://t.co/uMxu3F47Sr\", 'kmseulmi'), (0.16485238814342426, '563129581209538561', \"Flood insurance scheme 'wasteful': Insurance for at-risk families costs other households too much, says report. http://t.co/qTsGGfSSdu\", 'letsgoaway1'), (0.16485238814342426, '563129973045616641', \"Flood insurance scheme 'wasteful': Insurance for at-risk families costs other households too much, says report. http://t.co/mjUuRSaOck\", 'iippam'), (0.16485238814342426, '563129579288526848', \"Flood insurance scheme 'wasteful': Insurance for at-risk families costs other households too much, says report. http://t.co/FXtTLdKNDo\", 'femi_adebayo'), (0.37297940473918223, '563129562649722880', \"#BBC Flood insurance scheme 'wasteful': Insurance for at-risk families costs other households too much, says report. http://t.co/m0iiKvTm1H\", 'sharing_ai'), (0.16485238814342426, '563129552751177730', \"Flood insurance scheme 'wasteful': Insurance for at-risk families costs other households too much, says report. http://t.co/4RbH6Z7PDv\", 'duchessTee_21'), (0.16485238814342426, '563134746117406720', \"Flood insurance scheme 'wasteful': Insurance for at-risk families costs other households too much, says report. http://t.co/dGQx1tiJXW\", 'wotanonymous'), (0.16485238814342426, '563129944931188736', \"Flood insurance scheme 'wasteful': Insurance for at-risk families costs other households too much, says report. http://t.co/TcZLgfoy3n\", 'islamourdeen3'), (0.16485238814342426, '563133797856600064', \"Flood insurance scheme 'wasteful': Insurance for at-risk families costs other households too much, says report. http://t.co/xTsac3pgZ3\", 'Euroscicon'), (0.16485238814342426, '563129937884749824', \"Flood insurance scheme 'wasteful': Insurance for at-risk families costs other households too much, says report. http://t.co/xnosftOnuM\", 'muhammeduba9'), (0.16485238814342426, '563129950207635456', \"Flood insurance scheme 'wasteful': Insurance for at-risk families costs other households too much, says report. http://t.co/fGUgLSZpYy\", 'Evert_Sandye'), (0.16485238814342426, '563130360523784192', \"Flood insurance scheme 'wasteful': Insurance for at-risk families costs other households too much, says report. http://t.co/50NqNA5W1w\", 'WahyuArifP'), (0.48694676713723795, '563133096011509760', \"Flood insurance scheme 'wasteful': Insurance for at-risk families costs other households… http://t.co/bDyBdlzlVd #UK\", 'llIUMINATlRESMl'), (0.16485238814342426, '563134721559785472', \"Flood insurance scheme 'wasteful': Insurance for at-risk families costs other households too much, says report. http://t.co/SVdcR5OIcC\", 'Newsone_Anchor'), (0.16485238814342426, '563133805200801793', \"Flood insurance scheme 'wasteful': Insurance for at-risk families costs other households too much, says report. http://t.co/f5qKL1KmMB\", 'jelajah_sains'), (0.57315118915269248, '563133808317562883', '\" Flood insurance scheme \\'wasteful\\': Insurance for at-risk families costs other households too much, ... http://t.co/myPGIEPRnb #science', 'TOPinScience'), (0.16485238814342426, '563129964841549824', \"Flood insurance scheme 'wasteful': Insurance for at-risk families costs other households too much, says report. http://t.co/sIQ8vjTpHs\", 'Codename_Carter'), (0.16485238814342426, '563129944587247616', \"Flood insurance scheme 'wasteful': Insurance for at-risk families costs other households too much, says report. http://t.co/2N2cPVaony\", 'iam_mcmich'), (0.16485238814342426, '563130336133931008', \"Flood insurance scheme 'wasteful': Insurance for at-risk families costs other households too much, says report. http://t.co/txByEhxJRH\", 'TeamMutant_TV'), (0.58743663463683105, '563133791426707456', \"[BBC-Science] Flood insurance scheme 'wasteful': Insurance for at-risk families costs other households too muc... http://t.co/lunBecxLVF\", 'TwtFeeds'), (0.62087134834322089, '563129963205779456', \"I Now Read Flood insurance scheme 'wasteful': Insurance for at-risk families costs other households too much, ... http://t.co/CZC066Xpmp\", 'RahmaTamii'), (0.90969775893330163, '563135004419846145', \"RT @VibraExtrema: Science&amp;Environmen: Flood insurance scheme 'wasteful': Insurance for at-risk families costs other households t... http://…\", 'TrovadorSeptico'), (0.16485238814342426, '563134088513462273', \"Flood insurance scheme 'wasteful': Insurance for at-risk families costs other households too much, says report. http://t.co/eOhqrWrzPL\", 'National_servic'), (0.16485238814342426, '563130328630321153', \"Flood insurance scheme 'wasteful': Insurance for at-risk families costs other households too much, says report. http://t.co/G0QHlwvKdP\", 'Del1Marx'), (0.16485238814342426, '563130326499590144', \"Flood insurance scheme 'wasteful': Insurance for at-risk families costs other households too much, says report. http://t.co/LuBOhA08Le\", 'Whit8ney'), (0.16485238814342426, '563129954754252801', \"Flood insurance scheme 'wasteful': Insurance for at-risk families costs other households too much, says report. http://t.co/4Ja6cKiqKX\", 'Evert_Sandye'), (0.16485238814342426, '563133802671640576', \"Flood insurance scheme 'wasteful': Insurance for at-risk families costs other households too much, says report. http://t.co/NO7xVcF6Ib\", 'WomanInScience'), (0.16485238814342426, '563133800515784704', \"Flood insurance scheme 'wasteful': Insurance for at-risk families costs other households too much, says report. http://t.co/9E1HE8bAbj\", 'MumsInScience'), (0.16485238814342426, '563130333680267266', \"Flood insurance scheme 'wasteful': Insurance for at-risk families costs other households too much, says report. http://t.co/RfStqBH6EJ\", 'BBCBreakingNew7'), (0.16485238814342426, '563135946237812736', \"Flood insurance scheme 'wasteful': Insurance for at-risk families costs other households too much, says report. http://t.co/ktevsmb7k2\", 'NaturalGropius8'), (0.26339143257948222, '563139103588237313', \"Flood insurance scheme 'wasteful': Insurance for at-risk families costs other households too much, says report.\", 'Jumolito'), (0.26339143257948222, '563139103269470208', \"Flood insurance scheme 'wasteful': Insurance for at-risk families costs other households too much, says report.\", 'JEANWILLIS7'), (0.16485238814342426, '563140435145924608', \"Flood insurance scheme 'wasteful' - Insurance for at-risk families costs other households too much, says report. http://t.co/ebOb1PeyT2\", 'Cervantes_owly'), (0.16485238814342426, '563138495267360770', \"Flood insurance scheme 'wasteful': Insurance for at-risk families costs other households too much, says report. http://t.co/NXPp9aqvcc\", 'grechrist'), (0.16485238814342426, '563135948116881408', \"Flood insurance scheme 'wasteful': Insurance for at-risk families costs other households too much, says report. http://t.co/byMSMYBzxf\", 'av693'), (0.16485238814342426, '563135948305596418', \"Flood insurance scheme 'wasteful': Insurance for at-risk families costs other households too much, says report.  http://t.co/uqYMWzftQg\", 'ReijinGodys'), (0.16485238814342426, '563141445654028288', \"Flood insurance scheme 'wasteful': Insurance for at-risk families costs other households too much, says report. http://t.co/wPVsv0PfcB\", 'Guuh_Feliix'), (0.55392394244025034, '563127527825084416', \"#sexi #antiracism Flood insurance scheme 'wasteful' Insurance for at-risk families costs other hou  http://t.co/BSDbzDFXXR\", '2x20_'), (0.98347005481285232, '563129751343099904', \"#Unity4Malaysia Flood insurance scheme 'wasteful': Insurance for at-risk families costs othe... http://t.co/8N62gd6fdC @tunfaisal #PrkDR\", 'LelakiMelayu7'), (0.98347005481285232, '563129777062543363', \"#Unity4Malaysia Flood insurance scheme 'wasteful': Insurance for at-risk families costs othe... http://t.co/R8Gy6b3G2H @tunfaisal #PrkDR\", 'Si_Jebon'), (0.16485238814342426, '563130529482940416', \"Flood insurance scheme 'wasteful': Insurance for at-risk families costs other households too much, says report. http://t.co/IqhHBDpSvw\", 'PoliticsInsight'), (0.58142817606158326, '563130512865099776', \"Flood insurance scheme 'wasteful': Insurance for at-risk families costs other households too muc... http://t.co/9NU5vRSf5a &lt;--Full Story\", 'uknewsdepot'), (0.16485238814342426, '563129502331437056', \"Flood insurance scheme 'wasteful': Insurance for at-risk families costs other households too much, says report. http://t.co/gb8zq0yzPG\", 'osinluopeyemi'), (0.98347005481285232, '563129765729562624', \"#Unity4Malaysia Flood insurance scheme 'wasteful': Insurance for at-risk families costs othe... http://t.co/RZZ0lHC5PB @tunfaisal #PrkDR\", 'Abg_Kwsn7'), (0.16485238814342426, '563130531227762688', \"Flood insurance scheme 'wasteful': Insurance for at-risk families costs other households too much, says report. http://t.co/3053eGNEvf\", 'IvanTrajkovicVr'), (0.16485238814342426, '563130132437536768', \"Flood insurance scheme 'wasteful': Insurance for at-risk families costs other households too much, says report. http://t.co/mwulRYIZD2\", 'alonebroken'), (0.16485238814342426, '563129191596453888', \"Flood insurance scheme 'wasteful': Insurance for at-risk families costs other households too much, says report. http://t.co/HOKoHhduXu\", 'LondonKnowHow'), (0.55392394244025034, '563127526994624512', \"#偽2ch騒動 #sexi Flood insurance scheme 'wasteful' Insurance for at-risk families costs other hou  http://t.co/Rx96COfOJn\", 'ragfim'), (0.16485238814342426, '563130166159740928', \"Flood insurance scheme 'wasteful': Insurance for at-risk families costs other households too much, says report. http://t.co/W6xl3zJ5Xf\", 'i_am_ayodimeji1'), (0.16485238814342426, '563128326676832256', \"Flood insurance scheme 'wasteful' - Insurance for at-risk families costs other households too much, says report. http://t.co/tzIQpVm7qC\", 'jonathanfost'), (0.16485238814342426, '563130134639546368', \"Flood insurance scheme 'wasteful': Insurance for at-risk families costs other households too much, says report. http://t.co/RkhrngKB70\", 'N3RD_69'), (0.16485238814342426, '563130514815471617', \"Flood insurance scheme 'wasteful': Insurance for at-risk families costs other households too much, says report. http://t.co/E0W03ENSlr\", 'SiliconAngel'), (0.5083780592417394, '563128331173101569', \"Reading about Flood insurance scheme 'wasteful' - Insurance for at-risk families costs other households too much, ... http://t.co/anPxC6zI9j\", 'irhudson'), (0.16485238814342426, '563129507687563265', \"Flood insurance scheme 'wasteful': Insurance for at-risk families costs other households too much, says report. http://t.co/RbK6L8QB04\", 'FarscapeTravel'), (0.52115226277502902, '563129178380173312', \"DTN Italy: Flood insurance scheme 'wasteful': Insurance for at-risk families costs other households too much, ... http://t.co/tBdlLwSiIy\", 'DTNItaly'), (0.16485238814342426, '563130136724123649', \"Flood insurance scheme 'wasteful': Insurance for at-risk families costs other households too much, says report. http://t.co/e7bNAmU7nb\", 'TDWealthNet'), (0.98347005481285232, '563129771580612609', \"#Unity4Malaysia Flood insurance scheme 'wasteful': Insurance for at-risk families costs othe... http://t.co/Mw87zCzRt1 @tunfaisal #PrkDR\", 'Pang5_Siber'), (0.16485238814342426, '563130516719677440', \"Flood insurance scheme 'wasteful': Insurance for at-risk families costs other households too much, says report. http://t.co/FSeIWs6SIm\", 'equalArc'), (0.16485238814342426, '563130149973929987', \"Flood insurance scheme 'wasteful': Insurance for at-risk families costs other households too much, says report. http://t.co/UflvSdoVaJ\", 'Zandy_IF'), (0.16485238814342426, '563129495683465216', \"Flood insurance scheme 'wasteful': Insurance for at-risk families costs other households too much, says report. http://t.co/dx4QA2O97k\", 'Kompascoom'), (0.98347005481285232, '563129757278035968', \"#Unity4Malaysia Flood insurance scheme 'wasteful': Insurance for at-risk families costs othe... http://t.co/9x29WySsN7 @tunfaisal #PrkDR\", 'Mr_Rem_'), (0.16485238814342426, '563130165404774401', \"Flood insurance scheme 'wasteful': Insurance for at-risk families costs other households too much, says report. http://t.co/5eFetAnJmV\", 'Blissful_Pondi'), (0.16485238814342426, '563133951858855936', \"Flood insurance scheme 'wasteful': Insurance for at-risk families costs other households too much, says report. http://t.co/ujdL1ctxbp\", 'elle0may'), (0.16485238814342426, '563133940966244352', \"Flood insurance scheme 'wasteful': Insurance for at-risk families costs other households too much, says report. http://t.co/wBcxQmGFJs\", 'WeGetYa'), (0.16485238814342426, '563133944493641731', \"Flood insurance scheme 'wasteful': Insurance for at-risk families costs other households too much, says report. http://t.co/FyIScF8iaL\", 'Franci_Gv'), (0.26339143257948222, '563133646450597888', \"Flood insurance scheme 'wasteful': Insurance for at-risk families costs other households too much, says report.\", 'WillieBarson'), (0.16485238814342426, '563133964299149312', \"Flood insurance scheme 'wasteful': Insurance for at-risk families costs other households too much, says report. http://t.co/lA4zG7BIGH\", 'Grac1e_c'), (0.16485238814342426, '563133938894245889', \"Flood insurance scheme 'wasteful': Insurance for at-risk families costs other households too much, says report. http://t.co/4IRPDxD6hs\", 'T5Web'), (0.16485238814342426, '563134754795450368', \"Flood insurance scheme 'wasteful': Insurance for at-risk families costs other households too much, says report. http://t.co/vPD1mq8e23\", 'wotanonymous'), (0.16485238814342426, '563133947618414592', \"Flood insurance scheme 'wasteful': Insurance for at-risk families costs other households too much, says report. http://t.co/V59ZMaO24K\", 'P8_Marie'), (0.16485238814342426, '563134767332216833', \"Flood insurance scheme 'wasteful': Insurance for at-risk families costs other households too much, says report. http://t.co/EGZvfZVy9d\", 'Thinking_Grey'), (0.16485238814342426, '563133935618519043', \"Flood insurance scheme 'wasteful': Insurance for at-risk families costs other households too much, says report. http://t.co/fZkvuMgJ6e\", 'Braa_Kusi'), (0.16485238814342426, '563133963443527681', \"Flood insurance scheme 'wasteful': Insurance for at-risk families costs other households too much, says report. http://t.co/UWsWa8JPif\", 'Ann_Dores'), (0.26339143257948222, '563133625281966080', \"Flood insurance scheme 'wasteful': Insurance for at-risk families costs other households too much, says report.\", 'AnoInfluence'), (0.16485238814342426, '563133958527795200', \"Flood insurance scheme 'wasteful': Insurance for at-risk families costs other households too much, says report. http://t.co/9kDqfJL8LE\", 'Jas1min'), (0.16485238814342426, '563133945533837312', \"Flood insurance scheme 'wasteful': Insurance for at-risk families costs other households too much, says report. http://t.co/wpelE1em9B\", 'bobbit2266'), (0.16485238814342426, '563133960436203520', \"Flood insurance scheme 'wasteful': Insurance for at-risk families costs other households too much, says report. http://t.co/uWv25mQga0\", '1Hope_st'), (0.16485238814342426, '563133942690103296', \"Flood insurance scheme 'wasteful': Insurance for at-risk families costs other households too much, says report. http://t.co/bOj39d3gLK\", 'Ash_Le1'), (0.16485238814342426, '563133196712148993', \"Flood insurance scheme 'wasteful': Insurance for at-risk families costs other households too much, says report. http://t.co/vvKpHkJygk\", 'Cindygulla0000'), (0.16485238814342426, '563133936931315714', \"Flood insurance scheme 'wasteful': Insurance for at-risk families costs other households too much, says report. http://t.co/vv1JAwKZRN\", 'WeCareTec'), (0.16485238814342426, '563133957508579328', \"Flood insurance scheme 'wasteful': Insurance for at-risk families costs other households too much, says report. http://t.co/4v3P4l1e0p\", 'Sab_Ladd'), (0.16485238814342426, '563134431519449088', \"Flood insurance scheme 'wasteful': Insurance for at-risk families costs other households too much, says report. http://t.co/ugLJ0xRGVg\", 'PhooDotID_JR'), (0.16485238814342426, '563140790164398080', \"Flood insurance scheme 'wasteful' - Insurance for at-risk families costs other households too much, says report. http://t.co/kbFU1yU0XL\", 'ibsinan'), (0.75801377787782254, '563145577215434752', \"News from the lab: Flood insurance scheme 'wasteful': Insurance for at-risk families costs other households to... http://t.co/ORn6WX5fSU\", 'MrHickmott'), (0.16485238814342426, '563133952009850880', \"Flood insurance scheme 'wasteful': Insurance for at-risk families costs other households too much, says report. http://t.co/udnS80D2PZ\", 'Brand_A1'), (0.16485238814342426, '563141620158054400', \"Flood insurance scheme 'wasteful': Insurance for at-risk families costs other households too much, says report. http://t.co/JsncT6jHko\", 'mr_lazuardito')]\n",
      "cluster_entropy 5.75369523265\n"
     ]
    }
   ],
   "source": [
    "print(\"cluster_no\", a_cluster['cno'] )\n",
    "\n",
    "print(\"cluster_str\", a_cluster['cstr'] )\n",
    "\n",
    "print(\"cluster_tweet_ids\", a_cluster['twids'] )\n",
    "\n",
    "print(\"cluster_freq\", a_cluster['rif'] )\n",
    "\n",
    "print(\"cluster_prefix\", a_cluster['cnoprefix'] )\n",
    "\n",
    "print(\"cluster_tuple_list\", a_cluster['ctweettuplelist'] )\n",
    "\n",
    "print(\"cluster_entropy\", a_cluster['user_entropy'] )"
   ]
  },
  {
   "cell_type": "code",
   "execution_count": 31,
   "metadata": {
    "collapsed": false
   },
   "outputs": [
    {
     "name": "stdout",
     "output_type": "stream",
     "text": [
      "Clusters were written to the collection: coll123_clusters\n"
     ]
    }
   ],
   "source": [
    "collection_name = collection + '_clusters'\n",
    "rlvdb[collection_name].insert(cluster_list) #Each iteration results with a candidate cluster list. Each iteration will have its own list. Therefore they are not mixed.\n",
    "print(\"Clusters were written to the collection:\", collection_name)"
   ]
  },
  {
   "cell_type": "code",
   "execution_count": 26,
   "metadata": {
    "collapsed": false
   },
   "outputs": [
    {
     "name": "stdout",
     "output_type": "stream",
     "text": [
      "tweets_as_text_label_df:     label                                               text\n",
      "0   relif  RT @OliverMathenge: Meanwhile, Kenya has donat...\n",
      "1  social  Yow ehyowgiddii! Hahaha thanks sa flood! #inst...\n"
     ]
    }
   ],
   "source": [
    "tweets_as_text_label_df = pd.DataFrame({'label' : ['relif', 'social'] , 'text' : [\"RT @OliverMathenge: Meanwhile, Kenya has donated Sh91 million to Malawi flood victims, according to the Ministry of Foreign Affairs.\" , \"Yow ehyowgiddii! Hahaha thanks sa flood! #instalike http://t.co/mLaTESfunR\"]})\n",
    "print(\"tweets_as_text_label_df:\", tweets_as_text_label_df)"
   ]
  },
  {
   "cell_type": "code",
   "execution_count": 27,
   "metadata": {
    "collapsed": false
   },
   "outputs": [
    {
     "name": "stdout",
     "output_type": "stream",
     "text": [
      "In get_mnb_classifier:\n",
      "Pickle file was written to vectorizer_and_classifier_dict.pickle\n"
     ]
    }
   ],
   "source": [
    "# get vectorizer and classifier\n",
    "vect_and_classifier = rlv.get_vectorizer_and_mnb_classifier(tweets_as_text_label_df, my_token_pattern, pickle_file=\"vectorizer_and_classifier_dict\")\n",
    "vectorizer, mnb_classifier = vect_and_classifier[\"vectorizer\"], vect_and_classifier[\"classifier\"]"
   ]
  },
  {
   "cell_type": "code",
   "execution_count": null,
   "metadata": {
    "collapsed": false
   },
   "outputs": [],
   "source": [
    "# get label for a new tweet:\n",
    "ntw = vectorizer.transform([\"Why do you guys keep flooding TL with smear campaign for a candidate you dont like.You think you can actually influnece people's decision?\"])\n",
    "predictions = mnb_classifier.predict(ntw)\n",
    "print(\"Predictions:\", predictions)"
   ]
  },
  {
   "cell_type": "code",
   "execution_count": null,
   "metadata": {
    "collapsed": true
   },
   "outputs": [],
   "source": [
    "rlv.logging.info('\\nscript finished')"
   ]
  },
  {
   "cell_type": "code",
   "execution_count": null,
   "metadata": {
    "collapsed": true
   },
   "outputs": [],
   "source": []
  }
 ],
 "metadata": {
  "kernelspec": {
   "display_name": "Python 3",
   "language": "python",
   "name": "python3"
  }
 },
 "nbformat": 4,
 "nbformat_minor": 0
}
