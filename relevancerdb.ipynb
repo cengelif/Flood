{
 "cells": [
  {
   "cell_type": "code",
   "execution_count": 20,
   "metadata": {
    "collapsed": false
   },
   "outputs": [],
   "source": [
    "import relevancer as rlv\n",
    "import pandas as pd\n",
    "from sklearn.naive_bayes import MultinomialNB \n",
    "from bson.objectid import ObjectId"
   ]
  },
  {
   "cell_type": "code",
   "execution_count": 21,
   "metadata": {
    "collapsed": true
   },
   "outputs": [],
   "source": [
    "my_token_pattern=r\"[#@]?\\w+\\b|[\\U00010000-\\U0010ffff]\""
   ]
  },
  {
   "cell_type": "code",
   "execution_count": 22,
   "metadata": {
    "collapsed": true
   },
   "outputs": [],
   "source": [
    "collection = 'coll123' "
   ]
  },
  {
   "cell_type": "code",
   "execution_count": 23,
   "metadata": {
    "collapsed": true
   },
   "outputs": [],
   "source": [
    "rlvdb, rlvcl = rlv.connect_mongodb(configfile='myconfig.ini',coll_name=collection)"
   ]
  },
  {
   "cell_type": "code",
   "execution_count": 24,
   "metadata": {
    "collapsed": true
   },
   "outputs": [],
   "source": [
    "begin = ObjectId('55950fb4d04475ee9867f3a4')\n",
    "end = ObjectId('55950fc9d04475ee986841c3')\n",
    "\n",
    "annotated_tw_ids = ['563657483395530753', '563662532326330370', '563654330041909248', '563654944927281152', '563657924233289728', '563661021559390208', '563651950386757632', '563657164317667328', '563660271810383872', '563662538949160960'] #You should get the actual annotated tweet ids from the annotated tweets collection.\n",
    "\n",
    "tweetlist = rlv.read_json_tweet_fields_database(rlvcl, mongo_query=({'_id': {'$gte': begin, '$lte': end},'lang':'en'}), tweet_count=10000, annotated_ids=annotated_tw_ids)\n",
    "\n",
    "rlv.logging.info(\"Number of tweets:\" + str(len(tweetlist)))"
   ]
  },
  {
   "cell_type": "code",
   "execution_count": 28,
   "metadata": {
    "collapsed": false
   },
   "outputs": [
    {
     "name": "stdout",
     "output_type": "stream",
     "text": [
      "9992\n"
     ]
    }
   ],
   "source": [
    "tweetsDF = rlv.create_dataframe(tweetlist)"
   ]
  },
  {
   "cell_type": "code",
   "execution_count": 27,
   "metadata": {
    "collapsed": false
   },
   "outputs": [
    {
     "name": "stdout",
     "output_type": "stream",
     "text": [
      "\n",
      "Available attributes of the tweets: Index(['id_str', 'is_retweet', 'text', 'texttok', 'is_notrt'], dtype='object')\n",
      "<class 'pandas.core.frame.DataFrame'>\n",
      "Int64Index: 9992 entries, 0 to 9991\n",
      "Data columns (total 5 columns):\n",
      "id_str        9992 non-null object\n",
      "is_retweet    9992 non-null bool\n",
      "text          9992 non-null object\n",
      "texttok       9992 non-null object\n",
      "is_notrt      9992 non-null bool\n",
      "dtypes: bool(2), object(3)\n",
      "memory usage: 331.8+ KB\n",
      "\n",
      "tweet set summary: None\n",
      "0    Solar Powered Motion Sensor Security Wall Floo...\n",
      "1    Brian Williams claimed he saw a 'body floating...\n",
      "2    High Lumens CREE 36W LED Work Light Bars Flood...\n",
      "3    Centre to unveil schemes for people affected b...\n",
      "4    18W CREE 4\"x4\" LED WORK LIGHT FLOOD BEAM OFFRO...\n",
      "Name: text, dtype: object\n",
      "\n",
      "tweets are NOT tokenized.\n"
     ]
    }
   ],
   "source": [
    "tok = rlv.tok_results(tweetsDF, elimrt = True)"
   ]
  },
  {
   "cell_type": "code",
   "execution_count": 9,
   "metadata": {
    "collapsed": true
   },
   "outputs": [],
   "source": [
    "start_tweet_size = len(tweetsDF)\n",
    "rlv.logging.info(\"\\nNumber of the tweets after retweet elimination:\"+ str(start_tweet_size))"
   ]
  },
  {
   "cell_type": "code",
   "execution_count": 10,
   "metadata": {
    "collapsed": false
   },
   "outputs": [
    {
     "name": "stdout",
     "output_type": "stream",
     "text": [
      "In get_tw_ids\n",
      "Length of the tweet ids and the first then ids 20000 ['563657483395530753', '563662532326330370', '563654330041909248', '563654944927281152', '563657924233289728', '563661021559390208', '563651950386757632', '563657164317667328', '563660271810383872', '563662538949160960']\n"
     ]
    }
   ],
   "source": [
    "tw_id_list = rlv.get_ids_from_tw_collection(rlvcl)\n",
    "print (\"Length of the tweet ids and the first then ids\",len(tw_id_list),tw_id_list[:10])"
   ]
  },
  {
   "cell_type": "code",
   "execution_count": 11,
   "metadata": {
    "collapsed": false
   },
   "outputs": [
    {
     "name": "stdout",
     "output_type": "stream",
     "text": [
      "In create_clusters\n",
      "20\n"
     ]
    }
   ],
   "source": [
    "cluster_list = rlv.create_clusters(tweetsDF, my_token_pattern, nameprefix='1-')\n",
    "\n",
    "print (len(cluster_list))  \n",
    "a_cluster = cluster_list[0]"
   ]
  },
  {
   "cell_type": "code",
   "execution_count": 14,
   "metadata": {
    "collapsed": false
   },
   "outputs": [],
   "source": [
    "#print(\"cluster_no\", a_cluster['cno'] )\n",
    "\n",
    "#print(\"cluster_str\", a_cluster['cstr'] )\n",
    "\n",
    "#print(\"cluster_tweet_ids\", a_cluster['twids'] )\n",
    "\n",
    "#print(\"cluster_freq\", a_cluster['rif'] )\n",
    "\n",
    "#print(\"cluster_prefix\", a_cluster['cnoprefix'] )\n",
    "\n",
    "#print(\"cluster_tuple_list\", a_cluster['ctweettuplelist'] )"
   ]
  },
  {
   "cell_type": "code",
   "execution_count": 15,
   "metadata": {
    "collapsed": false
   },
   "outputs": [
    {
     "name": "stdout",
     "output_type": "stream",
     "text": [
      "Clusters were written to the collection: coll123_clusters\n"
     ]
    }
   ],
   "source": [
    "collection_name = collection + '_clusters'\n",
    "rlvdb[collection_name].insert(cluster_list) \n",
    "print(\"Clusters were written to the collection:\", collection_name)"
   ]
  },
  {
   "cell_type": "code",
   "execution_count": 16,
   "metadata": {
    "collapsed": false
   },
   "outputs": [
    {
     "name": "stdout",
     "output_type": "stream",
     "text": [
      "tweets_as_text_label_df:     label                                               text\n",
      "0   relif  RT @OliverMathenge: Meanwhile, Kenya has donat...\n",
      "1  social  Yow ehyowgiddii! Hahaha thanks sa flood! #inst...\n"
     ]
    }
   ],
   "source": [
    "tweets_as_text_label_df = pd.DataFrame({'label' : ['relif', 'social'] , 'text' : [\"RT @OliverMathenge: Meanwhile, Kenya has donated Sh91 million to Malawi flood victims, according to the Ministry of Foreign Affairs.\" , \"Yow ehyowgiddii! Hahaha thanks sa flood! #instalike http://t.co/mLaTESfunR\"]})\n",
    "print(\"tweets_as_text_label_df:\", tweets_as_text_label_df)"
   ]
  },
  {
   "cell_type": "code",
   "execution_count": 17,
   "metadata": {
    "collapsed": false
   },
   "outputs": [
    {
     "name": "stdout",
     "output_type": "stream",
     "text": [
      "In get_mnb_classifier:\n",
      "Pickle file was written to vectorizer_and_classifier_dict.pickle\n"
     ]
    }
   ],
   "source": [
    "# get vectorizer and classifier\n",
    "vect_and_classifier = rlv.get_vectorizer_and_mnb_classifier(tweets_as_text_label_df, my_token_pattern, pickle_file=\"vectorizer_and_classifier_dict\")\n",
    "vectorizer, mnb_classifier = vect_and_classifier[\"vectorizer\"], vect_and_classifier[\"classifier\"]"
   ]
  },
  {
   "cell_type": "code",
   "execution_count": 18,
   "metadata": {
    "collapsed": false
   },
   "outputs": [
    {
     "name": "stdout",
     "output_type": "stream",
     "text": [
      "Predictions: ['relif']\n"
     ]
    }
   ],
   "source": [
    "# get label for a new tweet:\n",
    "ntw = vectorizer.transform([\"Why do you guys keep flooding TL with smear campaign for a candidate you dont like.You think you can actually influnece people's decision?\"])\n",
    "predictions = mnb_classifier.predict(ntw)\n",
    "print(\"Predictions:\", predictions)"
   ]
  },
  {
   "cell_type": "code",
   "execution_count": 19,
   "metadata": {
    "collapsed": true
   },
   "outputs": [],
   "source": [
    "rlv.logging.info('\\nscript finished')"
   ]
  }
 ],
 "metadata": {
  "kernelspec": {
   "display_name": "Python 3",
   "language": "python",
   "name": "python3"
  },
  "language_info": {
   "codemirror_mode": {
    "name": "ipython",
    "version": 3
   },
   "file_extension": ".py",
   "mimetype": "text/x-python",
   "name": "python",
   "nbconvert_exporter": "python",
   "pygments_lexer": "ipython3",
   "version": "3.4.3"
  }
 },
 "nbformat": 4,
 "nbformat_minor": 0
}
