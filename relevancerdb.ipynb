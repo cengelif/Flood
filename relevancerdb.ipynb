{
 "cells": [
  {
   "cell_type": "code",
   "execution_count": 26,
   "metadata": {
    "collapsed": false
   },
   "outputs": [],
   "source": [
    "import importlib\n",
    "import relevancer as rlv\n",
    "import pandas as pd\n",
    "from sklearn.naive_bayes import MultinomialNB \n",
    "from bson.objectid import ObjectId"
   ]
  },
  {
   "cell_type": "code",
   "execution_count": 20,
   "metadata": {
    "collapsed": true
   },
   "outputs": [],
   "source": [
    "my_token_pattern=r\"[#@]?\\w+\\b|[\\U00010000-\\U0010ffff]\""
   ]
  },
  {
   "cell_type": "code",
   "execution_count": 21,
   "metadata": {
    "collapsed": true
   },
   "outputs": [],
   "source": [
    "collection = 'coll123' "
   ]
  },
  {
   "cell_type": "code",
   "execution_count": 22,
   "metadata": {
    "collapsed": true
   },
   "outputs": [],
   "source": [
    "rlvdb, rlvcl = rlv.connect_mongodb(configfile='myconfig.ini',coll_name=collection)"
   ]
  },
  {
   "cell_type": "code",
   "execution_count": 23,
   "metadata": {
    "collapsed": true
   },
   "outputs": [],
   "source": [
    "begin = ObjectId('55950fb4d04475ee9867f3a4')\n",
    "end = ObjectId('55950fc9d04475ee986841c3')\n",
    "\n",
    "annotated_tw_ids = ['563657483395530753', '563662532326330370', '563654330041909248', '563654944927281152', '563657924233289728', '563661021559390208', '563651950386757632', '563657164317667328', '563660271810383872', '563662538949160960'] #You should get the actual annotated tweet ids from the annotated tweets collection.\n",
    "\n",
    "tweetlist = rlv.read_json_tweet_fields_database(rlvcl, mongo_query=({'_id': {'$gte': begin, '$lte': end},'lang':'en'}), tweet_count=10000, annotated_ids=annotated_tw_ids)\n",
    "\n",
    "rlv.logging.info(\"Number of tweets:\" + str(len(tweetlist)))"
   ]
  },
  {
   "cell_type": "code",
   "execution_count": 47,
   "metadata": {
    "collapsed": false
   },
   "outputs": [
    {
     "name": "stdout",
     "output_type": "stream",
     "text": [
      "9992\n"
     ]
    }
   ],
   "source": [
    "tweetsDF = rlv.create_dataframe(tweetlist)"
   ]
  },
  {
   "cell_type": "code",
   "execution_count": 48,
   "metadata": {
    "collapsed": false
   },
   "outputs": [
    {
     "name": "stdout",
     "output_type": "stream",
     "text": [
      "\n",
      "Available attributes of the tweets: Index(['id_str', 'is_retweet', 'text', 'texttok'], dtype='object')\n",
      "<class 'pandas.core.frame.DataFrame'>\n",
      "Int64Index: 9992 entries, 0 to 9991\n",
      "Data columns (total 4 columns):\n",
      "id_str        9992 non-null object\n",
      "is_retweet    9992 non-null bool\n",
      "text          9992 non-null object\n",
      "texttok       9992 non-null object\n",
      "dtypes: bool(1), object(3)\n",
      "memory usage: 322.0+ KB\n",
      "\n",
      "tweet set summary: None\n",
      "0    Solar Powered Motion Sensor Security Wall Floo...\n",
      "1    Brian Williams claimed he saw a 'body floating...\n",
      "2    High Lumens CREE 36W LED Work Light Bars Flood...\n",
      "3    Centre to unveil schemes for people affected b...\n",
      "4    18W CREE 4\"x4\" LED WORK LIGHT FLOOD BEAM OFFRO...\n",
      "Name: text, dtype: object\n",
      "\n",
      "tweets are NOT tokenized.\n"
     ]
    }
   ],
   "source": [
    "tok = rlv.tok_results(tweetsDF, elimrt = True)"
   ]
  },
  {
   "cell_type": "code",
   "execution_count": 60,
   "metadata": {
    "collapsed": false
   },
   "outputs": [
    {
     "name": "stdout",
     "output_type": "stream",
     "text": [
      "0       Solar Powered Motion Sensor Security Wall Floo...\n",
      "1       Brian Williams claimed he saw a 'body floating...\n",
      "2       High Lumens CREE 36W LED Work Light Bars Flood...\n",
      "4       18W CREE 4\"x4\" LED WORK LIGHT FLOOD BEAM OFFRO...\n",
      "6       Cars &amp; Deals : 10x 27W 12V 24V LED Work Li...\n",
      "7       #IBNA First victim of floods in Albania: Tiran...\n",
      "8       4 Simple Steps to Writing a Blog Post That Flo...\n",
      "11      Eco-tourism cover begetter regarding flood ope...\n",
      "12      Cars Deals : 10x 27W 12V 24V LED Work Light FL...\n",
      "13      I won 2007/13 poll by a landslide only to be r...\n",
      "15      Kenya donates $1m to Malawi flood victims: Sen...\n",
      "16      “@RealJamesWoods: I'm sorry, why was he drinki...\n",
      "17      Thank You sa Flood @reinborja #NewFriend http:...\n",
      "20      Cars &amp; Deals : 10x 27W 12V 24V LED Work Li...\n",
      "21      THE BEST #DEALS &gt;&gt; 10x 27W 12V 24V LED W...\n",
      "23      Did Brian Williams also lie during Hurricane K...\n",
      "24      Kashmir Floods: World Bank, J&amp;K Govt Wrap ...\n",
      "25      Cars Deals : 10x 27W 12V 24V LED Work Light FL...\n",
      "26      RT @EastHantsDC: Find out what you can do to p...\n",
      "27      High On Fire - Fire, Flood, &amp; Plague http:...\n",
      "28      A year ago today: @DisastersChart activated al...\n",
      "29          Sorry for the flood!!! http://t.co/wjuNWaNhsH\n",
      "30      RT @KiaaraSandhu: Queen of Hearts #KareenaKapo...\n",
      "31      10x 27W 12V 24V LED Work Light FLOOD Lamp Trac...\n",
      "33      Cars Deals : 10x 27W 12V 24V LED Work Light FL...\n",
      "34      Floods uproot hundreds in Albania; snow, stron...\n",
      "35      Holy spirt you are welcome here come flood thi...\n",
      "38      RT @BadPutty: Damning evidence of DWP sanction...\n",
      "39      RT @KiaaraSandhu: Queen of Hearts #KareenaKapo...\n",
      "40      New post: Dying! Progs of pallor at ‘Flood Wal...\n",
      "                              ...                        \n",
      "9946    RT @mercurie80: BBC News - Dog's 'sixth sense ...\n",
      "9947    MOTORS DEALS : http://t.co/MbeQlcCRhA #0911 10...\n",
      "9948    43inch 240W Curved Work Light Bar Flood Spot L...\n",
      "9949    #6436 Continuous Lighting Redhead Flood Light ...\n",
      "9950    234W 36inch WORK LIGHT BAR CREE LED Spot Flood...\n",
      "9951    RT @palestine: Thousands cut off from aid in d...\n",
      "9952    43inch 240W Curved Work Light Bar Flood Spot L...\n",
      "9954    CREE Led 53Inch 300W Curved Work Light Bar FLO...\n",
      "9955    The flood forecast for Sunday is... http://t.c...\n",
      "9957    RT @AnnCoulter: New Orleans flooding map: No f...\n",
      "9958    #cars #trucks - 120W 25\" Spot Flood Combo LED ...\n",
      "9960    50inch 500W 50000Lm Curved Dual Row Led Work L...\n",
      "9961    #cars #trucks - LAMPHUS Maverix 6\" CREE LED Of...\n",
      "9963    2pcs 18W Cree Flood LED Work Light Offroad Lam...\n",
      "9965    126W 20inch WORK LIGHT BAR CREE LED Spot Flood...\n",
      "9968    32\" 180W Led Work Light Bar Flood Spot Combo S...\n",
      "9969    RT @AnnCoulter: New Orleans flooding map: No f...\n",
      "9972    126W 20inch WORK LIGHT BAR CREE LED Spot Flood...\n",
      "9973    288W 44inch WORK LIGHT BAR CREE LED Spot Flood...\n",
      "9974    RT @Terehu: Some floods here when rains 5th da...\n",
      "9975    RT @leadershipheart: High tide, strong winds b...\n",
      "9976    Devastation and displacement in #Mozambique af...\n",
      "9977    UNICEF says 300,000 displaced by Malawi floods...\n",
      "9979    #VOFNEurope | Floods uproot hundreds in Albani...\n",
      "9980    RT @fox5newsdc: Capitol Heights water main bre...\n",
      "9984    RT @RealJamesWoods: I'm sorry, why was he drin...\n",
      "9986    RT @SimpleWeatherWA: Flood Warning in effect f...\n",
      "9987    RT @AnnCoulter: New Orleans flooding map: No f...\n",
      "9988    Boy and uncle survive being sucked into flood ...\n",
      "9990    180W 28inch WORK LIGHT BAR CREE LED Spot Flood...\n",
      "Name: text, dtype: object\n",
      "normalization: 0       Solar Powered Motion Sensor Security Wall Floo...\n",
      "1       Brian Williams claimed he saw a 'body floating...\n",
      "2       High Lumens CREE 36W LED Work Light Bars Flood...\n",
      "4       18W CREE 4\"x4\" LED WORK LIGHT FLOOD BEAM OFFRO...\n",
      "6       Cars &amp; Deals : 10x 27W 12V 24V LED Work Li...\n",
      "7       #IBNA First victim of floods in Albania: Tiran...\n",
      "8       4 Simple Steps to Writing a Blog Post That Flo...\n",
      "11      Eco-tourism cover begetter regarding flood ope...\n",
      "12      Cars Deals : 10x 27W 12V 24V LED Work Light FL...\n",
      "13      I won 2007/13 poll by a landslide only to be r...\n",
      "15      Kenya donates $1m to Malawi flood victims: Sen...\n",
      "16      “@RealJamesWoods: I'm sorry, why was he drinki...\n",
      "17      Thank You sa Flood @reinborja #NewFriend urlur...\n",
      "20      Cars &amp; Deals : 10x 27W 12V 24V LED Work Li...\n",
      "21      THE BEST #DEALS &gt;&gt; 10x 27W 12V 24V LED W...\n",
      "23      Did Brian Williams also lie during Hurricane K...\n",
      "24      Kashmir Floods: World Bank, J&amp;K Govt Wrap ...\n",
      "25      Cars Deals : 10x 27W 12V 24V LED Work Light FL...\n",
      "26      RT @EastHantsDC: Find out what you can do to p...\n",
      "27      High On Fire - Fire, Flood, &amp; Plague urlur...\n",
      "28      A year ago today: @DisastersChart activated al...\n",
      "29                       Sorry for the flood!!! urlurlurl\n",
      "30      RT @KiaaraSandhu: Queen of Hearts #KareenaKapo...\n",
      "31      10x 27W 12V 24V LED Work Light FLOOD Lamp Trac...\n",
      "33      Cars Deals : 10x 27W 12V 24V LED Work Light FL...\n",
      "34      Floods uproot hundreds in Albania; snow, stron...\n",
      "35      Holy spirt you are welcome here come flood thi...\n",
      "38      RT @BadPutty: Damning evidence of DWP sanction...\n",
      "39      RT @KiaaraSandhu: Queen of Hearts #KareenaKapo...\n",
      "40      New post: Dying! Progs of pallor at ‘Flood Wal...\n",
      "                              ...                        \n",
      "9946    RT @mercurie80: BBC News - Dog's 'sixth sense ...\n",
      "9947    MOTORS DEALS : urlurlurl #0911 10x 27W 12V 24V...\n",
      "9948    43inch 240W Curved Work Light Bar Flood Spot L...\n",
      "9949    #6436 Continuous Lighting Redhead Flood Light ...\n",
      "9950    234W 36inch WORK LIGHT BAR CREE LED Spot Flood...\n",
      "9951    RT @palestine: Thousands cut off from aid in d...\n",
      "9952    43inch 240W Curved Work Light Bar Flood Spot L...\n",
      "9954    CREE Led 53Inch 300W Curved Work Light Bar FLO...\n",
      "9955    The flood forecast for Sunday is... urlurlurl ...\n",
      "9957    RT @AnnCoulter: New Orleans flooding map: No f...\n",
      "9958    #cars #trucks - 120W 25\" Spot Flood Combo LED ...\n",
      "9960    50inch 500W 50000Lm Curved Dual Row Led Work L...\n",
      "9961    #cars #trucks - LAMPHUS Maverix 6\" CREE LED Of...\n",
      "9963    2pcs 18W Cree Flood LED Work Light Offroad Lam...\n",
      "9965    126W 20inch WORK LIGHT BAR CREE LED Spot Flood...\n",
      "9968    32\" 180W Led Work Light Bar Flood Spot Combo S...\n",
      "9969    RT @AnnCoulter: New Orleans flooding map: No f...\n",
      "9972    126W 20inch WORK LIGHT BAR CREE LED Spot Flood...\n",
      "9973    288W 44inch WORK LIGHT BAR CREE LED Spot Flood...\n",
      "9974    RT @Terehu: Some floods here when rains 5th da...\n",
      "9975    RT @leadershipheart: High tide, strong winds b...\n",
      "9976    Devastation and displacement in #Mozambique af...\n",
      "9977    UNICEF says 300,000 displaced by Malawi floods...\n",
      "9979    #VOFNEurope | Floods uproot hundreds in Albani...\n",
      "9980    RT @fox5newsdc: Capitol Heights water main bre...\n",
      "9984    RT @RealJamesWoods: I'm sorry, why was he drin...\n",
      "9986    RT @SimpleWeatherWA: Flood Warning in effect f...\n",
      "9987    RT @AnnCoulter: New Orleans flooding map: No f...\n",
      "9988    Boy and uncle survive being sucked into flood ...\n",
      "9990    180W 28inch WORK LIGHT BAR CREE LED Spot Flood...\n",
      "Name: active_text, dtype: object\n"
     ]
    },
    {
     "name": "stderr",
     "output_type": "stream",
     "text": [
      "/home/elif/Project/Relevancer/relevancer.py:365: SettingWithCopyWarning: \n",
      "A value is trying to be set on a copy of a slice from a DataFrame.\n",
      "Try using .loc[row_indexer,col_indexer] = value instead\n",
      "\n",
      "See the the caveats in the documentation: http://pandas.pydata.org/pandas-docs/stable/indexing.html#indexing-view-versus-copy\n",
      "  \n"
     ]
    }
   ],
   "source": [
    "importlib.reload(rlv)\n",
    "tst_https = tweetsDF[tweetsDF.text.str.contains(\"https\")]#[\"text\"]\n",
    "tst_http = tweetsDF[tweetsDF.text.str.contains(\"http:\")]#[\"text\"]\n",
    "tstDF = tst_http\n",
    "\n",
    "tstDF = rlv.normalize_text(tstDF)\n",
    "print(tstDF[\"text\"])#.iloc[10])\n",
    "rlv.logging.info(\"This text overwritten by tokenizer\" + str(tstDF[\"text\"]))\n",
    "print(\"normalization:\",tstDF[\"active_text\"]) #.iloc[10])\n",
    "rlv.logging.info(\"This text overwritten by normalization\" + str(tstDF[\"active_text\"]))"
   ]
  },
  {
   "cell_type": "code",
   "execution_count": 59,
   "metadata": {
    "collapsed": false,
    "scrolled": true
   },
   "outputs": [
    {
     "name": "stdout",
     "output_type": "stream",
     "text": [
      "0       Solar Powered Motion Sensor Security Wall Floo...\n",
      "1       Brian Williams claimed he saw a 'body floating...\n",
      "2       High Lumens CREE 36W LED Work Light Bars Flood...\n",
      "4       18W CREE 4\"x4\" LED WORK LIGHT FLOOD BEAM OFFRO...\n",
      "6       Cars &amp; Deals : 10x 27W 12V 24V LED Work Li...\n",
      "7       #IBNA First victim of floods in Albania: Tiran...\n",
      "8       4 Simple Steps to Writing a Blog Post That Flo...\n",
      "11      Eco-tourism cover begetter regarding flood ope...\n",
      "12      Cars Deals : 10x 27W 12V 24V LED Work Light FL...\n",
      "13      I won 2007/13 poll by a landslide only to be r...\n",
      "15      Kenya donates $1m to Malawi flood victims: Sen...\n",
      "16      “@RealJamesWoods: I'm sorry, why was he drinki...\n",
      "17      Thank You sa Flood @reinborja #NewFriend http:...\n",
      "20      Cars &amp; Deals : 10x 27W 12V 24V LED Work Li...\n",
      "21      THE BEST #DEALS &gt;&gt; 10x 27W 12V 24V LED W...\n",
      "23      Did Brian Williams also lie during Hurricane K...\n",
      "24      Kashmir Floods: World Bank, J&amp;K Govt Wrap ...\n",
      "25      Cars Deals : 10x 27W 12V 24V LED Work Light FL...\n",
      "26      RT @EastHantsDC: Find out what you can do to p...\n",
      "27      High On Fire - Fire, Flood, &amp; Plague http:...\n",
      "28      A year ago today: @DisastersChart activated al...\n",
      "29          Sorry for the flood!!! http://t.co/wjuNWaNhsH\n",
      "30      RT @KiaaraSandhu: Queen of Hearts #KareenaKapo...\n",
      "31      10x 27W 12V 24V LED Work Light FLOOD Lamp Trac...\n",
      "33      Cars Deals : 10x 27W 12V 24V LED Work Light FL...\n",
      "34      Floods uproot hundreds in Albania; snow, stron...\n",
      "35      Holy spirt you are welcome here come flood thi...\n",
      "38      RT @BadPutty: Damning evidence of DWP sanction...\n",
      "39      RT @KiaaraSandhu: Queen of Hearts #KareenaKapo...\n",
      "40      New post: Dying! Progs of pallor at ‘Flood Wal...\n",
      "                              ...                        \n",
      "9946    RT @mercurie80: BBC News - Dog's 'sixth sense ...\n",
      "9947    MOTORS DEALS : http://t.co/MbeQlcCRhA #0911 10...\n",
      "9948    43inch 240W Curved Work Light Bar Flood Spot L...\n",
      "9949    #6436 Continuous Lighting Redhead Flood Light ...\n",
      "9950    234W 36inch WORK LIGHT BAR CREE LED Spot Flood...\n",
      "9951    RT @palestine: Thousands cut off from aid in d...\n",
      "9952    43inch 240W Curved Work Light Bar Flood Spot L...\n",
      "9954    CREE Led 53Inch 300W Curved Work Light Bar FLO...\n",
      "9955    The flood forecast for Sunday is... http://t.c...\n",
      "9957    RT @AnnCoulter: New Orleans flooding map: No f...\n",
      "9958    #cars #trucks - 120W 25\" Spot Flood Combo LED ...\n",
      "9960    50inch 500W 50000Lm Curved Dual Row Led Work L...\n",
      "9961    #cars #trucks - LAMPHUS Maverix 6\" CREE LED Of...\n",
      "9963    2pcs 18W Cree Flood LED Work Light Offroad Lam...\n",
      "9965    126W 20inch WORK LIGHT BAR CREE LED Spot Flood...\n",
      "9968    32\" 180W Led Work Light Bar Flood Spot Combo S...\n",
      "9969    RT @AnnCoulter: New Orleans flooding map: No f...\n",
      "9972    126W 20inch WORK LIGHT BAR CREE LED Spot Flood...\n",
      "9973    288W 44inch WORK LIGHT BAR CREE LED Spot Flood...\n",
      "9974    RT @Terehu: Some floods here when rains 5th da...\n",
      "9975    RT @leadershipheart: High tide, strong winds b...\n",
      "9976    Devastation and displacement in #Mozambique af...\n",
      "9977    UNICEF says 300,000 displaced by Malawi floods...\n",
      "9979    #VOFNEurope | Floods uproot hundreds in Albani...\n",
      "9980    RT @fox5newsdc: Capitol Heights water main bre...\n",
      "9984    RT @RealJamesWoods: I'm sorry, why was he drin...\n",
      "9986    RT @SimpleWeatherWA: Flood Warning in effect f...\n",
      "9987    RT @AnnCoulter: New Orleans flooding map: No f...\n",
      "9988    Boy and uncle survive being sucked into flood ...\n",
      "9990    180W 28inch WORK LIGHT BAR CREE LED Spot Flood...\n",
      "Name: text, dtype: object\n",
      "normalization: 0       Solar Powered Motion Sensor Security Wall Floo...\n",
      "1       Brian Williams claimed he saw a 'body floating...\n",
      "2       High Lumens CREE 36W LED Work Light Bars Flood...\n",
      "4       18W CREE 4\"x4\" LED WORK LIGHT FLOOD BEAM OFFRO...\n",
      "6       Cars &amp; Deals : 10x 27W 12V 24V LED Work Li...\n",
      "7       #IBNA First victim of floods in Albania: Tiran...\n",
      "8       4 Simple Steps to Writing a Blog Post That Flo...\n",
      "11      Eco-tourism cover begetter regarding flood ope...\n",
      "12      Cars Deals : 10x 27W 12V 24V LED Work Light FL...\n",
      "13      I won 2007/13 poll by a landslide only to be r...\n",
      "15      Kenya donates $1m to Malawi flood victims: Sen...\n",
      "16      “@RealJamesWoods: I'm sorry, why was he drinki...\n",
      "17      Thank You sa Flood @reinborja #NewFriend urlur...\n",
      "20      Cars &amp; Deals : 10x 27W 12V 24V LED Work Li...\n",
      "21      THE BEST #DEALS &gt;&gt; 10x 27W 12V 24V LED W...\n",
      "23      Did Brian Williams also lie during Hurricane K...\n",
      "24      Kashmir Floods: World Bank, J&amp;K Govt Wrap ...\n",
      "25      Cars Deals : 10x 27W 12V 24V LED Work Light FL...\n",
      "26      RT @EastHantsDC: Find out what you can do to p...\n",
      "27      High On Fire - Fire, Flood, &amp; Plague urlur...\n",
      "28      A year ago today: @DisastersChart activated al...\n",
      "29                       Sorry for the flood!!! urlurlurl\n",
      "30      RT @KiaaraSandhu: Queen of Hearts #KareenaKapo...\n",
      "31      10x 27W 12V 24V LED Work Light FLOOD Lamp Trac...\n",
      "33      Cars Deals : 10x 27W 12V 24V LED Work Light FL...\n",
      "34      Floods uproot hundreds in Albania; snow, stron...\n",
      "35      Holy spirt you are welcome here come flood thi...\n",
      "38      RT @BadPutty: Damning evidence of DWP sanction...\n",
      "39      RT @KiaaraSandhu: Queen of Hearts #KareenaKapo...\n",
      "40      New post: Dying! Progs of pallor at ‘Flood Wal...\n",
      "                              ...                        \n",
      "9946    RT @mercurie80: BBC News - Dog's 'sixth sense ...\n",
      "9947    MOTORS DEALS : urlurlurl #0911 10x 27W 12V 24V...\n",
      "9948    43inch 240W Curved Work Light Bar Flood Spot L...\n",
      "9949    #6436 Continuous Lighting Redhead Flood Light ...\n",
      "9950    234W 36inch WORK LIGHT BAR CREE LED Spot Flood...\n",
      "9951    RT @palestine: Thousands cut off from aid in d...\n",
      "9952    43inch 240W Curved Work Light Bar Flood Spot L...\n",
      "9954    CREE Led 53Inch 300W Curved Work Light Bar FLO...\n",
      "9955    The flood forecast for Sunday is... urlurlurl ...\n",
      "9957    RT @AnnCoulter: New Orleans flooding map: No f...\n",
      "9958    #cars #trucks - 120W 25\" Spot Flood Combo LED ...\n",
      "9960    50inch 500W 50000Lm Curved Dual Row Led Work L...\n",
      "9961    #cars #trucks - LAMPHUS Maverix 6\" CREE LED Of...\n",
      "9963    2pcs 18W Cree Flood LED Work Light Offroad Lam...\n",
      "9965    126W 20inch WORK LIGHT BAR CREE LED Spot Flood...\n",
      "9968    32\" 180W Led Work Light Bar Flood Spot Combo S...\n",
      "9969    RT @AnnCoulter: New Orleans flooding map: No f...\n",
      "9972    126W 20inch WORK LIGHT BAR CREE LED Spot Flood...\n",
      "9973    288W 44inch WORK LIGHT BAR CREE LED Spot Flood...\n",
      "9974    RT @Terehu: Some floods here when rains 5th da...\n",
      "9975    RT @leadershipheart: High tide, strong winds b...\n",
      "9976    Devastation and displacement in #Mozambique af...\n",
      "9977    UNICEF says 300,000 displaced by Malawi floods...\n",
      "9979    #VOFNEurope | Floods uproot hundreds in Albani...\n",
      "9980    RT @fox5newsdc: Capitol Heights water main bre...\n",
      "9984    RT @RealJamesWoods: I'm sorry, why was he drin...\n",
      "9986    RT @SimpleWeatherWA: Flood Warning in effect f...\n",
      "9987    RT @AnnCoulter: New Orleans flooding map: No f...\n",
      "9988    Boy and uncle survive being sucked into flood ...\n",
      "9990    180W 28inch WORK LIGHT BAR CREE LED Spot Flood...\n",
      "Name: active_text, dtype: object\n"
     ]
    },
    {
     "name": "stderr",
     "output_type": "stream",
     "text": [
      "/home/elif/Project/Relevancer/relevancer.py:365: SettingWithCopyWarning: \n",
      "A value is trying to be set on a copy of a slice from a DataFrame.\n",
      "Try using .loc[row_indexer,col_indexer] = value instead\n",
      "\n",
      "See the the caveats in the documentation: http://pandas.pydata.org/pandas-docs/stable/indexing.html#indexing-view-versus-copy\n",
      "  \n"
     ]
    }
   ],
   "source": [
    "\n",
    "start_tweet_size = len(tweetsDF)\n",
    "rlv.logging.info(\"\\nNumber of the tweets after retweet elimination:\"+ str(start_tweet_size))"
   ]
  },
  {
   "cell_type": "code",
   "execution_count": 10,
   "metadata": {
    "collapsed": false
   },
   "outputs": [
    {
     "name": "stdout",
     "output_type": "stream",
     "text": [
      "In get_tw_ids\n",
      "Length of the tweet ids and the first then ids 20000 ['563657483395530753', '563662532326330370', '563654330041909248', '563654944927281152', '563657924233289728', '563661021559390208', '563651950386757632', '563657164317667328', '563660271810383872', '563662538949160960']\n"
     ]
    }
   ],
   "source": [
    "tw_id_list = rlv.get_ids_from_tw_collection(rlvcl)\n",
    "print (\"Length of the tweet ids and the first then ids\",len(tw_id_list),tw_id_list[:10])"
   ]
  },
  {
   "cell_type": "code",
   "execution_count": 11,
   "metadata": {
    "collapsed": false
   },
   "outputs": [
    {
     "name": "stdout",
     "output_type": "stream",
     "text": [
      "In create_clusters\n",
      "20\n"
     ]
    }
   ],
   "source": [
    "cluster_list = rlv.create_clusters(tweetsDF, my_token_pattern, nameprefix='1-')\n",
    "\n",
    "print (len(cluster_list))  \n",
    "a_cluster = cluster_list[0]"
   ]
  },
  {
   "cell_type": "code",
   "execution_count": 14,
   "metadata": {
    "collapsed": false
   },
   "outputs": [],
   "source": [
    "#print(\"cluster_no\", a_cluster['cno'] )\n",
    "\n",
    "#print(\"cluster_str\", a_cluster['cstr'] )\n",
    "\n",
    "#print(\"cluster_tweet_ids\", a_cluster['twids'] )\n",
    "\n",
    "#print(\"cluster_freq\", a_cluster['rif'] )\n",
    "\n",
    "#print(\"cluster_prefix\", a_cluster['cnoprefix'] )\n",
    "\n",
    "#print(\"cluster_tuple_list\", a_cluster['ctweettuplelist'] )"
   ]
  },
  {
   "cell_type": "code",
   "execution_count": 15,
   "metadata": {
    "collapsed": false
   },
   "outputs": [
    {
     "name": "stdout",
     "output_type": "stream",
     "text": [
      "Clusters were written to the collection: coll123_clusters\n"
     ]
    }
   ],
   "source": [
    "collection_name = collection + '_clusters'\n",
    "rlvdb[collection_name].insert(cluster_list) \n",
    "print(\"Clusters were written to the collection:\", collection_name)"
   ]
  },
  {
   "cell_type": "code",
   "execution_count": 16,
   "metadata": {
    "collapsed": false
   },
   "outputs": [
    {
     "name": "stdout",
     "output_type": "stream",
     "text": [
      "tweets_as_text_label_df:     label                                               text\n",
      "0   relif  RT @OliverMathenge: Meanwhile, Kenya has donat...\n",
      "1  social  Yow ehyowgiddii! Hahaha thanks sa flood! #inst...\n"
     ]
    }
   ],
   "source": [
    "tweets_as_text_label_df = pd.DataFrame({'label' : ['relif', 'social'] , 'text' : [\"RT @OliverMathenge: Meanwhile, Kenya has donated Sh91 million to Malawi flood victims, according to the Ministry of Foreign Affairs.\" , \"Yow ehyowgiddii! Hahaha thanks sa flood! #instalike http://t.co/mLaTESfunR\"]})\n",
    "print(\"tweets_as_text_label_df:\", tweets_as_text_label_df)"
   ]
  },
  {
   "cell_type": "code",
   "execution_count": 17,
   "metadata": {
    "collapsed": false
   },
   "outputs": [
    {
     "name": "stdout",
     "output_type": "stream",
     "text": [
      "In get_mnb_classifier:\n",
      "Pickle file was written to vectorizer_and_classifier_dict.pickle\n"
     ]
    }
   ],
   "source": [
    "# get vectorizer and classifier\n",
    "vect_and_classifier = rlv.get_vectorizer_and_mnb_classifier(tweets_as_text_label_df, my_token_pattern, pickle_file=\"vectorizer_and_classifier_dict\")\n",
    "vectorizer, mnb_classifier = vect_and_classifier[\"vectorizer\"], vect_and_classifier[\"classifier\"]"
   ]
  },
  {
   "cell_type": "code",
   "execution_count": 18,
   "metadata": {
    "collapsed": false
   },
   "outputs": [
    {
     "name": "stdout",
     "output_type": "stream",
     "text": [
      "Predictions: ['relif']\n"
     ]
    }
   ],
   "source": [
    "# get label for a new tweet:\n",
    "ntw = vectorizer.transform([\"Why do you guys keep flooding TL with smear campaign for a candidate you dont like.You think you can actually influnece people's decision?\"])\n",
    "predictions = mnb_classifier.predict(ntw)\n",
    "print(\"Predictions:\", predictions)"
   ]
  },
  {
   "cell_type": "code",
   "execution_count": 19,
   "metadata": {
    "collapsed": true
   },
   "outputs": [],
   "source": [
    "rlv.logging.info('\\nscript finished')"
   ]
  }
 ],
 "metadata": {
  "kernelspec": {
   "display_name": "Python 3",
   "language": "python",
   "name": "python3"
  },
  "language_info": {
   "codemirror_mode": {
    "name": "ipython",
    "version": 3
   },
   "file_extension": ".py",
   "mimetype": "text/x-python",
   "name": "python",
   "nbconvert_exporter": "python",
   "pygments_lexer": "ipython3",
   "version": "3.4.3"
  }
 },
 "nbformat": 4,
 "nbformat_minor": 0
}
